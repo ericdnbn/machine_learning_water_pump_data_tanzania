{
 "cells": [
  {
   "cell_type": "markdown",
   "metadata": {},
   "source": [
    "# Import Cell"
   ]
  },
  {
   "cell_type": "code",
   "execution_count": 680,
   "metadata": {},
   "outputs": [],
   "source": [
    "import pandas as pd\n",
    "import matplotlib.pyplot as plt\n",
    "import seaborn as sns\n",
    "import warnings\n",
    "import numpy as np\n",
    "from sklearn.model_selection import train_test_split,cross_validate , GridSearchCV, cross_val_predict\n",
    "from sklearn.neighbors import KNeighborsClassifier\n",
    "from sklearn.linear_model import LogisticRegression\n",
    "from sklearn.pipeline import Pipeline\n",
    "from sklearn.preprocessing import OneHotEncoder , StandardScaler \n",
    "from sklearn.compose import ColumnTransformer\n",
    "from sklearn.metrics import confusion_matrix, plot_confusion_matrix , accuracy_score,recall_score,f1_score,precision_score\n",
    "from sklearn.dummy import DummyClassifier\n",
    "from sklearn.ensemble import RandomForestClassifier\n",
    "%matplotlib inline\n",
    "warnings.filterwarnings(\"ignore\")"
   ]
  },
  {
   "cell_type": "markdown",
   "metadata": {},
   "source": [
    "# Early EDA"
   ]
  },
  {
   "cell_type": "code",
   "execution_count": 257,
   "metadata": {},
   "outputs": [],
   "source": [
    "df1 = pd.read_csv('data/Training Set Values.csv')\n",
    "df2 = pd.read_csv('data/Training Set Labels.csv')\n",
    "pd.set_option('display.max_columns',None)"
   ]
  },
  {
   "cell_type": "code",
   "execution_count": 258,
   "metadata": {},
   "outputs": [
    {
     "name": "stdout",
     "output_type": "stream",
     "text": [
      "<class 'pandas.core.frame.DataFrame'>\n",
      "RangeIndex: 59400 entries, 0 to 59399\n",
      "Data columns (total 40 columns):\n",
      " #   Column                 Non-Null Count  Dtype  \n",
      "---  ------                 --------------  -----  \n",
      " 0   id                     59400 non-null  int64  \n",
      " 1   amount_tsh             59400 non-null  float64\n",
      " 2   date_recorded          59400 non-null  object \n",
      " 3   funder                 55765 non-null  object \n",
      " 4   gps_height             59400 non-null  int64  \n",
      " 5   installer              55745 non-null  object \n",
      " 6   longitude              59400 non-null  float64\n",
      " 7   latitude               59400 non-null  float64\n",
      " 8   wpt_name               59400 non-null  object \n",
      " 9   num_private            59400 non-null  int64  \n",
      " 10  basin                  59400 non-null  object \n",
      " 11  subvillage             59029 non-null  object \n",
      " 12  region                 59400 non-null  object \n",
      " 13  region_code            59400 non-null  int64  \n",
      " 14  district_code          59400 non-null  int64  \n",
      " 15  lga                    59400 non-null  object \n",
      " 16  ward                   59400 non-null  object \n",
      " 17  population             59400 non-null  int64  \n",
      " 18  public_meeting         56066 non-null  object \n",
      " 19  recorded_by            59400 non-null  object \n",
      " 20  scheme_management      55523 non-null  object \n",
      " 21  scheme_name            31234 non-null  object \n",
      " 22  permit                 56344 non-null  object \n",
      " 23  construction_year      59400 non-null  int64  \n",
      " 24  extraction_type        59400 non-null  object \n",
      " 25  extraction_type_group  59400 non-null  object \n",
      " 26  extraction_type_class  59400 non-null  object \n",
      " 27  management             59400 non-null  object \n",
      " 28  management_group       59400 non-null  object \n",
      " 29  payment                59400 non-null  object \n",
      " 30  payment_type           59400 non-null  object \n",
      " 31  water_quality          59400 non-null  object \n",
      " 32  quality_group          59400 non-null  object \n",
      " 33  quantity               59400 non-null  object \n",
      " 34  quantity_group         59400 non-null  object \n",
      " 35  source                 59400 non-null  object \n",
      " 36  source_type            59400 non-null  object \n",
      " 37  source_class           59400 non-null  object \n",
      " 38  waterpoint_type        59400 non-null  object \n",
      " 39  waterpoint_type_group  59400 non-null  object \n",
      "dtypes: float64(3), int64(7), object(30)\n",
      "memory usage: 18.1+ MB\n"
     ]
    }
   ],
   "source": [
    "df1.info()"
   ]
  },
  {
   "cell_type": "code",
   "execution_count": 259,
   "metadata": {},
   "outputs": [],
   "source": [
    "df1.fillna('unknown',inplace=True)"
   ]
  },
  {
   "cell_type": "markdown",
   "metadata": {},
   "source": [
    "Since all of our null values are objects, we filled them in as unknown for now so we can keep the whole dataset. We also need to join the labels and train set on ID."
   ]
  },
  {
   "cell_type": "code",
   "execution_count": 260,
   "metadata": {},
   "outputs": [
    {
     "name": "stdout",
     "output_type": "stream",
     "text": [
      "Percent of functional: 54.31\n",
      "Percent of non functional: 38.42\n",
      "Percent of pumps needing repairs: 7.27\n",
      "\n"
     ]
    }
   ],
   "source": [
    "# Here we add the status of the pumps into our main DF\n",
    "dic = dict(zip(df2['id'],df2['status_group']))\n",
    "df1['status'] = df1['id'].map(dic)\n",
    "\n",
    "# Look at the distribution of our target values\n",
    "df = df1.loc[df1['status'] == 'functional']\n",
    "len(df) / len(df1)\n",
    "\n",
    "non_sum = len(df1.loc[df1['status'] == 'non functional']) / len(df1) \n",
    "funciontal_sum = len(df) / len(df1) \n",
    "needs_repairs = 1-(non_sum+funciontal_sum)\n",
    "needs_repairs\n",
    "print(f'''Percent of functional: {round(funciontal_sum*100,2)}\n",
    "Percent of non functional: {round(non_sum*100,2)}\n",
    "Percent of pumps needing repairs: {round(needs_repairs*100,2)}\n",
    "''')"
   ]
  },
  {
   "cell_type": "markdown",
   "metadata": {},
   "source": [
    "Since functional needs repairs only makes up 7% of our dataset, we have decided to convert this value to functional for easier modelling. This puts our target value at roughly a 62 to 38 percent distribution."
   ]
  },
  {
   "cell_type": "code",
   "execution_count": 261,
   "metadata": {},
   "outputs": [],
   "source": [
    "#binary_key = {'functional': 0,'functional needs repair': 0, 'non functional': 1}\n",
    "#df1['status'].replace(binary_key, inplace=True)"
   ]
  },
  {
   "cell_type": "markdown",
   "metadata": {},
   "source": [
    "Here we convert our functional / non functional to a binary value."
   ]
  },
  {
   "cell_type": "code",
   "execution_count": 262,
   "metadata": {},
   "outputs": [
    {
     "name": "stdout",
     "output_type": "stream",
     "text": [
      "Scheme name values: ['Roman' 'unknown' 'Nyumba ya mungu pipe scheme' ... 'BL Nsherehehe'\n",
      " 'Magati  gravity spri' 'Mtawanya'] \n",
      "\n",
      "Scheme management values: ['VWC' 'Other' 'unknown' 'Private operator' 'WUG' 'Water Board' 'WUA'\n",
      " 'Water authority' 'Company' 'Parastatal' 'Trust' 'SWC' 'None']\n"
     ]
    }
   ],
   "source": [
    "\n",
    "print(f'''Scheme name values: {df1['scheme_name'].unique()} \n",
    "\n",
    "Scheme management values: {df1['scheme_management'].unique()}''')\n",
    "df1.drop(['num_private','public_meeting','scheme_name','id','funder','installer'],axis=1,inplace=True)"
   ]
  },
  {
   "cell_type": "markdown",
   "metadata": {},
   "source": [
    "Dropping columns we do not think that will not hold any value. \n",
    "Num_private is an undefined column with all zeroes.\n",
    "Public meeting is defined as a True/False value in our column description and gives no indication to what it means.\n",
    "id is simply the ID of the pump we used to join our dataframes on.\n",
    "Scheme name seems to be similar to scheme management. "
   ]
  },
  {
   "cell_type": "code",
   "execution_count": 263,
   "metadata": {},
   "outputs": [
    {
     "name": "stdout",
     "output_type": "stream",
     "text": [
      "\n",
      "Source Values: ['spring' 'rainwater harvesting' 'dam' 'machine dbh' 'other'\n",
      " 'shallow well' 'river' 'hand dtw' 'lake' 'unknown']\n",
      "\n",
      "Source_class Values: ['groundwater' 'surface' 'unknown']\n",
      "\n",
      "Source_type Values: ['spring' 'rainwater harvesting' 'dam' 'borehole' 'other' 'shallow well'\n",
      " 'river/lake']\n"
     ]
    }
   ],
   "source": [
    "source , source_class, source_type =df1['source'].unique() , df1['source_class'].unique() , df1['source_type'].unique()\n",
    "\n",
    "print(f'''\n",
    "Source Values: {source}\n",
    "\n",
    "Source_class Values: {source_class}\n",
    "\n",
    "Source_type Values: {source_type}''')\n",
    "\n",
    "#Drop the columnd we will not use from our DF\n",
    "df1.drop(['source_type'],axis=1,inplace=True)"
   ]
  },
  {
   "cell_type": "markdown",
   "metadata": {},
   "source": [
    "We have decided to keep Source Values and Source class Values as we think they will provide the most value to our model. The source type values column is a less specific version of the source values column."
   ]
  },
  {
   "cell_type": "code",
   "execution_count": 264,
   "metadata": {},
   "outputs": [
    {
     "name": "stdout",
     "output_type": "stream",
     "text": [
      "\n",
      "Extraction Type Values: ['gravity' 'submersible' 'swn 80' 'nira/tanira' 'india mark ii' 'other'\n",
      " 'ksb' 'mono' 'windmill' 'afridev' 'other - rope pump' 'india mark iii'\n",
      " 'other - swn 81' 'other - play pump' 'cemo' 'climax' 'walimi'\n",
      " 'other - mkulima/shinyanga']\n",
      "\n",
      "Extraction Type Group Values: ['gravity' 'submersible' 'swn 80' 'nira/tanira' 'india mark ii' 'other'\n",
      " 'mono' 'wind-powered' 'afridev' 'rope pump' 'india mark iii'\n",
      " 'other handpump' 'other motorpump']\n",
      "\n",
      "Extraction Type Class: ['gravity' 'submersible' 'handpump' 'other' 'motorpump' 'wind-powered'\n",
      " 'rope pump']\n"
     ]
    }
   ],
   "source": [
    "extraction_type, extraction_type_group, extraction_type_class = df1['extraction_type'].unique() , df1['extraction_type_group'].unique() , df1['extraction_type_class'].unique()\n",
    "\n",
    "print(f'''\n",
    "Extraction Type Values: {extraction_type}\n",
    "\n",
    "Extraction Type Group Values: {extraction_type_group}\n",
    "\n",
    "Extraction Type Class: {extraction_type_class}''')\n",
    "\n",
    "#Drop the columnd we will not use from our DF\n",
    "df1.drop(['extraction_type_group','extraction_type_class'],inplace = True,axis=1)"
   ]
  },
  {
   "cell_type": "markdown",
   "metadata": {},
   "source": [
    "We have decided to keep the extraction type column as we think they will provide the most value to our model. The other two columns are a similar to the extraction values column but more vague."
   ]
  },
  {
   "cell_type": "code",
   "execution_count": 265,
   "metadata": {},
   "outputs": [
    {
     "data": {
      "text/plain": [
       "37400"
      ]
     },
     "execution_count": 265,
     "metadata": {},
     "output_type": "execute_result"
    }
   ],
   "source": [
    "len(df1['wpt_name'].unique())"
   ]
  },
  {
   "cell_type": "markdown",
   "metadata": {},
   "source": [
    "This column is the name of the water point which does not help us in our model. Subvillage, lga and ward are also listed as geographic information, but gives us no information we find that is useful. Region is also a more vague version of region id. "
   ]
  },
  {
   "cell_type": "code",
   "execution_count": 266,
   "metadata": {},
   "outputs": [],
   "source": [
    "#Drop selected columns\n",
    "df1.drop(['wpt_name','subvillage','lga','ward','region'],axis=1,inplace=True)"
   ]
  },
  {
   "cell_type": "code",
   "execution_count": 267,
   "metadata": {},
   "outputs": [
    {
     "name": "stdout",
     "output_type": "stream",
     "text": [
      "Waterpoint Type Group values:['communal standpipe' 'hand pump' 'other' 'improved spring'\n",
      " 'cattle trough' 'dam'] , \n",
      "\n",
      "Waterpoint type values: ['communal standpipe' 'communal standpipe multiple' 'hand pump' 'other'\n",
      " 'improved spring' 'cattle trough' 'dam']\n"
     ]
    }
   ],
   "source": [
    "\n",
    "print(f'''Waterpoint Type Group values:{df1['waterpoint_type_group'].unique()} , \n",
    "\n",
    "Waterpoint type values: {df1['waterpoint_type'].unique()}''')\n",
    "\n",
    "df1.drop(['waterpoint_type_group'],axis=1,inplace=True)"
   ]
  },
  {
   "cell_type": "markdown",
   "metadata": {},
   "source": [
    "The waterpoint type column is a more specific version of the waterpoint type group. The group values column does not have the multiple standpipe option. We drop the waterpoint type group to use in our dataset. The date recorded column is just when the data was entered into the spreadsheet."
   ]
  },
  {
   "cell_type": "code",
   "execution_count": 268,
   "metadata": {},
   "outputs": [
    {
     "data": {
      "text/plain": [
       "0       20709\n",
       "2010     2645\n",
       "Name: construction_year, dtype: int64"
      ]
     },
     "execution_count": 268,
     "metadata": {},
     "output_type": "execute_result"
    }
   ],
   "source": [
    "vals = df1['construction_year'].value_counts()\n",
    "vals[:2]"
   ]
  },
  {
   "cell_type": "markdown",
   "metadata": {},
   "source": [
    "For the construction year column, we have a little over 20,000 values with missing data.The next highest value is 2010, with 2645 wells! We will fill in the missing data with the median for the construction year, then make an age column for the pumps and drop the date recorded colum. We are assuming the age of the pump from the time the data was entered into the spreadsheet."
   ]
  },
  {
   "cell_type": "code",
   "execution_count": 269,
   "metadata": {},
   "outputs": [],
   "source": [
    "# Fill in the zeroes with median of the year column\n",
    "\n",
    "#Find median of column\n",
    "#median_no_zero = int(df1[df1['construction_year'] > 0]['construction_year'].median())\n",
    "# Find rows where construction year is zero and fill in with median , which is year 2000\n",
    "#df1.loc[(df1['construction_year'] == 0),'construction_year'] = median_no_zero\n",
    "#df1.loc[(df1['construction_year'] > df1['date_recorded'].str[:4].astype(int)),'construction_year'] = median_no_zero\n",
    "#Subtract construction year from date recorded\n",
    "#df1['age'] = df1['date_recorded'].str[:4].astype(int) - df1['construction_year']\n"
   ]
  },
  {
   "cell_type": "code",
   "execution_count": 270,
   "metadata": {},
   "outputs": [],
   "source": [
    "# We drop the date recorded column as we no longer need it\n",
    "#df1.drop('date_recorded',axis=1,inplace=True)"
   ]
  },
  {
   "cell_type": "code",
   "execution_count": 271,
   "metadata": {},
   "outputs": [],
   "source": [
    "# Converts this column from boolean to string\n",
    "df1['permit'] = df1['permit'].astype(str)"
   ]
  },
  {
   "cell_type": "code",
   "execution_count": 272,
   "metadata": {},
   "outputs": [],
   "source": [
    "#makes a copy of df that has not been converted to binary values for target\n",
    "df_non_binary = df1.copy()\n",
    "\n",
    "# Apply the binary function to our target.\n",
    "binary_key = {'functional': 0,'functional needs repair': 0, 'non functional': 1}\n",
    "df1['status'].replace(binary_key, inplace=True)"
   ]
  },
  {
   "cell_type": "code",
   "execution_count": null,
   "metadata": {},
   "outputs": [],
   "source": []
  },
  {
   "cell_type": "code",
   "execution_count": 756,
   "metadata": {},
   "outputs": [],
   "source": [
    "# Some functions that may provide to be useful\n",
    "def total_val_count(column):\n",
    "    '''Creates a dictionary with all value counts in column'''\n",
    "    counts = {}\n",
    "    for i in df1[column]:\n",
    "        counts[i] = counts.get(i, 0) + 1\n",
    "    counts_sorted = dict(sorted(counts.items(), key=lambda item: item[1],reverse=True))\n",
    "    return counts_sorted\n",
    "    \n",
    "\n",
    "def val_count_nf(column):\n",
    "    df_val = pd.DataFrame(df1.loc[(df1['status'] == 1)])\n",
    "    counts = {}\n",
    "    for i in df_val[column]:\n",
    "        counts[i] = counts.get(i, 0) + 1\n",
    "    counts_sorted = dict(sorted(counts.items(), key=lambda item: item[1],reverse=True))\n",
    "    return counts_sorted\n",
    "\n",
    "def addlabels(x,y,left,up):\n",
    "    for i in range(len(x)):\n",
    "        plt.text(i-left,y[i]+up,y[i])\n",
    "\n",
    "def percent_dict(column):\n",
    "    \n",
    "    '''Creates a dictionary that has highest percent of non functioning pumps'''\n",
    "    percent= []\n",
    "    lst = list(df1[column].unique())\n",
    "    for val in lst:\n",
    "        num_pumps = len(df1.loc[df1[column] == val])\n",
    "        fail_pumps = len(df1.loc[(df1['status'] == 1) & (df1[column] == val)])\n",
    "        percent.append(round((fail_pumps/num_pumps*100),2))     \n",
    "    d = dict(zip(lst,percent))\n",
    "    d_sorted = dict(sorted(d.items(), key=lambda item: item[1],reverse=True))\n",
    "    return d_sorted\n",
    "\n",
    "def visualize(dictionary,title=None):\n",
    "    \n",
    "    '''Creates Seaborn Barplot from Dictionary'''\n",
    "    nums = list(dictionary.values())\n",
    "    \n",
    "    fig , ax = plt.subplots(figsize=(12,10))\n",
    "\n",
    "    sns.barplot(x=list(dictionary.keys()),y=nums)\n",
    "    ax.set_title(title,fontsize=15)\n",
    "    ax.set_ylabel('Percent Non Functioning',fontsize=15);\n",
    "\n",
    "def stack_it(column,title=None):\n",
    "    fig , axes = plt.subplots(nrows=1,ncols=1,figsize=(12,8))\n",
    "    \n",
    "    column_count = total_val_count(column)\n",
    "    nums = list(column_count.values())[:5]\n",
    "    top_5 = list(column_count.keys())[:5]\n",
    "    transform = val_count_nf(column)\n",
    "    num_failed = []\n",
    "    for x in top_5:\n",
    "        for y in transform.keys():\n",
    "            if x == y:\n",
    "                num_failed.append(transform[y])\n",
    "        \n",
    "    \n",
    "    sns.barplot(x=top_5,y=nums,alpha=.4,label='Total Count')\n",
    "    \n",
    "    sns.barplot(x=top_5, y=num_failed,label='Amount Failed')"
   ]
  },
  {
   "cell_type": "code",
   "execution_count": 757,
   "metadata": {},
   "outputs": [
    {
     "data": {
      "text/plain": [
       "{'gravity': 26780,\n",
       " 'nira/tanira': 8154,\n",
       " 'other': 6430,\n",
       " 'submersible': 4764,\n",
       " 'swn 80': 3670,\n",
       " 'mono': 2865,\n",
       " 'india mark ii': 2400,\n",
       " 'afridev': 1770,\n",
       " 'ksb': 1415,\n",
       " 'other - rope pump': 451,\n",
       " 'other - swn 81': 229,\n",
       " 'windmill': 117,\n",
       " 'india mark iii': 98,\n",
       " 'cemo': 90,\n",
       " 'other - play pump': 85,\n",
       " 'walimi': 48,\n",
       " 'climax': 32,\n",
       " 'other - mkulima/shinyanga': 2}"
      ]
     },
     "execution_count": 757,
     "metadata": {},
     "output_type": "execute_result"
    }
   ],
   "source": [
    "#val_count_nf('extraction_type')\n",
    "total_extraction = total_val_count('extraction_type')\n",
    "total_extraction"
   ]
  },
  {
   "cell_type": "code",
   "execution_count": 758,
   "metadata": {},
   "outputs": [
    {
     "data": {
      "text/plain": [
       "{'gravity': 8031,\n",
       " 'other': 5195,\n",
       " 'nira/tanira': 2092,\n",
       " 'submersible': 1911,\n",
       " 'mono': 1654,\n",
       " 'swn 80': 1368,\n",
       " 'india mark ii': 873,\n",
       " 'ksb': 686,\n",
       " 'afridev': 528,\n",
       " 'other - rope pump': 141,\n",
       " 'other - swn 81': 102,\n",
       " 'windmill': 60,\n",
       " 'other - play pump': 55,\n",
       " 'india mark iii': 53,\n",
       " 'cemo': 36,\n",
       " 'climax': 24,\n",
       " 'walimi': 13,\n",
       " 'other - mkulima/shinyanga': 2}"
      ]
     },
     "execution_count": 758,
     "metadata": {},
     "output_type": "execute_result"
    }
   ],
   "source": [
    "df_new = val_count_nf('extraction_type')\n",
    "df_new"
   ]
  },
  {
   "cell_type": "code",
   "execution_count": 773,
   "metadata": {},
   "outputs": [],
   "source": [
    "def stack_it(column,title=None):\n",
    "    fig , axes = plt.subplots(nrows=1,ncols=1,figsize=(12,8))\n",
    "    \n",
    "    column_count = total_val_count(column)\n",
    "    nums = list(column_count.values())[:5]\n",
    "    top_5 = list(column_count.keys())[:5]\n",
    "    transform = val_count_nf(column)\n",
    "    num_failed = []\n",
    "    for x in top_5:\n",
    "        for y in transform.keys():\n",
    "            if x == y:\n",
    "                num_failed.append(transform[y])\n",
    "        \n",
    "    axes.set_title(title,fontsize=15)\n",
    "    sns.barplot(x=top_5,y=nums,alpha=.4,label='Total Count',color='green')\n",
    "    \n",
    "    sns.barplot(x=top_5, y=num_failed,label='Amount Failed',color='red')\n"
   ]
  },
  {
   "cell_type": "code",
   "execution_count": 774,
   "metadata": {},
   "outputs": [
    {
     "data": {
      "image/png": "[encoded data removed]",
      "text/plain": [
       "<Figure size 864x576 with 1 Axes>"
      ]
     },
     "metadata": {
      "needs_background": "light"
     },
     "output_type": "display_data"
    }
   ],
   "source": [
    "stack_it('source',title='Source Non functioning')\n",
    "\n",
    "plt.legend();\n"
   ]
  },
  {
   "cell_type": "code",
   "execution_count": 276,
   "metadata": {},
   "outputs": [
    {
     "data": {
      "image/png": "[encoded data removed]",
      "text/plain": [
       "<Figure size 864x576 with 1 Axes>"
      ]
     },
     "metadata": {
      "needs_background": "light"
     },
     "output_type": "display_data"
    }
   ],
   "source": [
    "fig , axes = plt.subplots(nrows=1,ncols=1,figsize=(12,8))\n",
    "\n",
    "nums = list(total_extraction.values())\n",
    "\n",
    "sns.barplot(x=list(total_extraction.keys())[:5],y=nums[:5],alpha=.4,label='Total Count')\n",
    "plt.xticks(rotation=80,fontsize=15)\n",
    "plt.yticks(fontsize=15)\n",
    "\n",
    "\n",
    "sns.barplot(x=list(total_extraction.keys())[:5], y=[8031,2092,5195,1911,1368],label='Amount Failed')\n",
    "axes.set_title('Count of Extraction types',fontsize=15)\n",
    "axes.set_ylabel('Count',fontsize=15);\n",
    "plt.legend();"
   ]
  },
  {
   "cell_type": "markdown",
   "metadata": {},
   "source": [
    "The highest number of failed extraction types seem to be gravity. Let's get a better look at how all of the pumps do. There are only 2 mkulima / shinyanga valuesto_dict we remove them. "
   ]
  },
  {
   "cell_type": "code",
   "execution_count": 277,
   "metadata": {},
   "outputs": [
    {
     "data": {
      "image/png": "[encoded data removed]",
      "text/plain": [
       "<Figure size 864x720 with 1 Axes>"
      ]
     },
     "metadata": {
      "needs_background": "light"
     },
     "output_type": "display_data"
    }
   ],
   "source": [
    "\n",
    "#Percent of failures for pumps:\n",
    "extraction_type = percent_dict('extraction_type')\n",
    "test = dict(sorted(extraction_type.items(), key=lambda item: item[1]))\n",
    "#Remove the key with 2 values\n",
    "del test['other - mkulima/shinyanga']\n",
    "# Put our percentages in a list\n",
    "nums = list(test.values())\n",
    "#Create Custom Labels\n",
    "labels = ['Other','Climax','Mono','India Mark 3','Windmill','KSB','SWN 81','Submersible','Cemo','SWM 80',\n",
    "          'India Mark 2','Rope Pump','Gravity','Afridev','Walimi','Nira/Tanira','Play Pump']\n",
    "\n",
    "fig , ax = plt.subplots(figsize=(12,10))\n",
    "\n",
    "sns.barplot(x=list(test.keys())[:5],y=nums[:5])\n",
    "ax.set_title('Water Extraction Type Non Functioning Pumps',fontsize=15)\n",
    "plt.xticks(rotation=80,fontsize=15)\n",
    "plt.yticks(fontsize=15)\n",
    "ax.set_ylabel('Percent Non Functioning',fontsize=15);\n",
    "#addlabels(labels,nums,.4,.3);\n",
    "\n",
    "#plt.savefig('images/Water Extraction Type')"
   ]
  },
  {
   "cell_type": "markdown",
   "metadata": {},
   "source": [
    "The highest percent of failures seem to come from extraction types  Climax, Mono and India Mark 3 extraction types. So while gravity has a high number of failed extraction types, it ranks low in overall failures. It would be very interesting if we could ID the 'Other' category to get more information on what extraction types would cause more non functioning pumps."
   ]
  },
  {
   "cell_type": "code",
   "execution_count": 278,
   "metadata": {},
   "outputs": [
    {
     "data": {
      "text/plain": [
       "water_quality     \n",
       "soft                  18154\n",
       "salty                  2411\n",
       "unknown                1577\n",
       "milky                   352\n",
       "coloured                190\n",
       "salty abandoned          93\n",
       "fluoride                 36\n",
       "fluoride abandoned       11\n",
       "dtype: int64"
      ]
     },
     "execution_count": 278,
     "metadata": {},
     "output_type": "execute_result"
    }
   ],
   "source": [
    "val_count('water_quality')"
   ]
  },
  {
   "cell_type": "markdown",
   "metadata": {},
   "source": [
    "Here we see soft water has the highest number of failures. This looks like the number is high because it is also the most common water type. We would expect water with higher solid contents (such as saltwater) to have a high percent of failures because of the wear and tear caused by the solids in the water. "
   ]
  },
  {
   "cell_type": "code",
   "execution_count": 279,
   "metadata": {},
   "outputs": [
    {
     "data": {
      "image/png": "[encoded data removed]",
      "text/plain": [
       "<Figure size 864x720 with 1 Axes>"
      ]
     },
     "metadata": {
      "needs_background": "light"
     },
     "output_type": "display_data"
    }
   ],
   "source": [
    "water_quality = percent_dict('water_quality')\n",
    "visualize(water_quality,title='Water Quality Non Functioning Pumps')\n",
    "plt.xticks(rotation=45,fontsize=15)\n",
    "plt.yticks(fontsize=15);\n"
   ]
  },
  {
   "cell_type": "markdown",
   "metadata": {},
   "source": [
    "Just as we thought, soft water is in the lower percentage of failures. Saltwater pumps are in the higher percentage range for failures, while abondoned saltwater pumps have a lower failure rate. Perhaps the failure rate is lower for the abandoned saltwater pumps because they no longer see usage. Were they abandoned because the pumps quit working or because the water source is saltwater? With such a high amount of abandoned salt pumps (339 total, 93 pumps non functioning), one could assume the pump was abandoned because salt water is not valuable. \n",
    "\n",
    "Unknown water types take the lead for failures. It would be interesting to see the solid content percent of those unknown water types, as we think more solids in the water leads to more failures. Other things (like flow rates) would affect the failures also. The faster the solids move in water, the more damage they will do to pumps!  "
   ]
  },
  {
   "cell_type": "code",
   "execution_count": 280,
   "metadata": {},
   "outputs": [
    {
     "data": {
      "text/plain": [
       "(339, 93)"
      ]
     },
     "execution_count": 280,
     "metadata": {},
     "output_type": "execute_result"
    }
   ],
   "source": [
    "len(df1.loc[df1['water_quality'] == 'salty abandoned']) , len(df1.loc[(df1['status'] == 1) & (df1['water_quality'] == 'salty abandoned')])"
   ]
  },
  {
   "cell_type": "code",
   "execution_count": 281,
   "metadata": {},
   "outputs": [
    {
     "data": {
      "text/plain": [
       "(17, 11)"
      ]
     },
     "execution_count": 281,
     "metadata": {},
     "output_type": "execute_result"
    }
   ],
   "source": [
    "len(df1.loc[df1['water_quality'] == 'fluoride abandoned']) , len(df1.loc[(df1['status'] == 1) & (df1['water_quality'] == 'fluoride abandoned')])"
   ]
  },
  {
   "cell_type": "markdown",
   "metadata": {},
   "source": [
    "There are only 17 abondoned fluoride wells, with 11 of them not working. This is the reason the percentage is so high."
   ]
  },
  {
   "cell_type": "code",
   "execution_count": 282,
   "metadata": {},
   "outputs": [
    {
     "data": {
      "image/png": "[encoded data removed]",
      "text/plain": [
       "<Figure size 864x720 with 1 Axes>"
      ]
     },
     "metadata": {
      "needs_background": "light"
     },
     "output_type": "display_data"
    }
   ],
   "source": [
    "source = percent_dict('source')\n",
    "visualize(source,title='Water Sources Non Functioning Pumps')\n",
    "plt.xticks([0, 1, 2, 3 ,4 ,5, 6, 7, 8, 9], ['Lake','Dam','Machine Borehole','Unknown','Shallow Well','Hand DTW','Other','River','Spring','Rain Harvesting'],\n",
    "    rotation=20);\n"
   ]
  },
  {
   "cell_type": "code",
   "execution_count": 310,
   "metadata": {},
   "outputs": [
    {
     "data": {
      "text/plain": [
       "Index(['amount_tsh', 'date_recorded', 'gps_height', 'longitude', 'latitude',\n",
       "       'basin', 'region_code', 'district_code', 'population', 'recorded_by',\n",
       "       'scheme_management', 'permit', 'construction_year', 'extraction_type',\n",
       "       'management', 'management_group', 'payment', 'payment_type',\n",
       "       'water_quality', 'quality_group', 'quantity', 'quantity_group',\n",
       "       'source', 'source_class', 'waterpoint_type', 'status'],\n",
       "      dtype='object')"
      ]
     },
     "execution_count": 310,
     "metadata": {},
     "output_type": "execute_result"
    }
   ],
   "source": [
    "df1.columns"
   ]
  },
  {
   "cell_type": "markdown",
   "metadata": {},
   "source": [
    "Lakes and dams seem to have the Highest percent of pump failures followed by dams then boreholes. Lakes could have a high failure rate because they see the most usage along with dams. "
   ]
  },
  {
   "cell_type": "markdown",
   "metadata": {},
   "source": [
    "# Model Development"
   ]
  },
  {
   "cell_type": "code",
   "execution_count": 284,
   "metadata": {},
   "outputs": [],
   "source": [
    "#Prepare function to get metrics\n",
    "def metrics(y_test,y_preds):\n",
    "    return print(f'''Recall Score: {recall_score(y_test,y_preds)}\n",
    "Precision Score: {precision_score(y_test,y_preds)}\n",
    "Accuracy Score:{accuracy_score(y_test,y_preds)}\n",
    "F1 Score: {f1_score(y_test,y_preds)}\n",
    "Matrix: \n",
    "{confusion_matrix(y_test,y_preds)}''')"
   ]
  },
  {
   "cell_type": "code",
   "execution_count": 285,
   "metadata": {},
   "outputs": [
    {
     "name": "stdout",
     "output_type": "stream",
     "text": [
      "Dummy Accuracy Score: 0.6157575757575758\n"
     ]
    }
   ],
   "source": [
    "# Create a dummy model for starting point\n",
    "X = df_non_binary.drop(['status'],axis=1)\n",
    "y = df_non_binary['status']\n",
    "\n",
    "dummy_model = DummyClassifier(strategy=\"most_frequent\")\n",
    "\n",
    "X_train,X_test,y_train,y_test = train_test_split(X,y,test_size=.25,random_state=42,stratify=y)\n",
    "\n",
    "binary_key = {'functional': 0,'functional needs repair': 0, 'non functional': 1}\n",
    "y_train.replace(binary_key, inplace=True)\n",
    "\n",
    "\n",
    "cv_results = cross_validate(dummy_model, X_train, y_train, return_train_score=True)\n",
    "\n",
    "\n",
    "print(f'''Dummy Accuracy Score: {cv_results['test_score'].mean()}''')"
   ]
  },
  {
   "cell_type": "code",
   "execution_count": null,
   "metadata": {},
   "outputs": [],
   "source": []
  },
  {
   "cell_type": "markdown",
   "metadata": {},
   "source": [
    "# KNN Model"
   ]
  },
  {
   "cell_type": "code",
   "execution_count": 286,
   "metadata": {},
   "outputs": [],
   "source": [
    "# Prepare for testing\n",
    "X = df_non_binary.drop(['status'],axis=1)\n",
    "y = df_non_binary['status']"
   ]
  },
  {
   "cell_type": "code",
   "execution_count": 287,
   "metadata": {},
   "outputs": [],
   "source": [
    "#Split our data. We stratify Y to make sure the split is balanced.\n",
    "X_train,X_test,y_train,y_test = train_test_split(X,y,test_size=.25,random_state=42,stratify=y)\n",
    "\n",
    "binary_key = {'functional': 0,'functional needs repair': 0, 'non functional': 1}\n",
    "y_train.replace(binary_key, inplace=True)\n",
    "y_test.replace(binary_key,inplace=True)"
   ]
  },
  {
   "cell_type": "code",
   "execution_count": 288,
   "metadata": {},
   "outputs": [],
   "source": [
    "# Find median of column\n",
    "median_no_zero = int(X_train[X_train['construction_year'] > 0]['construction_year'].median())\n",
    "# Find rows where construction year is zero and fill in with median , which is year 2000\n",
    "X_train.loc[(X_train['construction_year'] == 0),'construction_year'] = median_no_zero\n",
    "X_train.loc[(X_train['construction_year'] > X_train['date_recorded'].str[:4].astype(int)),'construction_year'] = median_no_zero\n",
    "#Subtract construction year from date recorded\n",
    "X_train['age']=X_train['date_recorded'].str[:4].astype(int) - X_train['construction_year']\n",
    "#Drop Date recorded\n",
    "X_train.drop('date_recorded',axis=1,inplace=True)"
   ]
  },
  {
   "cell_type": "code",
   "execution_count": 289,
   "metadata": {},
   "outputs": [],
   "source": [
    "#Apply \n",
    "median_no_zero = int(X_test[X_test['construction_year'] > 0]['construction_year'].median())\n",
    "# Find rows where construction year is zero and fill in with median , which is year 2000\n",
    "X_test.loc[(X_test['construction_year'] == 0),'construction_year'] = median_no_zero\n",
    "X_test.loc[(X_test['construction_year'] > X_test['date_recorded'].str[:4].astype(int)),'construction_year'] = median_no_zero\n",
    "#Subtract construction year from date recorded\n",
    "X_test['age']=X_test['date_recorded'].str[:4].astype(int) - X_test['construction_year']\n",
    "#Drop Date recorded\n",
    "X_test.drop('date_recorded',axis=1,inplace=True)"
   ]
  },
  {
   "cell_type": "code",
   "execution_count": 290,
   "metadata": {},
   "outputs": [],
   "source": [
    "#Split columns into number and objects\n",
    "categorical_cols = X_train.select_dtypes('object')\n",
    "numerical_cols = X_train.select_dtypes(exclude=['object'])\n",
    "\n",
    "#Prepare pipeline steps for each of the column types\n",
    "categorical_pipeline = Pipeline(steps=[('ohe', OneHotEncoder(handle_unknown='ignore'))])\n",
    "numerical_pipeline = Pipeline(steps=[('ss', StandardScaler())])\n",
    "\n",
    "# col_trans = ColumnTransformer(transformers=[('ohe', OneHotEncoder(handle_unknown='ignore'), categorical_cols)],\n",
    "#                               remainder='passthrough')\n",
    "\n",
    "# Set up column transformer to plug into our pipeline\n",
    "trans = ColumnTransformer(transformers=[\n",
    "    ('numerical', numerical_pipeline, numerical_cols.columns),\n",
    "    ('categorical', categorical_pipeline, categorical_cols.columns)\n",
    "])\n",
    "\n",
    "# Set up our pipeline and use a KNN model first.\n",
    "base_pipline = Pipeline(steps=[('trans', trans),\n",
    "                              ('model', KNeighborsClassifier())])\n",
    "\n",
    "cv = cross_validate(base_pipline, X_train, y_train, return_train_score=True)\n"
   ]
  },
  {
   "cell_type": "code",
   "execution_count": 291,
   "metadata": {},
   "outputs": [
    {
     "name": "stdout",
     "output_type": "stream",
     "text": [
      "Mean of Test Scores:0.8254320987654321\n",
      "Mean of Training Scores: 0.8767340067340067\n"
     ]
    }
   ],
   "source": [
    "print(f'''Mean of Test Scores:{cv['test_score'].mean()}\n",
    "Mean of Training Scores: {cv['train_score'].mean()}''')"
   ]
  },
  {
   "cell_type": "markdown",
   "metadata": {},
   "source": [
    "Our model has good bias for a first model, which we will consider low. Our variance is a little high. Our model is overfit."
   ]
  },
  {
   "cell_type": "code",
   "execution_count": 295,
   "metadata": {},
   "outputs": [
    {
     "data": {
      "text/plain": [
       "GridSearchCV(cv=3,\n",
       "             estimator=Pipeline(steps=[('trans',\n",
       "                                        ColumnTransformer(transformers=[('numerical',\n",
       "                                                                         Pipeline(steps=[('ss',\n",
       "                                                                                          StandardScaler())]),\n",
       "                                                                         Index(['amount_tsh', 'gps_height', 'longitude', 'latitude', 'region_code',\n",
       "       'district_code', 'population', 'construction_year', 'age'],\n",
       "      dtype='object')),\n",
       "                                                                        ('categorical',\n",
       "                                                                         Pipeline(steps=[('ohe',\n",
       "                                                                                          OneHotEncoder(handle_unknown=...\n",
       "                                                                         Index(['basin', 'recorded_by', 'scheme_management', 'permit',\n",
       "       'extraction_type', 'management', 'management_group', 'payment',\n",
       "       'payment_type', 'water_quality', 'quality_group', 'quantity',\n",
       "       'quantity_group', 'source', 'source_class', 'waterpoint_type'],\n",
       "      dtype='object'))])),\n",
       "                                       ('model', KNeighborsClassifier())]),\n",
       "             param_grid={'model__n_neighbors': [5, 7, 11, 15, 21],\n",
       "                         'model__weights': ['distance', 'uniform']})"
      ]
     },
     "execution_count": 295,
     "metadata": {},
     "output_type": "execute_result"
    }
   ],
   "source": [
    "# Use GridSearch in order to find the best parameters for our model\n",
    "\n",
    "grid= {'model__n_neighbors': [5,7,11,15,21],\n",
    "      'model__weights': ['distance','uniform'],\n",
    "      }\n",
    "\n",
    "gs = GridSearchCV(base_pipline,grid,cv=3)\n",
    "gs.fit(X_train,y_train)\n"
   ]
  },
  {
   "cell_type": "code",
   "execution_count": 297,
   "metadata": {},
   "outputs": [
    {
     "data": {
      "text/plain": [
       "({'model__n_neighbors': 21, 'model__weights': 'distance'}, 0.8280808080808081)"
      ]
     },
     "execution_count": 297,
     "metadata": {},
     "output_type": "execute_result"
    }
   ],
   "source": [
    "# Fit our pipeline with best parameters and see what they are\n",
    "base_pipline.fit(X_train,y_train)\n",
    "gs.best_params_ , gs.best_score_ \n"
   ]
  },
  {
   "cell_type": "code",
   "execution_count": null,
   "metadata": {},
   "outputs": [],
   "source": []
  },
  {
   "cell_type": "code",
   "execution_count": 301,
   "metadata": {},
   "outputs": [],
   "source": [
    "cv_predict_KNN = cross_val_predict(base_pipline,X_train,y_train)"
   ]
  },
  {
   "cell_type": "code",
   "execution_count": 302,
   "metadata": {},
   "outputs": [
    {
     "name": "stdout",
     "output_type": "stream",
     "text": [
      "Recall Score: 0.8010700702636498\n",
      "Precision Score: 0.7259609767496202\n",
      "Accuracy Score:0.8254320987654321\n",
      "F1 Score: 0.7616683521804419\n",
      "Matrix: \n",
      "[[24346  4691]\n",
      " [ 3086 12427]]\n"
     ]
    }
   ],
   "source": [
    "# Look at our scoring metrics and confusion matrix\n",
    "knn_metrics = metrics(cv_predict_KNN,y_train)"
   ]
  },
  {
   "cell_type": "markdown",
   "metadata": {},
   "source": [
    "Gridsearch improved our accuracy score by a small amount. The best number of neighbors is 21 and distance our best weight. We still have a moderate amount of variance in our model."
   ]
  },
  {
   "cell_type": "markdown",
   "metadata": {},
   "source": [
    "# Logistic Model"
   ]
  },
  {
   "cell_type": "markdown",
   "metadata": {},
   "source": [
    "Here we will try another model, going with logistic this time. We will follow a similar process as last time with pipeline. We will change the model type and the hyper parameters in grid search."
   ]
  },
  {
   "cell_type": "code",
   "execution_count": 304,
   "metadata": {},
   "outputs": [],
   "source": [
    "X = df_non_binary.drop(['status'],axis=1)\n",
    "y = df_non_binary['status']\n",
    "\n",
    "X_train,X_test,y_train,y_test = train_test_split(X,y,test_size=.25,random_state=42,stratify=y)\n",
    "\n",
    "binary_key = {'functional': 0,'functional needs repair': 0, 'non functional': 1}\n",
    "y_train.replace(binary_key, inplace=True)"
   ]
  },
  {
   "cell_type": "code",
   "execution_count": 305,
   "metadata": {},
   "outputs": [],
   "source": [
    "\n",
    "categorical_cols = X_train.select_dtypes('object')\n",
    "numerical_cols = X_train.select_dtypes(exclude=['object'])\n",
    "\n",
    "categorical_pipeline = Pipeline(steps=[('ohe', OneHotEncoder(handle_unknown='ignore'))])\n",
    "\n",
    "numerical_pipeline = Pipeline(steps=[('ss', StandardScaler())])\n",
    "\n",
    "trans = ColumnTransformer(transformers=[\n",
    "    ('numerical', numerical_pipeline, numerical_cols.columns),\n",
    "    ('categorical', categorical_pipeline, categorical_cols.columns)\n",
    "])\n",
    "\n",
    "# Change model type and hyper parameters\n",
    "\n",
    "base_pipline = Pipeline(steps=[('trans', trans),\n",
    "                              ('model', LogisticRegression(random_state=42))])\n",
    "\n",
    "\n",
    "grid = {'model__C' : [ 1, 50],\n",
    "       'model__max_iter' : [100, 200],\n",
    "       'model__class_weight': [None, 'balanced', 0.25],\n",
    "       'model__tol' : [0.01, 0.1]}\n",
    "\n",
    "gs = GridSearchCV(base_pipline, grid, cv=3)\n"
   ]
  },
  {
   "cell_type": "code",
   "execution_count": 306,
   "metadata": {},
   "outputs": [
    {
     "data": {
      "text/plain": [
       "GridSearchCV(cv=3,\n",
       "             estimator=Pipeline(steps=[('trans',\n",
       "                                        ColumnTransformer(transformers=[('numerical',\n",
       "                                                                         Pipeline(steps=[('ss',\n",
       "                                                                                          StandardScaler())]),\n",
       "                                                                         Index(['amount_tsh', 'gps_height', 'longitude', 'latitude', 'region_code',\n",
       "       'district_code', 'population', 'construction_year'],\n",
       "      dtype='object')),\n",
       "                                                                        ('categorical',\n",
       "                                                                         Pipeline(steps=[('ohe',\n",
       "                                                                                          OneHotEncoder(handle_unknown='ignor...\n",
       "       'extraction_type', 'management', 'management_group', 'payment',\n",
       "       'payment_type', 'water_quality', 'quality_group', 'quantity',\n",
       "       'quantity_group', 'source', 'source_class', 'waterpoint_type'],\n",
       "      dtype='object'))])),\n",
       "                                       ('model',\n",
       "                                        LogisticRegression(random_state=42))]),\n",
       "             param_grid={'model__C': [1, 50],\n",
       "                         'model__class_weight': [None, 'balanced', 0.25],\n",
       "                         'model__max_iter': [100, 200],\n",
       "                         'model__tol': [0.01, 0.1]})"
      ]
     },
     "execution_count": 306,
     "metadata": {},
     "output_type": "execute_result"
    }
   ],
   "source": [
    "gs.fit(X_train, y_train)"
   ]
  },
  {
   "cell_type": "code",
   "execution_count": 313,
   "metadata": {},
   "outputs": [
    {
     "data": {
      "text/plain": [
       "({'model__C': 1,\n",
       "  'model__class_weight': None,\n",
       "  'model__max_iter': 100,\n",
       "  'model__tol': 0.01},\n",
       " 0.793625140291807)"
      ]
     },
     "execution_count": 313,
     "metadata": {},
     "output_type": "execute_result"
    }
   ],
   "source": [
    "gs.best_params_ , gs.best_score_ "
   ]
  },
  {
   "cell_type": "markdown",
   "metadata": {},
   "source": [
    "Our score is a little worse than the KNN model."
   ]
  },
  {
   "cell_type": "code",
   "execution_count": 307,
   "metadata": {},
   "outputs": [
    {
     "name": "stdout",
     "output_type": "stream",
     "text": [
      "Train Score: 0.7981762065095398  \n",
      "Test Score: 0.7931762065095398\n"
     ]
    }
   ],
   "source": [
    "cv = cross_validate(base_pipline, X_train, y_train, return_train_score=True)\n",
    "print(f'''Train Score: {cv['train_score'].mean()}  \n",
    "Test Score: {cv['test_score'].mean()}''')"
   ]
  },
  {
   "cell_type": "markdown",
   "metadata": {},
   "source": [
    "This model does have low variance with similar bias to our KNN model. Our overfitting problem is reduced but we sacrificed some accuracy for it."
   ]
  },
  {
   "cell_type": "code",
   "execution_count": null,
   "metadata": {},
   "outputs": [],
   "source": [
    "y_pred = cros_val_predict()\n",
    "metrics()"
   ]
  },
  {
   "cell_type": "code",
   "execution_count": 315,
   "metadata": {},
   "outputs": [],
   "source": [
    "cv_predict_log = cross_val_predict(base_pipline,X_train,y_train)"
   ]
  },
  {
   "cell_type": "code",
   "execution_count": 316,
   "metadata": {},
   "outputs": [
    {
     "name": "stdout",
     "output_type": "stream",
     "text": [
      "Recall Score: 0.8130544993662865\n",
      "Precision Score: 0.599602757331464\n",
      "Accuracy Score:0.7931762065095398\n",
      "F1 Score: 0.6902024073700491\n",
      "Matrix: \n",
      "[[25072  6854]\n",
      " [ 2360 10264]]\n"
     ]
    }
   ],
   "source": [
    "log_metrics = metrics(cv_predict_log,y_train)"
   ]
  },
  {
   "cell_type": "markdown",
   "metadata": {},
   "source": [
    "This model has low bias and low variance. This is not a bad model overall, but we will explore other model types to see if accuracy can be improved."
   ]
  },
  {
   "cell_type": "markdown",
   "metadata": {},
   "source": [
    "# Random Forest Model"
   ]
  },
  {
   "cell_type": "code",
   "execution_count": 483,
   "metadata": {},
   "outputs": [],
   "source": [
    "#We repeat the same steps as above\n",
    "X = df_non_binary.drop(['status'],axis=1)\n",
    "y = df_non_binary['status']\n",
    "\n",
    "X_train,X_test,y_train,y_test = train_test_split(X,y,test_size=.25,random_state=42,stratify=y)\n",
    "\n",
    "binary_key = {'functional': 0,'functional needs repair': 0, 'non functional': 1}\n",
    "y_train.replace(binary_key, inplace=True)"
   ]
  },
  {
   "cell_type": "code",
   "execution_count": 485,
   "metadata": {},
   "outputs": [],
   "source": [
    "median_no_zero = int(X_train[X_train['construction_year'] > 0]['construction_year'].median())\n",
    "# Find rows where construction year is zero and fill in with median , which is year 2000\n",
    "X_train.loc[(X_train['construction_year'] == 0),'construction_year'] = median_no_zero"
   ]
  },
  {
   "cell_type": "code",
   "execution_count": 486,
   "metadata": {},
   "outputs": [],
   "source": [
    "categorical_cols = X_train.select_dtypes('object')\n",
    "numerical_cols = X_train.select_dtypes(exclude=['object'])"
   ]
  },
  {
   "cell_type": "code",
   "execution_count": 487,
   "metadata": {},
   "outputs": [],
   "source": [
    "trans = ColumnTransformer(transformers=[('ohe', OneHotEncoder(handle_unknown='ignore'), categorical_cols.columns)],\n",
    "remainder='passthrough')"
   ]
  },
  {
   "cell_type": "code",
   "execution_count": 488,
   "metadata": {},
   "outputs": [
    {
     "ename": "SyntaxError",
     "evalue": "closing parenthesis ']' does not match opening parenthesis '(' on line 3 (<ipython-input-488-e26a7aeefa81>, line 4)",
     "output_type": "error",
     "traceback": [
      "\u001b[1;36m  File \u001b[1;32m\"<ipython-input-488-e26a7aeefa81>\"\u001b[1;36m, line \u001b[1;32m4\u001b[0m\n\u001b[1;33m    ])\u001b[0m\n\u001b[1;37m    ^\u001b[0m\n\u001b[1;31mSyntaxError\u001b[0m\u001b[1;31m:\u001b[0m closing parenthesis ']' does not match opening parenthesis '(' on line 3\n"
     ]
    }
   ],
   "source": [
    "model_pipe = Pipeline(steps=[\n",
    "    ('trans', trans),\n",
    "    ('rfc', RandomForestClassifier(random_state=42)\n",
    "])"
   ]
  },
  {
   "cell_type": "code",
   "execution_count": 321,
   "metadata": {},
   "outputs": [],
   "source": [
    "grid = [{'rfc__n_estimators':[100],\n",
    "         'rfc__criterion':['gini', 'entropy'],\n",
    "         'rfc__max_depth':[None,3,5],\n",
    "         'rfc__min_samples_split':[2,5,10],\n",
    "         'rfc__min_samples_leaf':[1,3,5,7]}]"
   ]
  },
  {
   "cell_type": "code",
   "execution_count": 322,
   "metadata": {},
   "outputs": [],
   "source": [
    "gs_pipe = GridSearchCV(estimator=model_pipe, param_grid=grid, cv=3, return_train_score=True)"
   ]
  },
  {
   "cell_type": "code",
   "execution_count": 323,
   "metadata": {},
   "outputs": [
    {
     "data": {
      "text/plain": [
       "GridSearchCV(cv=3,\n",
       "             estimator=Pipeline(steps=[('trans',\n",
       "                                        ColumnTransformer(remainder='passthrough',\n",
       "                                                          transformers=[('ohe',\n",
       "                                                                         OneHotEncoder(handle_unknown='ignore'),\n",
       "                                                                         Index(['date_recorded', 'basin', 'recorded_by', 'scheme_management', 'permit',\n",
       "       'extraction_type', 'management', 'management_group', 'payment',\n",
       "       'payment_type', 'water_quality', 'quality_group', 'quantity',\n",
       "       'quantity_group', 'source', 'source_class', 'waterpoint_type'],\n",
       "      dtype='object'))])),\n",
       "                                       ('rfc',\n",
       "                                        RandomForestClassifier(random_state=42))]),\n",
       "             param_grid=[{'rfc__criterion': ['gini', 'entropy'],\n",
       "                          'rfc__max_depth': [None, 3, 5],\n",
       "                          'rfc__min_samples_leaf': [1, 3, 5, 7],\n",
       "                          'rfc__min_samples_split': [2, 5, 10],\n",
       "                          'rfc__n_estimators': [100]}],\n",
       "             return_train_score=True)"
      ]
     },
     "execution_count": 323,
     "metadata": {},
     "output_type": "execute_result"
    }
   ],
   "source": [
    "gs_pipe.fit(X_train, y_train)"
   ]
  },
  {
   "cell_type": "code",
   "execution_count": 324,
   "metadata": {},
   "outputs": [
    {
     "data": {
      "text/plain": [
       "(0.8527721661054994,\n",
       " {'rfc__criterion': 'entropy',\n",
       "  'rfc__max_depth': None,\n",
       "  'rfc__min_samples_leaf': 1,\n",
       "  'rfc__min_samples_split': 5,\n",
       "  'rfc__n_estimators': 100})"
      ]
     },
     "execution_count": 324,
     "metadata": {},
     "output_type": "execute_result"
    }
   ],
   "source": [
    "gs_pipe.best_score_ , gs_pipe.best_params_"
   ]
  },
  {
   "cell_type": "markdown",
   "metadata": {},
   "source": [
    "This has given us our best score yet. We will plug these parameters into the pipeline and do further investigation."
   ]
  },
  {
   "cell_type": "markdown",
   "metadata": {},
   "source": [
    "model_pipe = Pipeline(steps=[\n",
    "    ('trans', trans),\n",
    "    ('rfc', RandomForestClassifier(random_state=42,criterion='entropy',max_depth=None,min_samples_leaf=1,min_samples_split=5,n_estimators=100))\n",
    "])"
   ]
  },
  {
   "cell_type": "code",
   "execution_count": 331,
   "metadata": {},
   "outputs": [
    {
     "data": {
      "text/plain": [
       "Pipeline(steps=[('trans',\n",
       "                 ColumnTransformer(remainder='passthrough',\n",
       "                                   transformers=[('ohe',\n",
       "                                                  OneHotEncoder(handle_unknown='ignore'),\n",
       "                                                  Index(['date_recorded', 'basin', 'recorded_by', 'scheme_management', 'permit',\n",
       "       'extraction_type', 'management', 'management_group', 'payment',\n",
       "       'payment_type', 'water_quality', 'quality_group', 'quantity',\n",
       "       'quantity_group', 'source', 'source_class', 'waterpoint_type'],\n",
       "      dtype='object'))])),\n",
       "                ('rfc',\n",
       "                 RandomForestClassifier(criterion='entropy',\n",
       "                                        min_samples_split=5,\n",
       "                                        random_state=42))])"
      ]
     },
     "execution_count": 331,
     "metadata": {},
     "output_type": "execute_result"
    }
   ],
   "source": [
    "model_pipe.fit(X_train,y_train)"
   ]
  },
  {
   "cell_type": "code",
   "execution_count": 332,
   "metadata": {},
   "outputs": [],
   "source": [
    "cv_results_RF = cross_validate(model_pipe, X_train, y_train, return_train_score=True)"
   ]
  },
  {
   "cell_type": "code",
   "execution_count": 335,
   "metadata": {},
   "outputs": [
    {
     "name": "stdout",
     "output_type": "stream",
     "text": [
      "Train Score: 0.9618462401795735  \n",
      "Test Score: 0.8559820426487093\n"
     ]
    }
   ],
   "source": [
    "print(f'''Train Score: {cv_results_RF['train_score'].mean()}  \n",
    "Test Score: {cv_results_RF['test_score'].mean()}''')"
   ]
  },
  {
   "cell_type": "markdown",
   "metadata": {},
   "source": [
    "This is a high variance low bias model, but it has given us our best predictive power yet."
   ]
  },
  {
   "cell_type": "code",
   "execution_count": 336,
   "metadata": {},
   "outputs": [
    {
     "name": "stdout",
     "output_type": "stream",
     "text": [
      "Recall Score: 0.7569225376796355\n",
      "Precision Score: 0.8517617670260321\n",
      "Accuracy Score:0.8559820426487094\n",
      "F1 Score: 0.8015465511908445\n",
      "Matrix: \n",
      "[[25177  2255]\n",
      " [ 4161 12957]]\n"
     ]
    }
   ],
   "source": [
    "y_pred = cross_val_predict(model_pipe,X_train,y_train)\n",
    "metrics(y_train,y_pred)"
   ]
  },
  {
   "cell_type": "markdown",
   "metadata": {},
   "source": [
    "This model has more false positives than our other models. This seems like a good model to explore further."
   ]
  },
  {
   "cell_type": "markdown",
   "metadata": {},
   "source": [
    "# Fixing Overfitting"
   ]
  },
  {
   "cell_type": "code",
   "execution_count": 450,
   "metadata": {},
   "outputs": [],
   "source": [
    "# Find what features are best\n",
    "classifier = model_pipe.named_steps['rfc']\n",
    "vals = classifier.feature_importances_\n",
    "names = trans.named_transformers_[\"ohe\"].get_feature_names()\n",
    "\n",
    "cols = dict(zip(names,vals))\n",
    "cols_sorted = dict(sorted(cols.items(), key=lambda item: item[1],reverse=True))\n",
    "#cols_sorted"
   ]
  },
  {
   "cell_type": "markdown",
   "metadata": {},
   "source": [
    "Wow that is alot of columns! Let's look at where we have the value dry in our dataframe. "
   ]
  },
  {
   "cell_type": "code",
   "execution_count": 464,
   "metadata": {},
   "outputs": [
    {
     "data": {
      "text/plain": [
       "Index(['amount_tsh', 'date_recorded', 'gps_height', 'longitude', 'latitude',\n",
       "       'basin', 'region_code', 'district_code', 'population', 'recorded_by',\n",
       "       'scheme_management', 'permit', 'construction_year', 'extraction_type',\n",
       "       'management', 'management_group', 'payment', 'payment_type',\n",
       "       'water_quality', 'quality_group', 'quantity', 'quantity_group',\n",
       "       'source', 'source_class', 'waterpoint_type', 'status'],\n",
       "      dtype='object')"
      ]
     },
     "execution_count": 464,
     "metadata": {},
     "output_type": "execute_result"
    }
   ],
   "source": [
    "df_non_binary.columns"
   ]
  },
  {
   "cell_type": "code",
   "execution_count": 465,
   "metadata": {},
   "outputs": [
    {
     "data": {
      "text/plain": [
       "(array(['enough', 'insufficient', 'dry', 'seasonal', 'unknown'],\n",
       "       dtype=object),\n",
       " array(['enough', 'insufficient', 'dry', 'seasonal', 'unknown'],\n",
       "       dtype=object))"
      ]
     },
     "execution_count": 465,
     "metadata": {},
     "output_type": "execute_result"
    }
   ],
   "source": [
    "df_non_binary['quantity'].unique() ,df_non_binary['quantity_group'].unique()"
   ]
  },
  {
   "cell_type": "markdown",
   "metadata": {},
   "source": [
    "Well these 2 columns seem to be clones of each other, so lets get rid of one! Will also get rid of some other columns that may make a difference."
   ]
  },
  {
   "cell_type": "code",
   "execution_count": 466,
   "metadata": {},
   "outputs": [],
   "source": [
    "df_non_binary.drop(['quantity_group','date_recorded','management_group','payment','permit','management','recorded_by'],axis=1,inplace=True)"
   ]
  },
  {
   "cell_type": "markdown",
   "metadata": {},
   "source": [
    "# Next Model Iteration"
   ]
  },
  {
   "cell_type": "code",
   "execution_count": 502,
   "metadata": {},
   "outputs": [],
   "source": [
    "X = df_non_binary.drop(['status','management','recorded_by'],axis=1)\n",
    "y = df_non_binary['status']\n",
    "\n",
    "X_train,X_test,y_train,y_test = train_test_split(X,y,test_size=.25,random_state=42,stratify=y)\n",
    "\n",
    "binary_key = {'functional': 0,'functional needs repair': 0, 'non functional': 1}\n",
    "y_train.replace(binary_key, inplace=True)"
   ]
  },
  {
   "cell_type": "code",
   "execution_count": null,
   "metadata": {},
   "outputs": [],
   "source": []
  },
  {
   "cell_type": "code",
   "execution_count": 503,
   "metadata": {},
   "outputs": [],
   "source": [
    "# Insert median for construction year\n",
    "median_no_zero = int(X_train[X_train['construction_year'] > 0]['construction_year'].median())\n",
    "# Find rows where construction year is zero and fill in with median , which is year 2000\n",
    "X_train.loc[(X_train['construction_year'] == 0),'construction_year'] = median_no_zero\n",
    "\n",
    "categorical_cols = X_train.select_dtypes('object')\n",
    "numerical_cols = X_train.select_dtypes(exclude=['object'])"
   ]
  },
  {
   "cell_type": "code",
   "execution_count": 504,
   "metadata": {},
   "outputs": [],
   "source": [
    "trans = ColumnTransformer(transformers=[('ohe', OneHotEncoder(handle_unknown='ignore'), categorical_cols.columns)],\n",
    "remainder='passthrough')"
   ]
  },
  {
   "cell_type": "code",
   "execution_count": 505,
   "metadata": {},
   "outputs": [],
   "source": [
    "model_pipe2 = Pipeline(steps=[\n",
    "    ('trans', trans),\n",
    "    ('rfc', RandomForestClassifier(random_state=42,criterion='entropy',max_depth=None,min_samples_leaf=1,min_samples_split=5,n_estimators=100))\n",
    "])"
   ]
  },
  {
   "cell_type": "code",
   "execution_count": 506,
   "metadata": {},
   "outputs": [
    {
     "data": {
      "text/plain": [
       "Pipeline(steps=[('trans',\n",
       "                 ColumnTransformer(remainder='passthrough',\n",
       "                                   transformers=[('ohe',\n",
       "                                                  OneHotEncoder(handle_unknown='ignore'),\n",
       "                                                  Index(['basin', 'scheme_management', 'extraction_type', 'payment_type',\n",
       "       'water_quality', 'quality_group', 'quantity', 'source', 'source_class',\n",
       "       'waterpoint_type'],\n",
       "      dtype='object'))])),\n",
       "                ('rfc',\n",
       "                 RandomForestClassifier(criterion='entropy',\n",
       "                                        min_samples_split=5,\n",
       "                                        random_state=42))])"
      ]
     },
     "execution_count": 506,
     "metadata": {},
     "output_type": "execute_result"
    }
   ],
   "source": [
    "model_pipe2.fit(X_train,y_train)"
   ]
  },
  {
   "cell_type": "code",
   "execution_count": 507,
   "metadata": {},
   "outputs": [],
   "source": [
    "cv_results_RF = cross_validate(model_pipe2, X_train, y_train, return_train_score=True)"
   ]
  },
  {
   "cell_type": "code",
   "execution_count": 508,
   "metadata": {},
   "outputs": [
    {
     "name": "stdout",
     "output_type": "stream",
     "text": [
      "Train Score: 0.9678563411896745  \n",
      "Test Score: 0.8545679012345679\n"
     ]
    }
   ],
   "source": [
    "print(f'''Train Score: {cv_results_RF['train_score'].mean()}  \n",
    "Test Score: {cv_results_RF['test_score'].mean()}''')"
   ]
  },
  {
   "cell_type": "code",
   "execution_count": 510,
   "metadata": {},
   "outputs": [
    {
     "name": "stdout",
     "output_type": "stream",
     "text": [
      "Recall Score: 0.7580324804299567\n",
      "Precision Score: 0.8473845751975446\n",
      "Accuracy Score:0.8545679012345679\n",
      "F1 Score: 0.800222009805433\n",
      "Matrix: \n",
      "[[25095  2337]\n",
      " [ 4142 12976]]\n"
     ]
    }
   ],
   "source": [
    "y_pred = cross_val_predict(model_pipe2,X_train,y_train)\n",
    "metrics(y_train,y_pred)"
   ]
  },
  {
   "cell_type": "markdown",
   "metadata": {},
   "source": [
    "Well that didn't seem to work at all. Our overfitting slightly increased while our accuracy slightly decreased!"
   ]
  },
  {
   "cell_type": "code",
   "execution_count": 497,
   "metadata": {},
   "outputs": [
    {
     "data": {
      "text/plain": [
       "{'x8_dry': 0.10313593672281049,\n",
       " 'x3_other': 0.03445097211501374,\n",
       " 'x11_other': 0.030206916660702226,\n",
       " 'x8_enough': 0.024317290927315657,\n",
       " 'x5_never pay': 0.01344458364161705,\n",
       " 'x8_insufficient': 0.013430243858378788,\n",
       " 'x11_communal standpipe': 0.012494553864501028,\n",
       " 'x3_gravity': 0.009625682846265958,\n",
       " 'x11_hand pump': 0.008854158731501107,\n",
       " 'x3_nira/tanira': 0.008789493929155298,\n",
       " 'x4_vwc': 0.008116593923744841,\n",
       " 'x9_spring': 0.007864530123237434,\n",
       " 'x11_communal standpipe multiple': 0.007287156561943943,\n",
       " 'x2_VWC': 0.006995352641234887,\n",
       " 'x9_machine dbh': 0.006554544182779793,\n",
       " 'x5_per bucket': 0.006355092924862964,\n",
       " 'x5_unknown': 0.006220252519033165,\n",
       " 'x7_unknown': 0.006193333602680702,\n",
       " 'x8_seasonal': 0.006138488521071643,\n",
       " 'x5_monthly': 0.005782560527824005,\n",
       " 'x9_shallow well': 0.005674726201556035,\n",
       " 'x0_Internal': 0.0055449787574670464,\n",
       " 'x10_surface': 0.0052009975317400805,\n",
       " 'x10_groundwater': 0.00488249084501246,\n",
       " 'x6_unknown': 0.004844794733536024,\n",
       " 'x3_submersible': 0.004285619847958432,\n",
       " 'x6_soft': 0.004279266933077152,\n",
       " 'x0_Lake Victoria': 0.004253846879695099,\n",
       " 'x0_Rufiji': 0.004224829419717416,\n",
       " 'x0_Lake Nyasa': 0.004216106665961126,\n",
       " 'x7_good': 0.00416673620841433,\n",
       " 'x3_mono': 0.003980965608236808,\n",
       " 'x0_Pangani': 0.003872735564185043,\n",
       " 'x0_Lake Tanganyika': 0.0037535761202222738,\n",
       " 'x9_river': 0.00374516947814321,\n",
       " 'x5_annually': 0.003725928178279334,\n",
       " 'x2_WUG': 0.003716637502480617,\n",
       " 'x3_ksb': 0.003685297589605219,\n",
       " 'x9_rainwater harvesting': 0.00366301218682134,\n",
       " 'x0_Wami / Ruvu': 0.003632785672948364,\n",
       " 'x5_on failure': 0.0035785954317311265,\n",
       " 'x3_swn 80': 0.0035144385659402434,\n",
       " 'x4_wug': 0.003419687677649341,\n",
       " 'x2_unknown': 0.0032748029753480066,\n",
       " 'x4_private operator': 0.0030718543976415704,\n",
       " 'x6_salty': 0.0028976035359081194,\n",
       " 'x2_Water authority': 0.00283928494344316,\n",
       " 'x0_Lake Rukwa': 0.002821314898824565,\n",
       " 'x0_Ruvuma / Southern Coast': 0.0027706038211041473,\n",
       " 'x7_salty': 0.0027199386000274855,\n",
       " 'x3_india mark ii': 0.0026635336364063244,\n",
       " 'x9_lake': 0.0026038035398178567,\n",
       " 'x3_afridev': 0.002496912396309315,\n",
       " 'x4_water board': 0.002279679180616353,\n",
       " 'x2_WUA': 0.0021355120586332094,\n",
       " 'x11_improved spring': 0.002106962977409444,\n",
       " 'x2_Water Board': 0.0020448196790842726,\n",
       " 'x2_Company': 0.0019479709842223291,\n",
       " 'x8_unknown': 0.0019258877035767652,\n",
       " 'x4_wua': 0.0018130580638105233,\n",
       " 'x9_dam': 0.0017666982968978832,\n",
       " 'x4_parastatal': 0.0016940071691074771,\n",
       " 'x2_Parastatal': 0.0015335875696441948,\n",
       " 'x2_Private operator': 0.0015010209787151042,\n",
       " 'x4_company': 0.0014626414333193379,\n",
       " 'x5_other': 0.001346544921845218,\n",
       " 'x9_hand dtw': 0.001317059829043249,\n",
       " 'x4_water authority': 0.0012552693893464917,\n",
       " 'x4_other': 0.0011297840300258887,\n",
       " 'x2_Other': 0.001023876253571237,\n",
       " 'x4_unknown': 0.0010223032298105582,\n",
       " 'x7_milky': 0.0009594028731734626,\n",
       " 'x6_milky': 0.0009499077223714525,\n",
       " 'x3_other - rope pump': 0.0008204201007182422,\n",
       " 'x7_colored': 0.0007709951840348191,\n",
       " 'x6_coloured': 0.0007323606952552179,\n",
       " 'x6_salty abandoned': 0.0006477663041861801,\n",
       " 'x3_other - swn 81': 0.0006459917797834982,\n",
       " 'x10_unknown': 0.0006184604903127973,\n",
       " 'x7_fluoride': 0.000502383045570999,\n",
       " 'x3_india mark iii': 0.0004852195661078253,\n",
       " 'x6_fluoride': 0.00042270445802234584,\n",
       " 'x3_windmill': 0.0004145718851661751,\n",
       " 'x9_other': 0.00041136877384195846,\n",
       " 'x11_cattle trough': 0.000362033400279782,\n",
       " 'x9_unknown': 0.000296029060984434,\n",
       " 'x4_trust': 0.00025206671992084837,\n",
       " 'x3_other - play pump': 0.00025153388457329966,\n",
       " 'x3_cemo': 0.00024573750751886216,\n",
       " 'x3_climax': 0.0002440407595672302,\n",
       " 'x2_Trust': 0.00023478568895398777,\n",
       " 'x3_walimi': 0.0002076193119937603,\n",
       " 'x4_other - school': 0.00016514274587656837,\n",
       " 'x2_SWC': 0.00014722574527041858,\n",
       " 'x6_fluoride abandoned': 6.645720825380239e-05,\n",
       " 'x11_dam': 1.311900405660341e-05,\n",
       " 'x3_other - mkulima/shinyanga': 7.632011308275282e-06,\n",
       " 'x2_None': 5.786819424224027e-07,\n",
       " 'x1_GeoData Consultants Ltd': 0.0}"
      ]
     },
     "execution_count": 497,
     "metadata": {},
     "output_type": "execute_result"
    }
   ],
   "source": [
    "classifier = model_pipe.named_steps['rfc']\n",
    "vals = classifier.feature_importances_\n",
    "names = trans.named_transformers_[\"ohe\"].get_feature_names()\n",
    "cols = dict(zip(names,vals))\n",
    "cols_sorted = dict(sorted(cols.items(), key=lambda item: item[1],reverse=True))\n",
    "cols_sorted"
   ]
  },
  {
   "cell_type": "markdown",
   "metadata": {},
   "source": [
    "Well that didn't seem to work at all. Our overfitting slightly increased while our accuracy slightly decreased!"
   ]
  }
 ],
 "metadata": {
  "kernelspec": {
   "display_name": "Python (learn-env)",
   "language": "python",
   "name": "learn-env"
  },
  "language_info": {
   "codemirror_mode": {
    "name": "ipython",
    "version": 3
   },
   "file_extension": ".py",
   "mimetype": "text/x-python",
   "name": "python",
   "nbconvert_exporter": "python",
   "pygments_lexer": "ipython3",
   "version": "3.8.5"
  }
 },
 "nbformat": 4,
 "nbformat_minor": 4
}
