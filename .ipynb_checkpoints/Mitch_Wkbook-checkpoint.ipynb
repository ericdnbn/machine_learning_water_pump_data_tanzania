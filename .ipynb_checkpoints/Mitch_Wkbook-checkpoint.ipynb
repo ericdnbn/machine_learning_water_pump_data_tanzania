{
 "cells": [
  {
   "cell_type": "markdown",
   "metadata": {},
   "source": [
    "# Import Cell"
   ]
  },
  {
   "cell_type": "code",
   "execution_count": 326,
   "metadata": {},
   "outputs": [],
   "source": [
    "import pandas as pd\n",
    "import matplotlib.pyplot as plt\n",
    "import seaborn as sns\n",
    "from sklearn.model_selection import train_test_split,cross_validate , GridSearchCV\n",
    "from sklearn.neighbors import KNeighborsClassifier\n",
    "from sklearn.pipeline import Pipeline\n",
    "from sklearn.preprocessing import OneHotEncoder , StandardScaler\n",
    "from sklearn.compose import ColumnTransformer\n",
    "\n",
    "\n",
    "%matplotlib inline"
   ]
  },
  {
   "cell_type": "markdown",
   "metadata": {},
   "source": [
    "# Early EDA"
   ]
  },
  {
   "cell_type": "code",
   "execution_count": 327,
   "metadata": {},
   "outputs": [],
   "source": [
    "df1 = pd.read_csv('data/Training Set Values.csv')\n",
    "df2 = pd.read_csv('data/Training Set Labels.csv')\n",
    "pd.set_option('display.max_columns',None)"
   ]
  },
  {
   "cell_type": "code",
   "execution_count": 328,
   "metadata": {},
   "outputs": [
    {
     "name": "stdout",
     "output_type": "stream",
     "text": [
      "<class 'pandas.core.frame.DataFrame'>\n",
      "RangeIndex: 59400 entries, 0 to 59399\n",
      "Data columns (total 40 columns):\n",
      " #   Column                 Non-Null Count  Dtype  \n",
      "---  ------                 --------------  -----  \n",
      " 0   id                     59400 non-null  int64  \n",
      " 1   amount_tsh             59400 non-null  float64\n",
      " 2   date_recorded          59400 non-null  object \n",
      " 3   funder                 55765 non-null  object \n",
      " 4   gps_height             59400 non-null  int64  \n",
      " 5   installer              55745 non-null  object \n",
      " 6   longitude              59400 non-null  float64\n",
      " 7   latitude               59400 non-null  float64\n",
      " 8   wpt_name               59400 non-null  object \n",
      " 9   num_private            59400 non-null  int64  \n",
      " 10  basin                  59400 non-null  object \n",
      " 11  subvillage             59029 non-null  object \n",
      " 12  region                 59400 non-null  object \n",
      " 13  region_code            59400 non-null  int64  \n",
      " 14  district_code          59400 non-null  int64  \n",
      " 15  lga                    59400 non-null  object \n",
      " 16  ward                   59400 non-null  object \n",
      " 17  population             59400 non-null  int64  \n",
      " 18  public_meeting         56066 non-null  object \n",
      " 19  recorded_by            59400 non-null  object \n",
      " 20  scheme_management      55523 non-null  object \n",
      " 21  scheme_name            31234 non-null  object \n",
      " 22  permit                 56344 non-null  object \n",
      " 23  construction_year      59400 non-null  int64  \n",
      " 24  extraction_type        59400 non-null  object \n",
      " 25  extraction_type_group  59400 non-null  object \n",
      " 26  extraction_type_class  59400 non-null  object \n",
      " 27  management             59400 non-null  object \n",
      " 28  management_group       59400 non-null  object \n",
      " 29  payment                59400 non-null  object \n",
      " 30  payment_type           59400 non-null  object \n",
      " 31  water_quality          59400 non-null  object \n",
      " 32  quality_group          59400 non-null  object \n",
      " 33  quantity               59400 non-null  object \n",
      " 34  quantity_group         59400 non-null  object \n",
      " 35  source                 59400 non-null  object \n",
      " 36  source_type            59400 non-null  object \n",
      " 37  source_class           59400 non-null  object \n",
      " 38  waterpoint_type        59400 non-null  object \n",
      " 39  waterpoint_type_group  59400 non-null  object \n",
      "dtypes: float64(3), int64(7), object(30)\n",
      "memory usage: 18.1+ MB\n"
     ]
    }
   ],
   "source": [
    "df1.info()"
   ]
  },
  {
   "cell_type": "code",
   "execution_count": 329,
   "metadata": {},
   "outputs": [],
   "source": [
    "df1.fillna('unknown',inplace=True)"
   ]
  },
  {
   "cell_type": "markdown",
   "metadata": {},
   "source": [
    "Since all of our null values are objects, we filled them in as unknown for now so we can keep the whole dataset. We also need to join the labels and train set on ID."
   ]
  },
  {
   "cell_type": "code",
   "execution_count": 330,
   "metadata": {},
   "outputs": [
    {
     "name": "stdout",
     "output_type": "stream",
     "text": [
      "Percent of functional: 54.31\n",
      "Percent of non functional: 38.42\n",
      "Percent of pumps needing repairs: 7.27\n",
      "\n"
     ]
    }
   ],
   "source": [
    "# Here we add the status of the pumps into our main DF\n",
    "dic = dict(zip(df2['id'],df2['status_group']))\n",
    "df1['status'] = df1['id'].map(dic)\n",
    "\n",
    "# Look at the distribution of our target values\n",
    "df = df1.loc[df1['status'] == 'functional']\n",
    "len(df) / len(df1)\n",
    "\n",
    "non_sum = len(df1.loc[df1['status'] == 'non functional']) / len(df1) \n",
    "funciontal_sum = len(df) / len(df1) \n",
    "needs_repairs = 1-(non_sum+funciontal_sum)\n",
    "needs_repairs\n",
    "print(f'''Percent of functional: {round(funciontal_sum*100,2)}\n",
    "Percent of non functional: {round(non_sum*100,2)}\n",
    "Percent of pumps needing repairs: {round(needs_repairs*100,2)}\n",
    "''')"
   ]
  },
  {
   "cell_type": "markdown",
   "metadata": {},
   "source": [
    "Since functional needs repairs only makes up 7% of our dataset, we have decided to convert this value to functional for easier modelling. This puts our target value at roughly a 62 to 38 percent distribution."
   ]
  },
  {
   "cell_type": "code",
   "execution_count": 331,
   "metadata": {},
   "outputs": [],
   "source": [
    "binary_key = {'functional': 1,'functional needs repair': 1, 'non functional': 0}\n",
    "df1['status'].replace(binary_key, inplace=True)"
   ]
  },
  {
   "cell_type": "markdown",
   "metadata": {},
   "source": [
    "Here we convert our functional / non functional to a binary value."
   ]
  },
  {
   "cell_type": "code",
   "execution_count": 332,
   "metadata": {},
   "outputs": [],
   "source": [
    "median_no_zero = int(df1[df1['construction_year'] > 0]['construction_year'].median())\n",
    "df1.loc[(df1['construction_year'] == 0),'construction_year'] = median_no_zero\n",
    "df1.loc[(df1['construction_year'] > df1['date_recorded'].str[:4].astype(int)),'construction_year'] = median_no_zero\n",
    "df1['age'] = df1['date_recorded'].str[:4].astype(int) - df1['construction_year']"
   ]
  },
  {
   "cell_type": "code",
   "execution_count": null,
   "metadata": {},
   "outputs": [],
   "source": []
  },
  {
   "cell_type": "code",
   "execution_count": 333,
   "metadata": {},
   "outputs": [
    {
     "name": "stdout",
     "output_type": "stream",
     "text": [
      "Scheme name values: ['Roman' 'unknown' 'Nyumba ya mungu pipe scheme' ... 'BL Nsherehehe'\n",
      " 'Magati  gravity spri' 'Mtawanya'] \n",
      "\n",
      "Scheme management values: ['VWC' 'Other' 'unknown' 'Private operator' 'WUG' 'Water Board' 'WUA'\n",
      " 'Water authority' 'Company' 'Parastatal' 'Trust' 'SWC' 'None']\n"
     ]
    }
   ],
   "source": [
    "\n",
    "print(f'''Scheme name values: {df1['scheme_name'].unique()} \n",
    "\n",
    "Scheme management values: {df1['scheme_management'].unique()}''')\n",
    "df1.drop(['num_private','public_meeting','scheme_name','id'],axis=1,inplace=True)"
   ]
  },
  {
   "cell_type": "markdown",
   "metadata": {},
   "source": [
    "Dropping columns we do not think that will not hold any value. \n",
    "Num_private is an undefined column with all zeroes.\n",
    "Public meeting is defined as a True/False value in our column description and gives no indication to what it means.\n",
    "id is simply the ID of the pump we used to join our dataframes on.\n",
    "Scheme name seems to be similar to scheme management. "
   ]
  },
  {
   "cell_type": "code",
   "execution_count": 334,
   "metadata": {},
   "outputs": [
    {
     "name": "stdout",
     "output_type": "stream",
     "text": [
      "\n",
      "Source Values: ['spring' 'rainwater harvesting' 'dam' 'machine dbh' 'other'\n",
      " 'shallow well' 'river' 'hand dtw' 'lake' 'unknown']\n",
      "\n",
      "Source_class Values: ['groundwater' 'surface' 'unknown']\n",
      "\n",
      "Source_type Values: ['spring' 'rainwater harvesting' 'dam' 'borehole' 'other' 'shallow well'\n",
      " 'river/lake']\n"
     ]
    }
   ],
   "source": [
    "source , source_class, source_type =df1['source'].unique() , df1['source_class'].unique() , df1['source_type'].unique()\n",
    "\n",
    "print(f'''\n",
    "Source Values: {source}\n",
    "\n",
    "Source_class Values: {source_class}\n",
    "\n",
    "Source_type Values: {source_type}''')\n",
    "\n",
    "#Drop the columnd we will not use from our DF\n",
    "df1.drop(['source_type'],axis=1,inplace=True)"
   ]
  },
  {
   "cell_type": "markdown",
   "metadata": {},
   "source": [
    "We have decided to keep Source Values and Source class Values as we think they will provide the most value to our model. The source type values column is a less specific version of the source values column."
   ]
  },
  {
   "cell_type": "code",
   "execution_count": 335,
   "metadata": {},
   "outputs": [
    {
     "name": "stdout",
     "output_type": "stream",
     "text": [
      "\n",
      "Extraction Type Values: ['gravity' 'submersible' 'swn 80' 'nira/tanira' 'india mark ii' 'other'\n",
      " 'ksb' 'mono' 'windmill' 'afridev' 'other - rope pump' 'india mark iii'\n",
      " 'other - swn 81' 'other - play pump' 'cemo' 'climax' 'walimi'\n",
      " 'other - mkulima/shinyanga']\n",
      "\n",
      "Extraction Type Group Values: ['gravity' 'submersible' 'swn 80' 'nira/tanira' 'india mark ii' 'other'\n",
      " 'mono' 'wind-powered' 'afridev' 'rope pump' 'india mark iii'\n",
      " 'other handpump' 'other motorpump']\n",
      "\n",
      "Extraction Type Class: ['gravity' 'submersible' 'handpump' 'other' 'motorpump' 'wind-powered'\n",
      " 'rope pump']\n"
     ]
    }
   ],
   "source": [
    "extraction_type, extraction_type_group, extraction_type_class = df1['extraction_type'].unique() , df1['extraction_type_group'].unique() , df1['extraction_type_class'].unique()\n",
    "\n",
    "print(f'''\n",
    "Extraction Type Values: {extraction_type}\n",
    "\n",
    "Extraction Type Group Values: {extraction_type_group}\n",
    "\n",
    "Extraction Type Class: {extraction_type_class}''')\n",
    "\n",
    "#Drop the columnd we will not use from our DF\n",
    "df1.drop(['extraction_type_group','extraction_type_class'],inplace = True,axis=1)"
   ]
  },
  {
   "cell_type": "markdown",
   "metadata": {},
   "source": [
    "We have decided to keep the extraction type column as we think they will provide the most value to our model. The other two columns are a similar to the extraction values column but more vague."
   ]
  },
  {
   "cell_type": "code",
   "execution_count": 336,
   "metadata": {},
   "outputs": [
    {
     "data": {
      "text/plain": [
       "37400"
      ]
     },
     "execution_count": 336,
     "metadata": {},
     "output_type": "execute_result"
    }
   ],
   "source": [
    "len(df1['wpt_name'].unique())"
   ]
  },
  {
   "cell_type": "markdown",
   "metadata": {},
   "source": [
    "This column is the name of the water point which does not help us in our model. Subvillage, lga and ward are also listed as geographic information, but gives us no information we find that is useful. "
   ]
  },
  {
   "cell_type": "code",
   "execution_count": 337,
   "metadata": {},
   "outputs": [],
   "source": [
    "#Drop selected columns\n",
    "df1.drop(['wpt_name','subvillage','lga','ward'],axis=1,inplace=True)"
   ]
  },
  {
   "cell_type": "code",
   "execution_count": 338,
   "metadata": {},
   "outputs": [
    {
     "name": "stdout",
     "output_type": "stream",
     "text": [
      "Waterpoint Type Group values:['communal standpipe' 'hand pump' 'other' 'improved spring'\n",
      " 'cattle trough' 'dam'] , \n",
      "\n",
      "Waterpoint type values: ['communal standpipe' 'communal standpipe multiple' 'hand pump' 'other'\n",
      " 'improved spring' 'cattle trough' 'dam']\n"
     ]
    }
   ],
   "source": [
    "\n",
    "print(f'''Waterpoint Type Group values:{df1['waterpoint_type_group'].unique()} , \n",
    "\n",
    "Waterpoint type values: {df1['waterpoint_type'].unique()}''')\n",
    "\n",
    "df1.drop(['waterpoint_type_group','date_recorded'],axis=1,inplace=True)"
   ]
  },
  {
   "cell_type": "markdown",
   "metadata": {},
   "source": [
    "The waterpoint type column is a more specific version of the waterpoint type group. The group values column does not have the multiple standpipe option. We drop the waterpoint type group to use in our dataset. The date recorded column is just when the data was entered into the spreadsheet."
   ]
  },
  {
   "cell_type": "code",
   "execution_count": 339,
   "metadata": {},
   "outputs": [],
   "source": [
    "vals = df1['construction_year'].value_counts(0)"
   ]
  },
  {
   "cell_type": "code",
   "execution_count": 340,
   "metadata": {},
   "outputs": [
    {
     "data": {
      "image/png": "[encoded data removed]",
      "text/plain": [
       "<Figure size 432x288 with 1 Axes>"
      ]
     },
     "metadata": {
      "needs_background": "light"
     },
     "output_type": "display_data"
    }
   ],
   "source": [
    "sns.histplot(vals);"
   ]
  },
  {
   "cell_type": "markdown",
   "metadata": {},
   "source": [
    "We wanted to use this column because intuitively age plays a part in when a pump would fail. The problem is with all of the zeroes it made us hesitant to continue forward with this. The years are spread out thin, which made us think it would be best to drop this column as we would just be guessing for over 20,000 values in our dataset. It would not give us an accurate representation for the age of the pumps."
   ]
  },
  {
   "cell_type": "code",
   "execution_count": 341,
   "metadata": {},
   "outputs": [],
   "source": [
    "df1.drop('construction_year',axis=1,inplace=True)"
   ]
  },
  {
   "cell_type": "code",
   "execution_count": 342,
   "metadata": {},
   "outputs": [
    {
     "data": {
      "text/html": [
       "<div>\n",
       "<style scoped>\n",
       "    .dataframe tbody tr th:only-of-type {\n",
       "        vertical-align: middle;\n",
       "    }\n",
       "\n",
       "    .dataframe tbody tr th {\n",
       "        vertical-align: top;\n",
       "    }\n",
       "\n",
       "    .dataframe thead th {\n",
       "        text-align: right;\n",
       "    }\n",
       "</style>\n",
       "<table border=\"1\" class=\"dataframe\">\n",
       "  <thead>\n",
       "    <tr style=\"text-align: right;\">\n",
       "      <th></th>\n",
       "      <th>region</th>\n",
       "      <th>region_code</th>\n",
       "    </tr>\n",
       "  </thead>\n",
       "  <tbody>\n",
       "    <tr>\n",
       "      <th>10</th>\n",
       "      <td>Pwani</td>\n",
       "      <td>60</td>\n",
       "    </tr>\n",
       "    <tr>\n",
       "      <th>34</th>\n",
       "      <td>Pwani</td>\n",
       "      <td>60</td>\n",
       "    </tr>\n",
       "    <tr>\n",
       "      <th>181</th>\n",
       "      <td>Pwani</td>\n",
       "      <td>60</td>\n",
       "    </tr>\n",
       "    <tr>\n",
       "      <th>184</th>\n",
       "      <td>Pwani</td>\n",
       "      <td>60</td>\n",
       "    </tr>\n",
       "    <tr>\n",
       "      <th>309</th>\n",
       "      <td>Pwani</td>\n",
       "      <td>60</td>\n",
       "    </tr>\n",
       "    <tr>\n",
       "      <th>...</th>\n",
       "      <td>...</td>\n",
       "      <td>...</td>\n",
       "    </tr>\n",
       "    <tr>\n",
       "      <th>59066</th>\n",
       "      <td>Pwani</td>\n",
       "      <td>60</td>\n",
       "    </tr>\n",
       "    <tr>\n",
       "      <th>59075</th>\n",
       "      <td>Pwani</td>\n",
       "      <td>60</td>\n",
       "    </tr>\n",
       "    <tr>\n",
       "      <th>59112</th>\n",
       "      <td>Pwani</td>\n",
       "      <td>60</td>\n",
       "    </tr>\n",
       "    <tr>\n",
       "      <th>59128</th>\n",
       "      <td>Pwani</td>\n",
       "      <td>60</td>\n",
       "    </tr>\n",
       "    <tr>\n",
       "      <th>59323</th>\n",
       "      <td>Pwani</td>\n",
       "      <td>60</td>\n",
       "    </tr>\n",
       "  </tbody>\n",
       "</table>\n",
       "<p>1025 rows × 2 columns</p>\n",
       "</div>"
      ],
      "text/plain": [
       "      region  region_code\n",
       "10     Pwani           60\n",
       "34     Pwani           60\n",
       "181    Pwani           60\n",
       "184    Pwani           60\n",
       "309    Pwani           60\n",
       "...      ...          ...\n",
       "59066  Pwani           60\n",
       "59075  Pwani           60\n",
       "59112  Pwani           60\n",
       "59128  Pwani           60\n",
       "59323  Pwani           60\n",
       "\n",
       "[1025 rows x 2 columns]"
      ]
     },
     "execution_count": 342,
     "metadata": {},
     "output_type": "execute_result"
    }
   ],
   "source": [
    "len(df1['region'].unique()) , len(df1['region_code'].unique())\n",
    "df1['region'].unique() , df1['region_code'].unique()\n",
    "#len(df1.loc[df1['region_code'] == 99])\n",
    "df1[['region','region_code']].loc[df1['region_code'] ==60]"
   ]
  },
  {
   "cell_type": "code",
   "execution_count": 343,
   "metadata": {},
   "outputs": [],
   "source": [
    "df1['permit'] = df1['permit'].astype(str)"
   ]
  },
  {
   "cell_type": "code",
   "execution_count": null,
   "metadata": {},
   "outputs": [],
   "source": []
  },
  {
   "cell_type": "code",
   "execution_count": 344,
   "metadata": {},
   "outputs": [],
   "source": [
    "\n",
    "X = df1.drop(['status'],axis=1)\n",
    "y = df1['status']"
   ]
  },
  {
   "cell_type": "code",
   "execution_count": null,
   "metadata": {},
   "outputs": [],
   "source": []
  },
  {
   "cell_type": "code",
   "execution_count": null,
   "metadata": {},
   "outputs": [],
   "source": []
  },
  {
   "cell_type": "code",
   "execution_count": 385,
   "metadata": {},
   "outputs": [],
   "source": [
    "X_train,X_test,y_train,y_test = train_test_split(X,y,test_size=.25,random_state=42,stratify=y)"
   ]
  },
  {
   "cell_type": "code",
   "execution_count": 386,
   "metadata": {},
   "outputs": [],
   "source": [
    "\n",
    "categorical_cols = X_train.select_dtypes('object')\n",
    "numerical_cols = X_train.select_dtypes(exclude=['object'])\n",
    "categorical_pipeline = Pipeline(steps=[('ohe', OneHotEncoder(handle_unknown='ignore'))])\n",
    "numerical_pipeline = Pipeline(steps=[('ss', StandardScaler())])\n",
    "# col_trans = ColumnTransformer(transformers=[('ohe', OneHotEncoder(handle_unknown='ignore'), categorical_cols)],\n",
    "#                               remainder='passthrough')\n",
    "trans = ColumnTransformer(transformers=[\n",
    "    ('numerical', numerical_pipeline, numerical_cols.columns),\n",
    "    ('categorical', categorical_pipeline, categorical_cols.columns)\n",
    "])\n",
    "base_pipline = Pipeline(steps=[('trans', trans),\n",
    "                              ('model', KNeighborsClassifier())])\n",
    "\n",
    "cv = cross_validate(base_pipline, X_train, y_train, return_train_score=True)\n"
   ]
  },
  {
   "cell_type": "code",
   "execution_count": 387,
   "metadata": {},
   "outputs": [
    {
     "data": {
      "text/plain": [
       "0.8266442199775532"
      ]
     },
     "execution_count": 387,
     "metadata": {},
     "output_type": "execute_result"
    }
   ],
   "source": [
    "cv['test_score'].mean()"
   ]
  },
  {
   "cell_type": "code",
   "execution_count": 388,
   "metadata": {},
   "outputs": [
    {
     "data": {
      "text/plain": [
       "GridSearchCV(cv=3,\n",
       "             estimator=Pipeline(steps=[('trans',\n",
       "                                        ColumnTransformer(transformers=[('numerical',\n",
       "                                                                         Pipeline(steps=[('ss',\n",
       "                                                                                          StandardScaler())]),\n",
       "                                                                         Index(['amount_tsh', 'gps_height', 'longitude', 'latitude', 'region_code',\n",
       "       'district_code', 'population', 'age'],\n",
       "      dtype='object')),\n",
       "                                                                        ('categorical',\n",
       "                                                                         Pipeline(steps=[('ohe',\n",
       "                                                                                          OneHotEncoder(handle_unknown='ignore'))]),\n",
       "                                                                         Index([...corded_by',\n",
       "       'scheme_management', 'permit', 'extraction_type', 'management',\n",
       "       'management_group', 'payment', 'payment_type', 'water_quality',\n",
       "       'quality_group', 'quantity', 'quantity_group', 'source', 'source_class',\n",
       "       'waterpoint_type'],\n",
       "      dtype='object'))])),\n",
       "                                       ('model', KNeighborsClassifier())]),\n",
       "             param_grid={'model__n_neighbors': [7, 11, 15, 21],\n",
       "                         'model__weights': ['distance']})"
      ]
     },
     "execution_count": 388,
     "metadata": {},
     "output_type": "execute_result"
    }
   ],
   "source": [
    "grid= {'model__n_neighbors': [7,11,15,21],\n",
    "      'model__weights': ['distance'],\n",
    "      }\n",
    "\n",
    "gs = GridSearchCV(base_pipline,grid,cv=3)\n",
    "gs.fit(X_train,y_train)\n"
   ]
  },
  {
   "cell_type": "code",
   "execution_count": 389,
   "metadata": {},
   "outputs": [
    {
     "data": {
      "text/plain": [
       "0.8406060606060606"
      ]
     },
     "execution_count": 389,
     "metadata": {},
     "output_type": "execute_result"
    }
   ],
   "source": [
    "gs.score(X_test,y_test)"
   ]
  },
  {
   "cell_type": "code",
   "execution_count": 391,
   "metadata": {},
   "outputs": [
    {
     "data": {
      "text/plain": [
       "{'model__n_neighbors': 7, 'model__weights': 'distance'}"
      ]
     },
     "execution_count": 391,
     "metadata": {},
     "output_type": "execute_result"
    }
   ],
   "source": [
    "gs.best_params_"
   ]
  },
  {
   "cell_type": "code",
   "execution_count": 35,
   "metadata": {},
   "outputs": [
    {
     "data": {
      "text/plain": [
       "(27, 20)"
      ]
     },
     "execution_count": 35,
     "metadata": {},
     "output_type": "execute_result"
    }
   ],
   "source": [
    "len(df1.region_code.unique()) , len(df1['district_code'].unique())"
   ]
  },
  {
   "cell_type": "code",
   "execution_count": 36,
   "metadata": {},
   "outputs": [],
   "source": [
    "#df_num = df1.select_dtypes('number')\n",
    "\n",
    "#fig , axes = plt.subplots(nrows=5,ncols=2,figsize=(12,8))\n",
    "#fig.set_tight_layout(True)\n",
    "\n",
    "#for index,col in enumerate(df_num.columns):\n",
    "    #ax = axes[index//2][index%2]\n",
    "    #ax.scatter(df_num[col],df1['status'],alpha=.2)\n",
    "    #ax.set_xlabel(col)"
   ]
  },
  {
   "cell_type": "code",
   "execution_count": 32,
   "metadata": {},
   "outputs": [],
   "source": []
  },
  {
   "cell_type": "code",
   "execution_count": 27,
   "metadata": {},
   "outputs": [],
   "source": []
  },
  {
   "cell_type": "code",
   "execution_count": null,
   "metadata": {},
   "outputs": [],
   "source": []
  },
  {
   "cell_type": "code",
   "execution_count": null,
   "metadata": {},
   "outputs": [],
   "source": []
  },
  {
   "cell_type": "code",
   "execution_count": null,
   "metadata": {},
   "outputs": [],
   "source": []
  },
  {
   "cell_type": "code",
   "execution_count": null,
   "metadata": {},
   "outputs": [],
   "source": []
  },
  {
   "cell_type": "markdown",
   "metadata": {},
   "source": [
    "# First model"
   ]
  },
  {
   "cell_type": "code",
   "execution_count": null,
   "metadata": {},
   "outputs": [],
   "source": [
    "#categorical_cols = X_train.select_dtypes('object')\n",
    "#numerical_cols = X_train.select_dtypes(exclude=['object'])\n",
    "#categorical_pipeline = Pipeline(steps=[('ohe', OneHotEncoder(handle_unknown='ignore'))])\n",
    "#numerical_pipeline = Pipeline(steps=[('ss', StandardScaler())])\n",
    "# col_trans = ColumnTransformer(transformers=[('ohe', OneHotEncoder(handle_unknown='ignore'), categorical_cols)],\n",
    "#                               remainder='passthrough')\n",
    "#trans = ColumnTransformer(transformers=[\n",
    "    #('numerical', numerical_pipeline, numerical_cols.columns),\n",
    "    #('categorical', categorical_pipeline, categorical_cols.columns)\n",
    "#])\n",
    "#base_pipline = Pipeline(steps=[('trans', trans),\n",
    "                              #('model', LogisticRegression(random_state=42, max_iter=1000))])\n",
    "#base_pipline\n",
    "#cv = cross_validate(base_pipline, X_train, y_train, return_train_score=True)"
   ]
  },
  {
   "cell_type": "code",
   "execution_count": null,
   "metadata": {},
   "outputs": [],
   "source": []
  },
  {
   "cell_type": "code",
   "execution_count": 390,
   "metadata": {},
   "outputs": [
    {
     "data": {
      "text/plain": [
       "27"
      ]
     },
     "execution_count": 390,
     "metadata": {},
     "output_type": "execute_result"
    }
   ],
   "source": [
    "df1.loc[df1['status'] == 0].value_counts().sort_values(ascending=True).groupby('region_code').sum()\n"
   ]
  },
  {
   "cell_type": "markdown",
   "metadata": {},
   "source": [
    "We will keep the extraction type column as it seems to be the most specific. "
   ]
  }
 ],
 "metadata": {
  "kernelspec": {
   "display_name": "Python (learn-env)",
   "language": "python",
   "name": "learn-env"
  },
  "language_info": {
   "codemirror_mode": {
    "name": "ipython",
    "version": 3
   },
   "file_extension": ".py",
   "mimetype": "text/x-python",
   "name": "python",
   "nbconvert_exporter": "python",
   "pygments_lexer": "ipython3",
   "version": "3.8.5"
  }
 },
 "nbformat": 4,
 "nbformat_minor": 4
}
