{
 "cells": [
  {
   "cell_type": "markdown",
   "metadata": {},
   "source": [
    "# Water Pumps Functionality Analysis In Tanzania"
   ]
  },
  {
   "cell_type": "markdown",
   "metadata": {},
   "source": [
    "Using data from Tanzanian Ministry of Water, our goal is to predict if water pumps are functional or non-functional."
   ]
  },
  {
   "cell_type": "code",
   "execution_count": 4,
   "metadata": {},
   "outputs": [],
   "source": [
    "import pandas as pd\n",
    "import matplotlib.pyplot as plt\n",
    "import seaborn as sns\n",
    "import warnings\n",
    "import numpy as np\n",
    "from sklearn.model_selection import train_test_split,cross_validate , GridSearchCV, cross_val_predict\n",
    "from sklearn.neighbors import KNeighborsClassifier\n",
    "from sklearn.linear_model import LogisticRegression\n",
    "from sklearn.pipeline import Pipeline\n",
    "from sklearn.preprocessing import OneHotEncoder , StandardScaler \n",
    "from sklearn.compose import ColumnTransformer\n",
    "from sklearn.metrics import confusion_matrix, plot_confusion_matrix , accuracy_score,recall_score,f1_score,precision_score\n",
    "from sklearn.dummy import DummyClassifier\n",
    "from sklearn.ensemble import RandomForestClassifier\n",
    "from xgboost import XGBClassifier\n",
    "%matplotlib inline\n",
    "warnings.filterwarnings(\"ignore\")"
   ]
  },
  {
   "cell_type": "markdown",
   "metadata": {},
   "source": [
    "## EDA"
   ]
  },
  {
   "cell_type": "code",
   "execution_count": 5,
   "metadata": {},
   "outputs": [],
   "source": [
    "df1 = pd.read_csv('data/Training Set Values.csv')\n",
    "df2 = pd.read_csv('data/Training Set Labels.csv')\n",
    "pd.set_option('display.max_columns',None)"
   ]
  },
  {
   "cell_type": "code",
   "execution_count": 6,
   "metadata": {},
   "outputs": [
    {
     "name": "stdout",
     "output_type": "stream",
     "text": [
      "<class 'pandas.core.frame.DataFrame'>\n",
      "RangeIndex: 59400 entries, 0 to 59399\n",
      "Data columns (total 40 columns):\n",
      " #   Column                 Non-Null Count  Dtype  \n",
      "---  ------                 --------------  -----  \n",
      " 0   id                     59400 non-null  int64  \n",
      " 1   amount_tsh             59400 non-null  float64\n",
      " 2   date_recorded          59400 non-null  object \n",
      " 3   funder                 55765 non-null  object \n",
      " 4   gps_height             59400 non-null  int64  \n",
      " 5   installer              55745 non-null  object \n",
      " 6   longitude              59400 non-null  float64\n",
      " 7   latitude               59400 non-null  float64\n",
      " 8   wpt_name               59400 non-null  object \n",
      " 9   num_private            59400 non-null  int64  \n",
      " 10  basin                  59400 non-null  object \n",
      " 11  subvillage             59029 non-null  object \n",
      " 12  region                 59400 non-null  object \n",
      " 13  region_code            59400 non-null  int64  \n",
      " 14  district_code          59400 non-null  int64  \n",
      " 15  lga                    59400 non-null  object \n",
      " 16  ward                   59400 non-null  object \n",
      " 17  population             59400 non-null  int64  \n",
      " 18  public_meeting         56066 non-null  object \n",
      " 19  recorded_by            59400 non-null  object \n",
      " 20  scheme_management      55523 non-null  object \n",
      " 21  scheme_name            31234 non-null  object \n",
      " 22  permit                 56344 non-null  object \n",
      " 23  construction_year      59400 non-null  int64  \n",
      " 24  extraction_type        59400 non-null  object \n",
      " 25  extraction_type_group  59400 non-null  object \n",
      " 26  extraction_type_class  59400 non-null  object \n",
      " 27  management             59400 non-null  object \n",
      " 28  management_group       59400 non-null  object \n",
      " 29  payment                59400 non-null  object \n",
      " 30  payment_type           59400 non-null  object \n",
      " 31  water_quality          59400 non-null  object \n",
      " 32  quality_group          59400 non-null  object \n",
      " 33  quantity               59400 non-null  object \n",
      " 34  quantity_group         59400 non-null  object \n",
      " 35  source                 59400 non-null  object \n",
      " 36  source_type            59400 non-null  object \n",
      " 37  source_class           59400 non-null  object \n",
      " 38  waterpoint_type        59400 non-null  object \n",
      " 39  waterpoint_type_group  59400 non-null  object \n",
      "dtypes: float64(3), int64(7), object(30)\n",
      "memory usage: 18.1+ MB\n"
     ]
    }
   ],
   "source": [
    "df1.info()"
   ]
  },
  {
   "cell_type": "markdown",
   "metadata": {},
   "source": [
    "We are going to merge our data together so that we have one dataframe with predictors and target values."
   ]
  },
  {
   "cell_type": "code",
   "execution_count": 7,
   "metadata": {},
   "outputs": [],
   "source": [
    "all_data = df1.merge(df2, on='id')"
   ]
  },
  {
   "cell_type": "code",
   "execution_count": 8,
   "metadata": {},
   "outputs": [
    {
     "data": {
      "text/html": [
       "<div>\n",
       "<style scoped>\n",
       "    .dataframe tbody tr th:only-of-type {\n",
       "        vertical-align: middle;\n",
       "    }\n",
       "\n",
       "    .dataframe tbody tr th {\n",
       "        vertical-align: top;\n",
       "    }\n",
       "\n",
       "    .dataframe thead th {\n",
       "        text-align: right;\n",
       "    }\n",
       "</style>\n",
       "<table border=\"1\" class=\"dataframe\">\n",
       "  <thead>\n",
       "    <tr style=\"text-align: right;\">\n",
       "      <th></th>\n",
       "      <th>id</th>\n",
       "      <th>amount_tsh</th>\n",
       "      <th>date_recorded</th>\n",
       "      <th>funder</th>\n",
       "      <th>gps_height</th>\n",
       "      <th>installer</th>\n",
       "      <th>longitude</th>\n",
       "      <th>latitude</th>\n",
       "      <th>wpt_name</th>\n",
       "      <th>num_private</th>\n",
       "      <th>basin</th>\n",
       "      <th>subvillage</th>\n",
       "      <th>region</th>\n",
       "      <th>region_code</th>\n",
       "      <th>district_code</th>\n",
       "      <th>lga</th>\n",
       "      <th>ward</th>\n",
       "      <th>population</th>\n",
       "      <th>public_meeting</th>\n",
       "      <th>recorded_by</th>\n",
       "      <th>scheme_management</th>\n",
       "      <th>scheme_name</th>\n",
       "      <th>permit</th>\n",
       "      <th>construction_year</th>\n",
       "      <th>extraction_type</th>\n",
       "      <th>extraction_type_group</th>\n",
       "      <th>extraction_type_class</th>\n",
       "      <th>management</th>\n",
       "      <th>management_group</th>\n",
       "      <th>payment</th>\n",
       "      <th>payment_type</th>\n",
       "      <th>water_quality</th>\n",
       "      <th>quality_group</th>\n",
       "      <th>quantity</th>\n",
       "      <th>quantity_group</th>\n",
       "      <th>source</th>\n",
       "      <th>source_type</th>\n",
       "      <th>source_class</th>\n",
       "      <th>waterpoint_type</th>\n",
       "      <th>waterpoint_type_group</th>\n",
       "      <th>status_group</th>\n",
       "    </tr>\n",
       "  </thead>\n",
       "  <tbody>\n",
       "    <tr>\n",
       "      <th>0</th>\n",
       "      <td>69572</td>\n",
       "      <td>6000.0</td>\n",
       "      <td>2011-03-14</td>\n",
       "      <td>Roman</td>\n",
       "      <td>1390</td>\n",
       "      <td>Roman</td>\n",
       "      <td>34.938093</td>\n",
       "      <td>-9.856322</td>\n",
       "      <td>none</td>\n",
       "      <td>0</td>\n",
       "      <td>Lake Nyasa</td>\n",
       "      <td>Mnyusi B</td>\n",
       "      <td>Iringa</td>\n",
       "      <td>11</td>\n",
       "      <td>5</td>\n",
       "      <td>Ludewa</td>\n",
       "      <td>Mundindi</td>\n",
       "      <td>109</td>\n",
       "      <td>True</td>\n",
       "      <td>GeoData Consultants Ltd</td>\n",
       "      <td>VWC</td>\n",
       "      <td>Roman</td>\n",
       "      <td>False</td>\n",
       "      <td>1999</td>\n",
       "      <td>gravity</td>\n",
       "      <td>gravity</td>\n",
       "      <td>gravity</td>\n",
       "      <td>vwc</td>\n",
       "      <td>user-group</td>\n",
       "      <td>pay annually</td>\n",
       "      <td>annually</td>\n",
       "      <td>soft</td>\n",
       "      <td>good</td>\n",
       "      <td>enough</td>\n",
       "      <td>enough</td>\n",
       "      <td>spring</td>\n",
       "      <td>spring</td>\n",
       "      <td>groundwater</td>\n",
       "      <td>communal standpipe</td>\n",
       "      <td>communal standpipe</td>\n",
       "      <td>functional</td>\n",
       "    </tr>\n",
       "    <tr>\n",
       "      <th>1</th>\n",
       "      <td>8776</td>\n",
       "      <td>0.0</td>\n",
       "      <td>2013-03-06</td>\n",
       "      <td>Grumeti</td>\n",
       "      <td>1399</td>\n",
       "      <td>GRUMETI</td>\n",
       "      <td>34.698766</td>\n",
       "      <td>-2.147466</td>\n",
       "      <td>Zahanati</td>\n",
       "      <td>0</td>\n",
       "      <td>Lake Victoria</td>\n",
       "      <td>Nyamara</td>\n",
       "      <td>Mara</td>\n",
       "      <td>20</td>\n",
       "      <td>2</td>\n",
       "      <td>Serengeti</td>\n",
       "      <td>Natta</td>\n",
       "      <td>280</td>\n",
       "      <td>NaN</td>\n",
       "      <td>GeoData Consultants Ltd</td>\n",
       "      <td>Other</td>\n",
       "      <td>NaN</td>\n",
       "      <td>True</td>\n",
       "      <td>2010</td>\n",
       "      <td>gravity</td>\n",
       "      <td>gravity</td>\n",
       "      <td>gravity</td>\n",
       "      <td>wug</td>\n",
       "      <td>user-group</td>\n",
       "      <td>never pay</td>\n",
       "      <td>never pay</td>\n",
       "      <td>soft</td>\n",
       "      <td>good</td>\n",
       "      <td>insufficient</td>\n",
       "      <td>insufficient</td>\n",
       "      <td>rainwater harvesting</td>\n",
       "      <td>rainwater harvesting</td>\n",
       "      <td>surface</td>\n",
       "      <td>communal standpipe</td>\n",
       "      <td>communal standpipe</td>\n",
       "      <td>functional</td>\n",
       "    </tr>\n",
       "    <tr>\n",
       "      <th>2</th>\n",
       "      <td>34310</td>\n",
       "      <td>25.0</td>\n",
       "      <td>2013-02-25</td>\n",
       "      <td>Lottery Club</td>\n",
       "      <td>686</td>\n",
       "      <td>World vision</td>\n",
       "      <td>37.460664</td>\n",
       "      <td>-3.821329</td>\n",
       "      <td>Kwa Mahundi</td>\n",
       "      <td>0</td>\n",
       "      <td>Pangani</td>\n",
       "      <td>Majengo</td>\n",
       "      <td>Manyara</td>\n",
       "      <td>21</td>\n",
       "      <td>4</td>\n",
       "      <td>Simanjiro</td>\n",
       "      <td>Ngorika</td>\n",
       "      <td>250</td>\n",
       "      <td>True</td>\n",
       "      <td>GeoData Consultants Ltd</td>\n",
       "      <td>VWC</td>\n",
       "      <td>Nyumba ya mungu pipe scheme</td>\n",
       "      <td>True</td>\n",
       "      <td>2009</td>\n",
       "      <td>gravity</td>\n",
       "      <td>gravity</td>\n",
       "      <td>gravity</td>\n",
       "      <td>vwc</td>\n",
       "      <td>user-group</td>\n",
       "      <td>pay per bucket</td>\n",
       "      <td>per bucket</td>\n",
       "      <td>soft</td>\n",
       "      <td>good</td>\n",
       "      <td>enough</td>\n",
       "      <td>enough</td>\n",
       "      <td>dam</td>\n",
       "      <td>dam</td>\n",
       "      <td>surface</td>\n",
       "      <td>communal standpipe multiple</td>\n",
       "      <td>communal standpipe</td>\n",
       "      <td>functional</td>\n",
       "    </tr>\n",
       "    <tr>\n",
       "      <th>3</th>\n",
       "      <td>67743</td>\n",
       "      <td>0.0</td>\n",
       "      <td>2013-01-28</td>\n",
       "      <td>Unicef</td>\n",
       "      <td>263</td>\n",
       "      <td>UNICEF</td>\n",
       "      <td>38.486161</td>\n",
       "      <td>-11.155298</td>\n",
       "      <td>Zahanati Ya Nanyumbu</td>\n",
       "      <td>0</td>\n",
       "      <td>Ruvuma / Southern Coast</td>\n",
       "      <td>Mahakamani</td>\n",
       "      <td>Mtwara</td>\n",
       "      <td>90</td>\n",
       "      <td>63</td>\n",
       "      <td>Nanyumbu</td>\n",
       "      <td>Nanyumbu</td>\n",
       "      <td>58</td>\n",
       "      <td>True</td>\n",
       "      <td>GeoData Consultants Ltd</td>\n",
       "      <td>VWC</td>\n",
       "      <td>NaN</td>\n",
       "      <td>True</td>\n",
       "      <td>1986</td>\n",
       "      <td>submersible</td>\n",
       "      <td>submersible</td>\n",
       "      <td>submersible</td>\n",
       "      <td>vwc</td>\n",
       "      <td>user-group</td>\n",
       "      <td>never pay</td>\n",
       "      <td>never pay</td>\n",
       "      <td>soft</td>\n",
       "      <td>good</td>\n",
       "      <td>dry</td>\n",
       "      <td>dry</td>\n",
       "      <td>machine dbh</td>\n",
       "      <td>borehole</td>\n",
       "      <td>groundwater</td>\n",
       "      <td>communal standpipe multiple</td>\n",
       "      <td>communal standpipe</td>\n",
       "      <td>non functional</td>\n",
       "    </tr>\n",
       "    <tr>\n",
       "      <th>4</th>\n",
       "      <td>19728</td>\n",
       "      <td>0.0</td>\n",
       "      <td>2011-07-13</td>\n",
       "      <td>Action In A</td>\n",
       "      <td>0</td>\n",
       "      <td>Artisan</td>\n",
       "      <td>31.130847</td>\n",
       "      <td>-1.825359</td>\n",
       "      <td>Shuleni</td>\n",
       "      <td>0</td>\n",
       "      <td>Lake Victoria</td>\n",
       "      <td>Kyanyamisa</td>\n",
       "      <td>Kagera</td>\n",
       "      <td>18</td>\n",
       "      <td>1</td>\n",
       "      <td>Karagwe</td>\n",
       "      <td>Nyakasimbi</td>\n",
       "      <td>0</td>\n",
       "      <td>True</td>\n",
       "      <td>GeoData Consultants Ltd</td>\n",
       "      <td>NaN</td>\n",
       "      <td>NaN</td>\n",
       "      <td>True</td>\n",
       "      <td>0</td>\n",
       "      <td>gravity</td>\n",
       "      <td>gravity</td>\n",
       "      <td>gravity</td>\n",
       "      <td>other</td>\n",
       "      <td>other</td>\n",
       "      <td>never pay</td>\n",
       "      <td>never pay</td>\n",
       "      <td>soft</td>\n",
       "      <td>good</td>\n",
       "      <td>seasonal</td>\n",
       "      <td>seasonal</td>\n",
       "      <td>rainwater harvesting</td>\n",
       "      <td>rainwater harvesting</td>\n",
       "      <td>surface</td>\n",
       "      <td>communal standpipe</td>\n",
       "      <td>communal standpipe</td>\n",
       "      <td>functional</td>\n",
       "    </tr>\n",
       "  </tbody>\n",
       "</table>\n",
       "</div>"
      ],
      "text/plain": [
       "      id  amount_tsh date_recorded        funder  gps_height     installer  \\\n",
       "0  69572      6000.0    2011-03-14         Roman        1390         Roman   \n",
       "1   8776         0.0    2013-03-06       Grumeti        1399       GRUMETI   \n",
       "2  34310        25.0    2013-02-25  Lottery Club         686  World vision   \n",
       "3  67743         0.0    2013-01-28        Unicef         263        UNICEF   \n",
       "4  19728         0.0    2011-07-13   Action In A           0       Artisan   \n",
       "\n",
       "   longitude   latitude              wpt_name  num_private  \\\n",
       "0  34.938093  -9.856322                  none            0   \n",
       "1  34.698766  -2.147466              Zahanati            0   \n",
       "2  37.460664  -3.821329           Kwa Mahundi            0   \n",
       "3  38.486161 -11.155298  Zahanati Ya Nanyumbu            0   \n",
       "4  31.130847  -1.825359               Shuleni            0   \n",
       "\n",
       "                     basin  subvillage   region  region_code  district_code  \\\n",
       "0               Lake Nyasa    Mnyusi B   Iringa           11              5   \n",
       "1            Lake Victoria     Nyamara     Mara           20              2   \n",
       "2                  Pangani     Majengo  Manyara           21              4   \n",
       "3  Ruvuma / Southern Coast  Mahakamani   Mtwara           90             63   \n",
       "4            Lake Victoria  Kyanyamisa   Kagera           18              1   \n",
       "\n",
       "         lga        ward  population public_meeting              recorded_by  \\\n",
       "0     Ludewa    Mundindi         109           True  GeoData Consultants Ltd   \n",
       "1  Serengeti       Natta         280            NaN  GeoData Consultants Ltd   \n",
       "2  Simanjiro     Ngorika         250           True  GeoData Consultants Ltd   \n",
       "3   Nanyumbu    Nanyumbu          58           True  GeoData Consultants Ltd   \n",
       "4    Karagwe  Nyakasimbi           0           True  GeoData Consultants Ltd   \n",
       "\n",
       "  scheme_management                  scheme_name permit  construction_year  \\\n",
       "0               VWC                        Roman  False               1999   \n",
       "1             Other                          NaN   True               2010   \n",
       "2               VWC  Nyumba ya mungu pipe scheme   True               2009   \n",
       "3               VWC                          NaN   True               1986   \n",
       "4               NaN                          NaN   True                  0   \n",
       "\n",
       "  extraction_type extraction_type_group extraction_type_class management  \\\n",
       "0         gravity               gravity               gravity        vwc   \n",
       "1         gravity               gravity               gravity        wug   \n",
       "2         gravity               gravity               gravity        vwc   \n",
       "3     submersible           submersible           submersible        vwc   \n",
       "4         gravity               gravity               gravity      other   \n",
       "\n",
       "  management_group         payment payment_type water_quality quality_group  \\\n",
       "0       user-group    pay annually     annually          soft          good   \n",
       "1       user-group       never pay    never pay          soft          good   \n",
       "2       user-group  pay per bucket   per bucket          soft          good   \n",
       "3       user-group       never pay    never pay          soft          good   \n",
       "4            other       never pay    never pay          soft          good   \n",
       "\n",
       "       quantity quantity_group                source           source_type  \\\n",
       "0        enough         enough                spring                spring   \n",
       "1  insufficient   insufficient  rainwater harvesting  rainwater harvesting   \n",
       "2        enough         enough                   dam                   dam   \n",
       "3           dry            dry           machine dbh              borehole   \n",
       "4      seasonal       seasonal  rainwater harvesting  rainwater harvesting   \n",
       "\n",
       "  source_class              waterpoint_type waterpoint_type_group  \\\n",
       "0  groundwater           communal standpipe    communal standpipe   \n",
       "1      surface           communal standpipe    communal standpipe   \n",
       "2      surface  communal standpipe multiple    communal standpipe   \n",
       "3  groundwater  communal standpipe multiple    communal standpipe   \n",
       "4      surface           communal standpipe    communal standpipe   \n",
       "\n",
       "     status_group  \n",
       "0      functional  \n",
       "1      functional  \n",
       "2      functional  \n",
       "3  non functional  \n",
       "4      functional  "
      ]
     },
     "execution_count": 8,
     "metadata": {},
     "output_type": "execute_result"
    }
   ],
   "source": [
    "all_data.head()"
   ]
  },
  {
   "cell_type": "markdown",
   "metadata": {},
   "source": [
    "### Data Cleaning"
   ]
  },
  {
   "cell_type": "markdown",
   "metadata": {},
   "source": [
    "We are going to drop unneccessary features."
   ]
  },
  {
   "cell_type": "code",
   "execution_count": 9,
   "metadata": {},
   "outputs": [],
   "source": [
    "all_data.drop(['id', 'wpt_name', 'recorded_by', 'num_private', 'funder', 'installer', 'public_meeting'], axis=1, inplace=True)"
   ]
  },
  {
   "cell_type": "markdown",
   "metadata": {},
   "source": [
    "Now we are going to see if there are duplicates of the columns."
   ]
  },
  {
   "cell_type": "markdown",
   "metadata": {},
   "source": [
    "We are going to drop scheme_name since scheme_management has more specific values.\n",
    "\n",
    "We are going to drop waterpoint_type_group since waterpoint_type has more specific values.\n",
    "\n",
    "We are going to drop extraction_type_class and extraction_type_group since extraction_type has more specific values.\n",
    "\n",
    "We are going to drop source_type since source has more specific values.\n",
    "\n",
    "We are going to drop payment_type since payment has more specific values.\n",
    "\n",
    "We are going to drop quantity_group since quantity has more specific values.\n",
    "\n",
    "We are going to drop management_group since management has more specific values."
   ]
  },
  {
   "cell_type": "code",
   "execution_count": 10,
   "metadata": {},
   "outputs": [],
   "source": [
    "all_data.drop(['waterpoint_type_group', 'scheme_name', 'extraction_type_class', 'extraction_type_group',\n",
    "                'source_type',  'payment_type', 'quantity_group', 'management_group'\n",
    "                ], axis=1, inplace=True)"
   ]
  },
  {
   "cell_type": "markdown",
   "metadata": {},
   "source": [
    "We want to just get the year from the date_recorded and drop date_recorded."
   ]
  },
  {
   "cell_type": "code",
   "execution_count": 11,
   "metadata": {},
   "outputs": [],
   "source": [
    "all_data['recorded_year'] = all_data['date_recorded'].str[:4].astype(int)"
   ]
  },
  {
   "cell_type": "markdown",
   "metadata": {},
   "source": [
    "We kept lat, long, region_code, district_code for location based information and droped region, subvillage, lga, and ward."
   ]
  },
  {
   "cell_type": "code",
   "execution_count": 12,
   "metadata": {},
   "outputs": [],
   "source": [
    "all_data.drop(['date_recorded', 'region', 'subvillage', 'lga', 'ward'], axis=1, inplace=True)"
   ]
  },
  {
   "cell_type": "markdown",
   "metadata": {},
   "source": [
    "Let's look for null values."
   ]
  },
  {
   "cell_type": "code",
   "execution_count": 13,
   "metadata": {},
   "outputs": [
    {
     "data": {
      "text/plain": [
       "amount_tsh              0\n",
       "gps_height              0\n",
       "longitude               0\n",
       "latitude                0\n",
       "basin                   0\n",
       "region_code             0\n",
       "district_code           0\n",
       "population              0\n",
       "scheme_management    3877\n",
       "permit               3056\n",
       "construction_year       0\n",
       "extraction_type         0\n",
       "management              0\n",
       "payment                 0\n",
       "water_quality           0\n",
       "quality_group           0\n",
       "quantity                0\n",
       "source                  0\n",
       "source_class            0\n",
       "waterpoint_type         0\n",
       "status_group            0\n",
       "recorded_year           0\n",
       "dtype: int64"
      ]
     },
     "execution_count": 13,
     "metadata": {},
     "output_type": "execute_result"
    }
   ],
   "source": [
    "all_data.isna().sum()"
   ]
  },
  {
   "cell_type": "code",
   "execution_count": 14,
   "metadata": {},
   "outputs": [],
   "source": [
    "# Fill null values to 'unknown' since scheme_management and permit are object\n",
    "all_data.fillna('Unknown', inplace=True)"
   ]
  },
  {
   "cell_type": "code",
   "execution_count": 15,
   "metadata": {},
   "outputs": [],
   "source": [
    "# Change permit type boolean to string\n",
    "all_data['permit'] = all_data['permit'].astype(str)"
   ]
  },
  {
   "cell_type": "code",
   "execution_count": 16,
   "metadata": {},
   "outputs": [
    {
     "data": {
      "text/plain": [
       "amount_tsh           0\n",
       "gps_height           0\n",
       "longitude            0\n",
       "latitude             0\n",
       "basin                0\n",
       "region_code          0\n",
       "district_code        0\n",
       "population           0\n",
       "scheme_management    0\n",
       "permit               0\n",
       "construction_year    0\n",
       "extraction_type      0\n",
       "management           0\n",
       "payment              0\n",
       "water_quality        0\n",
       "quality_group        0\n",
       "quantity             0\n",
       "source               0\n",
       "source_class         0\n",
       "waterpoint_type      0\n",
       "status_group         0\n",
       "recorded_year        0\n",
       "dtype: int64"
      ]
     },
     "execution_count": 16,
     "metadata": {},
     "output_type": "execute_result"
    }
   ],
   "source": [
    "all_data.isna().sum()"
   ]
  },
  {
   "cell_type": "markdown",
   "metadata": {},
   "source": [
    "Now all our data is cleaned for modeling."
   ]
  },
  {
   "cell_type": "markdown",
   "metadata": {},
   "source": [
    "### Functions"
   ]
  },
  {
   "cell_type": "markdown",
   "metadata": {},
   "source": [
    "We created functions to help us visualize our data."
   ]
  },
  {
   "cell_type": "code",
   "execution_count": 17,
   "metadata": {},
   "outputs": [],
   "source": [
    "#makes a copy of df that has not been converted to binary values for target\n",
    "df_binary = all_data.copy()\n",
    "\n",
    "# Apply the binary function to our target.\n",
    "binary_key = {'functional': 0,'functional needs repair': 0, 'non functional': 1}\n",
    "df_binary['status_group'].replace(binary_key, inplace=True)"
   ]
  },
  {
   "cell_type": "code",
   "execution_count": 92,
   "metadata": {},
   "outputs": [],
   "source": [
    "# Some functions that may provide to be useful\n",
    "def mean_scores(results):\n",
    "    '''Return Train/Test Mean Score from a Cross Val'''\n",
    "    return print(f'''Mean Train Score: {results['train_score'].mean()}\n",
    "Mean Test Score: {results['test_score'].mean()}''')\n",
    "\n",
    "def metrics(y_true,y_preds):\n",
    "    '''Gives recall,precision,accuracy,F1 score and confusion matrix'''\n",
    "    return print(f'''Recall Score: {recall_score(y_true,y_preds)}\n",
    "Precision Score: {precision_score(y_true,y_preds)}\n",
    "Accuracy Score:{accuracy_score(y_true,y_preds)}\n",
    "F1 Score: {f1_score(y_true,y_preds)}\n",
    "Confusion Matrix: \n",
    "{confusion_matrix(y_true,y_preds)}''')\n",
    "\n",
    "def gs_mean_scores(results):\n",
    "    '''Return Train and Test Scores from a grid search'''\n",
    "    return print(f'''Mean Train Score: {results.cv_results_['mean_train_score'].mean()}'\n",
    "Mean Test Score: {results.cv_results_['mean_test_score'].mean()}''')\n",
    "\n",
    "def total_val_count(df,column):\n",
    "    '''Creates a dictionary with all value counts in column'''\n",
    "    data= df[column]\n",
    "    counts = {}\n",
    "    for i in data:\n",
    "        counts[i] = counts.get(i, 0) + 1\n",
    "    counts_sorted = dict(sorted(counts.items(), key=lambda item: item[1],reverse=True))\n",
    "    return counts_sorted\n",
    "\n",
    "def val_count_nf(df,column):\n",
    "    '''Creates a dictionary from a dataframe that has columns\n",
    "    as keys and their total count of values that do not have functioning pumps'''\n",
    "    df_val = df.loc[df['status_group'] == 1]\n",
    "    counts = {}\n",
    "    for i in df_val[column]:\n",
    "        counts[i] = counts.get(i, 0) + 1\n",
    "    counts_sorted = dict(sorted(counts.items(), key=lambda item: item[1],reverse=True))\n",
    "    return counts_sorted\n",
    "\n",
    "\n",
    "def addlabels(x,y,left,up):\n",
    "    '''Add labels on top of each bar on bar graph'''\n",
    "    for i in range(len(x)):\n",
    "        plt.text(i-left,y[i]+up,y[i])\n",
    "\n",
    "def addlabelsbig(x,y,left,up):\n",
    "    '''Add BIGGER labels on top of each bar on bar graph'''\n",
    "    for i in range(len(x)):\n",
    "        plt.text(i-left,y[i]+up,f'{y[i]}%',fontsize=20,color='black')\n",
    "\n",
    "def percent_dict(df,column):\n",
    "    '''Creates a dictionary that has highest percent of non functioning pumps'''\n",
    "    percent= []\n",
    "    lst = list(df[column].unique())\n",
    "    for val in lst:\n",
    "        num_pumps = len(df1.loc[df[column] == val])\n",
    "        fail_pumps = len(df1.loc[(df['status_group'] == 1) & (df[column] == val)])\n",
    "        percent.append(round((fail_pumps/num_pumps*100),2))\n",
    "    d = dict(zip(lst,percent))\n",
    "    d_sorted = dict(sorted(d.items(), key=lambda item: item[1],reverse=True))\n",
    "    return d_sorted\n",
    "\n",
    "def visualize(dictionary,title=None):\n",
    "    '''Creates Seaborn Barplot from Dictionary'''\n",
    "    nums = list(dictionary.values())\n",
    "    fig , ax = plt.subplots(figsize=(12,10))\n",
    "    sns.barplot(x=list(dictionary.keys()),y=nums)\n",
    "    ax.set_title(title,fontsize=15)\n",
    "    ax.set_ylabel('Percent Non Functioning',fontsize=15);\n",
    "\n",
    "def stack_it(df,column,title=None,addlabels=False):\n",
    "    '''Returns Barplot showing total count of catgory type with percent of failure '''\n",
    "\n",
    "    fig , ax= plt.subplots(nrows=1,ncols=1,figsize=(12,8))\n",
    "    \n",
    "    \n",
    "    column_count = total_val_count(df,column)\n",
    "    nums = list(column_count.values())[:5]\n",
    "    top_5 = list(column_count.keys())[:5]\n",
    "    transform = val_count_nf(df,column)\n",
    "    num_failed = []\n",
    "    for x in top_5:\n",
    "        for y in transform.keys():\n",
    "            if x == y:\n",
    "                num_failed.append(transform[y])\n",
    "    percent_failed = [round((i / j)*100,1) for i, j in zip(num_failed, nums)]\n",
    "    \n",
    "    ax.set_title(title,fontsize=15)\n",
    "    sns.barplot(x=top_5,y=nums,alpha=.4,label='Total Count',color='orange')\n",
    "    ax.set_ylabel('Total Count',fontsize=15)\n",
    "    sns.barplot(x=top_5, y=num_failed,label='Amount Failed',color='orange')\n",
    "    plt.xticks(rotation=45,fontsize=15)\n",
    "    plt.yticks(fontsize=15)\n",
    "    if addlabels:        \n",
    "        addlabelsbig(top_5,percent_failed,.2,100);"
   ]
  },
  {
   "cell_type": "markdown",
   "metadata": {},
   "source": [
    "### Data Visualization"
   ]
  },
  {
   "cell_type": "code",
   "execution_count": 19,
   "metadata": {},
   "outputs": [
    {
     "data": {
      "image/png": "[encoded data removed]",
      "text/plain": [
       "<Figure size 864x576 with 1 Axes>"
      ]
     },
     "metadata": {
      "needs_background": "light"
     },
     "output_type": "display_data"
    }
   ],
   "source": [
    "stack_it(df_binary,'management',addlabels=True,title='Non Functioning Pumps by Management Groups')\n",
    "plt.legend(fontsize=20)\n",
    "plt.xticks([0, 1, 2, 3 ,4], ['VWC', 'WUG', 'Water Board', 'WUA', 'Private Operator'],\n",
    "    rotation=20);"
   ]
  },
  {
   "cell_type": "markdown",
   "metadata": {},
   "source": [
    "Here we are speculating that how a waterpoint is managed may have an impact on the percentage of failed pumps. VWC seems to be leading the way with almost 43% non functioning pumps at their waterpoints."
   ]
  },
  {
   "cell_type": "code",
   "execution_count": 20,
   "metadata": {},
   "outputs": [
    {
     "data": {
      "image/png": "[encoded data removed]",
      "text/plain": [
       "<Figure size 864x576 with 1 Axes>"
      ]
     },
     "metadata": {
      "needs_background": "light"
     },
     "output_type": "display_data"
    }
   ],
   "source": [
    "stack_it(df_binary,'quantity',addlabels=True,title='Water Quantity Non Functioning Pumps')\n",
    "plt.xticks([0, 1, 2, 3 ,4], ['Enough', 'Insufficient', 'Dry', 'Seasonal', 'Unknown'],\n",
    "    rotation=20)\n",
    "plt.legend(fontsize=20);"
   ]
  },
  {
   "cell_type": "markdown",
   "metadata": {},
   "source": [
    "Well this is very interesting. Dry areas have the highest amount of broken pumps, at just about 97%. It is also interesting that waterpoints labeled as insufficient water have the second highest rate of broken pumps. It seems the less water a waterpoint has, the higher the chance the pump is non functioning."
   ]
  },
  {
   "cell_type": "code",
   "execution_count": 21,
   "metadata": {},
   "outputs": [
    {
     "data": {
      "image/png": "[encoded data removed]",
      "text/plain": [
       "<Figure size 864x576 with 1 Axes>"
      ]
     },
     "metadata": {
      "needs_background": "light"
     },
     "output_type": "display_data"
    }
   ],
   "source": [
    "stack_it(df_binary,'waterpoint_type',addlabels=True,title='Waterpoint Type Non Functioning Pumps')\n",
    "plt.legend(fontsize=20)\n",
    "plt.xticks([0, 1, 2, 3 ,4], ['Standpipe','Hand Pump','Other','Multiple Standpipes','Improved Spring'],\n",
    "    rotation=20);"
   ]
  },
  {
   "cell_type": "markdown",
   "metadata": {},
   "source": [
    "A single standpipe seems to be a good indicator of whether or not a pump will stop working. If a waterpoint has multiple standpoints, there is over a 50% chance that the pump will not be functioning. It would be nice if the 'Other' category could be identified to see which pumps are performing the worst."
   ]
  },
  {
   "cell_type": "code",
   "execution_count": 22,
   "metadata": {},
   "outputs": [
    {
     "data": {
      "image/png": "[encoded data removed]",
      "text/plain": [
       "<Figure size 864x576 with 1 Axes>"
      ]
     },
     "metadata": {
      "needs_background": "light"
     },
     "output_type": "display_data"
    }
   ],
   "source": [
    "stack_it(df_binary,'water_quality',title='Water Quality Non Functioning Pumps',addlabels=True)\n",
    "plt.legend(fontsize=20)\n",
    "plt.xticks([0, 1, 2, 3 ,4], ['Soft','Salty','Unknown','Milky','Colored'],\n",
    "    rotation=20);"
   ]
  },
  {
   "cell_type": "markdown",
   "metadata": {},
   "source": [
    "Here we see salt water has the highest percent of failures. We would expect water with higher solid contents (such as saltwater) to have a high percent of failures because of the wear and tear caused by the solids in the water. \n",
    "\n",
    "Unknown water types take the lead for failures. It would be interesting to see the solid content percent of those unknown water types, as we think more solids in the water leads to more failures. Other things (like flow rates) would affect the failures also. The faster the solids move in water, the more damage they will do to pumps!  "
   ]
  },
  {
   "cell_type": "markdown",
   "metadata": {},
   "source": [
    "## Model Selection"
   ]
  },
  {
   "cell_type": "markdown",
   "metadata": {},
   "source": [
    "### Train-Test Split"
   ]
  },
  {
   "cell_type": "code",
   "execution_count": 23,
   "metadata": {},
   "outputs": [],
   "source": [
    "X = all_data.drop('status_group', axis=1)\n",
    "y = all_data['status_group']\n",
    "\n",
    "X_train, X_test, y_train, y_test = train_test_split(X, y, test_size=0.25, random_state=42, stratify=y)"
   ]
  },
  {
   "cell_type": "markdown",
   "metadata": {},
   "source": [
    "We want to bin our target values to binary."
   ]
  },
  {
   "cell_type": "code",
   "execution_count": 24,
   "metadata": {},
   "outputs": [],
   "source": [
    "y_train = y_train.map({'functional' : 0, 'non functional' : 1, 'functional needs repair' : 0})"
   ]
  },
  {
   "cell_type": "markdown",
   "metadata": {},
   "source": [
    "Then, we want to make an age column to get the age of the water pumps."
   ]
  },
  {
   "cell_type": "code",
   "execution_count": 25,
   "metadata": {},
   "outputs": [],
   "source": [
    "# Replace water pumps with 0 construction year with the median construction year\n",
    "median_year_with_no_zero = X_train[X_train['construction_year'] > 0]['construction_year'].median()\n",
    "X_train.loc[(X_train['construction_year'] == 0),'construction_year'] = median_year_with_no_zero\n",
    "\n",
    "# If construction year is greater than recorded age, than replace construction year with median year.\n",
    "X_train.loc[(X_train['construction_year'] > X_train['recorded_year']),'construction_year'] = median_year_with_no_zero\n",
    "\n",
    "# Create age column\n",
    "X_train['age'] = X_train['recorded_year'] - X_train['construction_year']\n",
    "\n",
    "# Drop recorded_year and construction_year since we now have the age\n",
    "X_train.drop(['recorded_year', 'construction_year'], axis=1, inplace=True)"
   ]
  },
  {
   "cell_type": "markdown",
   "metadata": {},
   "source": [
    "### Dummy Classifier"
   ]
  },
  {
   "cell_type": "markdown",
   "metadata": {},
   "source": [
    "Using Dummy Classifier, we are going to come up with our First Simple Model."
   ]
  },
  {
   "cell_type": "code",
   "execution_count": 26,
   "metadata": {},
   "outputs": [
    {
     "data": {
      "text/plain": [
       "0    0.615758\n",
       "1    0.384242\n",
       "Name: status_group, dtype: float64"
      ]
     },
     "execution_count": 26,
     "metadata": {},
     "output_type": "execute_result"
    }
   ],
   "source": [
    "y_train.value_counts(normalize=True)"
   ]
  },
  {
   "cell_type": "markdown",
   "metadata": {},
   "source": [
    "We see that our classes aren't imbalanced. We have approximately 60% functional and approximately 40% non-functional."
   ]
  },
  {
   "cell_type": "code",
   "execution_count": 27,
   "metadata": {},
   "outputs": [],
   "source": [
    "# Create our dummy model\n",
    "dummy_model = DummyClassifier(strategy=\"most_frequent\")\n",
    "\n",
    "cv_results = cross_validate(dummy_model, X_train, y_train, return_train_score=True)"
   ]
  },
  {
   "cell_type": "code",
   "execution_count": 32,
   "metadata": {},
   "outputs": [
    {
     "name": "stdout",
     "output_type": "stream",
     "text": [
      "Mean Train Score: 0.6157575757575758\n",
      "Mean Test Score: 0.6157575757575758\n"
     ]
    }
   ],
   "source": [
    "mean_scores(cv_results)"
   ]
  },
  {
   "cell_type": "markdown",
   "metadata": {},
   "source": [
    "The dummy model gives a result of ~61.6% accurate results."
   ]
  },
  {
   "cell_type": "markdown",
   "metadata": {},
   "source": [
    "### Logistic Regression"
   ]
  },
  {
   "cell_type": "markdown",
   "metadata": {},
   "source": [
    "Now, we are going to try logistic regression model on our data to see if there is an improvement."
   ]
  },
  {
   "cell_type": "code",
   "execution_count": 33,
   "metadata": {},
   "outputs": [],
   "source": [
    "# Get categorical and numeric columns\n",
    "categorical_cols = X_train.select_dtypes('object')\n",
    "numerical_cols = X_train.select_dtypes(exclude=['object'])\n",
    "\n",
    "# Make Pipeline for categorical (OneHotEncoder) and numeric columns (StandardScaler)\n",
    "categorical_pipeline = Pipeline(steps=[('ohe', OneHotEncoder(handle_unknown='ignore'))])\n",
    "numerical_pipeline = Pipeline(steps=[('ss', StandardScaler())])\n",
    "\n",
    "# Create transformer with both categorical and numeric pipelines\n",
    "trans = ColumnTransformer(transformers=[\n",
    "    ('numerical', numerical_pipeline, numerical_cols.columns),\n",
    "    ('categorical', categorical_pipeline, categorical_cols.columns)\n",
    "])\n",
    "\n",
    "# Create a pipeline with the transformer and the model\n",
    "lr_pipline = Pipeline(steps=[('trans', trans),\n",
    "                              ('model', LogisticRegression(random_state=42))])"
   ]
  },
  {
   "cell_type": "code",
   "execution_count": 34,
   "metadata": {},
   "outputs": [],
   "source": [
    "# Create a grid search to get the best hypterparameter for logistic regression\n",
    "lr_grid = {'model__C' : [0.5, 1, 50],\n",
    "       'model__max_iter' : [1750, 2000],\n",
    "       'model__class_weight': [None, 'balanced', 0.25],\n",
    "       'model__tol' : [0.0001, 0.01, 0.1]}\n",
    "\n",
    "lr_gs = GridSearchCV(lr_pipline, lr_grid, cv=3, return_train_score=True)"
   ]
  },
  {
   "cell_type": "code",
   "execution_count": 35,
   "metadata": {},
   "outputs": [
    {
     "data": {
      "text/plain": [
       "GridSearchCV(cv=3,\n",
       "             estimator=Pipeline(steps=[('trans',\n",
       "                                        ColumnTransformer(transformers=[('numerical',\n",
       "                                                                         Pipeline(steps=[('ss',\n",
       "                                                                                          StandardScaler())]),\n",
       "                                                                         Index(['amount_tsh', 'gps_height', 'longitude', 'latitude', 'region_code',\n",
       "       'district_code', 'population', 'age'],\n",
       "      dtype='object')),\n",
       "                                                                        ('categorical',\n",
       "                                                                         Pipeline(steps=[('ohe',\n",
       "                                                                                          OneHotEncoder(handle_unknown='ignore'))]),\n",
       "                                                                         Index([...n_type', 'management',\n",
       "       'payment', 'water_quality', 'quality_group', 'quantity', 'source',\n",
       "       'source_class', 'waterpoint_type'],\n",
       "      dtype='object'))])),\n",
       "                                       ('model',\n",
       "                                        LogisticRegression(random_state=42))]),\n",
       "             param_grid={'model__C': [0.5, 1, 50],\n",
       "                         'model__class_weight': [None, 'balanced', 0.25],\n",
       "                         'model__max_iter': [1750, 2000],\n",
       "                         'model__tol': [0.0001, 0.01, 0.1]},\n",
       "             return_train_score=True)"
      ]
     },
     "execution_count": 35,
     "metadata": {},
     "output_type": "execute_result"
    }
   ],
   "source": [
    "# Fit our data into the grid search\n",
    "lr_gs.fit(X_train, y_train)"
   ]
  },
  {
   "cell_type": "code",
   "execution_count": 23,
   "metadata": {},
   "outputs": [
    {
     "data": {
      "text/plain": [
       "{'model__C': 1,\n",
       " 'model__class_weight': None,\n",
       " 'model__max_iter': 1750,\n",
       " 'model__tol': 0.0001}"
      ]
     },
     "execution_count": 23,
     "metadata": {},
     "output_type": "execute_result"
    }
   ],
   "source": [
    "# See the best parameters for logistic regression\n",
    "lr_gs.best_params_"
   ]
  },
  {
   "cell_type": "code",
   "execution_count": 41,
   "metadata": {},
   "outputs": [
    {
     "name": "stdout",
     "output_type": "stream",
     "text": [
      "Mean Train Score: 0.7929812528577963'\n",
      "Mean Test Score: 0.7913829654570398\n"
     ]
    }
   ],
   "source": [
    "gs_mean_scores(lr_gs)"
   ]
  },
  {
   "cell_type": "markdown",
   "metadata": {},
   "source": [
    "Our logistic regression model got ~79% accurate results. Looking at the train and test scores, the variance is low. Our bias is lower than our dummy model but not too low."
   ]
  },
  {
   "cell_type": "code",
   "execution_count": 48,
   "metadata": {},
   "outputs": [
    {
     "name": "stdout",
     "output_type": "stream",
     "text": [
      "Recall Score: 0.5986096506601238\n",
      "Precision Score: 0.8191701974578304\n",
      "Accuracy Score:0.7949943883277216\n",
      "F1 Score: 0.6917338913828602\n",
      "Confusion Matrix: \n",
      "[[25170  2262]\n",
      " [ 6871 10247]]\n"
     ]
    }
   ],
   "source": [
    "lr_y_pred = cross_val_predict(lr_gs.best_estimator_, X_train, y_train)\n",
    "\n",
    "metrics(y_train,lr_y_pred)"
   ]
  },
  {
   "cell_type": "markdown",
   "metadata": {},
   "source": [
    "The logistic model predicts 35,417 water pumps correctly. The model also predicts 6,871 water pumps as non-functional when they are functional and it preditcs 2,238 water pumps as functional when they are non-functional."
   ]
  },
  {
   "cell_type": "markdown",
   "metadata": {},
   "source": [
    "### KNN"
   ]
  },
  {
   "cell_type": "markdown",
   "metadata": {},
   "source": [
    "Let's see if KNN gives us a better result."
   ]
  },
  {
   "cell_type": "code",
   "execution_count": 49,
   "metadata": {},
   "outputs": [],
   "source": [
    "gs_mean_scoresCreate pipeline with the transformer and KNN model\n",
    "knn_pipline = Pipeline(steps=[('trans', trans),\n",
    "                              ('model', KNeighborsClassifier())])"
   ]
  },
  {
   "cell_type": "code",
   "execution_count": 50,
   "metadata": {},
   "outputs": [
    {
     "data": {
      "text/plain": [
       "GridSearchCV(cv=3,\n",
       "             estimator=Pipeline(steps=[('trans',\n",
       "                                        ColumnTransformer(transformers=[('numerical',\n",
       "                                                                         Pipeline(steps=[('ss',\n",
       "                                                                                          StandardScaler())]),\n",
       "                                                                         Index(['amount_tsh', 'gps_height', 'longitude', 'latitude', 'region_code',\n",
       "       'district_code', 'population', 'age'],\n",
       "      dtype='object')),\n",
       "                                                                        ('categorical',\n",
       "                                                                         Pipeline(steps=[('ohe',\n",
       "                                                                                          OneHotEncoder(handle_unknown='ignore'))]),\n",
       "                                                                         Index(['basin', 'scheme_management', 'permit', 'extraction_type', 'management',\n",
       "       'payment', 'water_quality', 'quality_group', 'quantity', 'source',\n",
       "       'source_class', 'waterpoint_type'],\n",
       "      dtype='object'))])),\n",
       "                                       ('model', KNeighborsClassifier())]),\n",
       "             param_grid={'model__n_neighbors': [7, 11, 15, 21],\n",
       "                         'model__weights': ['distance', 'uniform']},\n",
       "             return_train_score=True)"
      ]
     },
     "execution_count": 50,
     "metadata": {},
     "output_type": "execute_result"
    }
   ],
   "source": [
    "# Create grid search to get the best parameters for KNN\n",
    "knn_grid= {'model__n_neighbors': [7,11,15,21],\n",
    "      'model__weights': ['distance', 'uniform'],\n",
    "      }\n",
    "\n",
    "knn_gs = GridSearchCV(knn_pipline, knn_grid, cv=3, return_train_score=True)\n",
    "\n",
    "# Fit our training data in the grid search\n",
    "knn_gs.fit(X_train,y_train)"
   ]
  },
  {
   "cell_type": "code",
   "execution_count": 51,
   "metadata": {},
   "outputs": [
    {
     "data": {
      "text/plain": [
       "{'model__n_neighbors': 15, 'model__weights': 'distance'}"
      ]
     },
     "execution_count": 51,
     "metadata": {},
     "output_type": "execute_result"
    }
   ],
   "source": [
    "# Get our best parameter for KNN\n",
    "knn_gs.best_params_"
   ]
  },
  {
   "cell_type": "code",
   "execution_count": 57,
   "metadata": {},
   "outputs": [
    {
     "name": "stdout",
     "output_type": "stream",
     "text": [
      "Mean Train Score: 0.9180331088664422'\n",
      "Mean Test Score: 0.8168237934904602\n"
     ]
    }
   ],
   "source": [
    "gs_mean_scores(knn_gs)"
   ]
  },
  {
   "cell_type": "markdown",
   "metadata": {},
   "source": [
    "Our KNN model got ~81.6% accurate results. Looking at the train and test scores, the variance is high. Our bias is slightly lower than our logistic but it seems like our KNN model is overfit."
   ]
  },
  {
   "cell_type": "code",
   "execution_count": 58,
   "metadata": {},
   "outputs": [
    {
     "name": "stdout",
     "output_type": "stream",
     "text": [
      "Recall Score: 0.7315106905012267\n",
      "Precision Score: 0.8131168831168831\n",
      "Accuracy Score:0.8322334455667789\n",
      "F1 Score: 0.7701580663017406\n",
      "Confusion Matrix: \n",
      "[[24554  2878]\n",
      " [ 4596 12522]]\n"
     ]
    }
   ],
   "source": [
    "knn_y_pred = cross_val_predict(knn_gs.best_estimator_, X_train, y_train)\n",
    "\n",
    "metrics(y_train, knn_y_pred)"
   ]
  },
  {
   "cell_type": "markdown",
   "metadata": {},
   "source": [
    "The knn model predicts 37,076 water pumps correctly. The model also predicts 4,596 water pumps as non-functional when they are functional and it preditcs 2,878 water pumps as functional when they are non-functional."
   ]
  },
  {
   "cell_type": "markdown",
   "metadata": {},
   "source": [
    "### Random Forest Classifier"
   ]
  },
  {
   "cell_type": "markdown",
   "metadata": {},
   "source": [
    "Let's see if RandomForestClassifier gives us a better result."
   ]
  },
  {
   "cell_type": "code",
   "execution_count": 60,
   "metadata": {},
   "outputs": [],
   "source": [
    "# Create transformers for only OneHotEncoder since forest doesn't need scaler\n",
    "ohe_trans = ColumnTransformer(transformers=[('categorical', categorical_pipeline, categorical_cols.columns)],\n",
    "                              remainder='passthrough')\n",
    "# Create pipeline with transformer and randomforest model\n",
    "forest_pipline = Pipeline(steps=[('ohe_trans', ohe_trans),\n",
    "                              ('model', RandomForestClassifier(random_state=42))])"
   ]
  },
  {
   "cell_type": "code",
   "execution_count": 61,
   "metadata": {},
   "outputs": [
    {
     "data": {
      "text/plain": [
       "GridSearchCV(cv=3,\n",
       "             estimator=Pipeline(steps=[('ohe_trans',\n",
       "                                        ColumnTransformer(remainder='passthrough',\n",
       "                                                          transformers=[('categorical',\n",
       "                                                                         Pipeline(steps=[('ohe',\n",
       "                                                                                          OneHotEncoder(handle_unknown='ignore'))]),\n",
       "                                                                         Index(['basin', 'scheme_management', 'permit', 'extraction_type', 'management',\n",
       "       'payment', 'water_quality', 'quality_group', 'quantity', 'source',\n",
       "       'source_class', 'waterpoint_type'],\n",
       "      dtype='object'))])),\n",
       "                                       ('model',\n",
       "                                        RandomForestClassifier(random_state=42))]),\n",
       "             param_grid={'model__criterion': ['gini', 'entropy'],\n",
       "                         'model__max_depth': [None, 3, 5],\n",
       "                         'model__max_features': [5, 10],\n",
       "                         'model__min_samples_leaf': [1, 3, 5, 7],\n",
       "                         'model__min_samples_split': [2, 5, 10]},\n",
       "             return_train_score=True)"
      ]
     },
     "execution_count": 61,
     "metadata": {},
     "output_type": "execute_result"
    }
   ],
   "source": [
    "# Create grid search to get the best hyperparameters for randomforest\n",
    "forest_grid= {'model__criterion':['gini', 'entropy'],\n",
    "         'model__max_depth':[None,3,5],\n",
    "         'model__min_samples_split':[2,5,10],\n",
    "         'model__min_samples_leaf':[1,3,5,7],\n",
    "         'model__max_features' : [5,10]}\n",
    "\n",
    "forest_gs = GridSearchCV(forest_pipline, forest_grid, cv=3, return_train_score=True)\n",
    "\n",
    "# Fit the training data in the grid search\n",
    "forest_gs.fit(X_train,y_train)"
   ]
  },
  {
   "cell_type": "code",
   "execution_count": 62,
   "metadata": {},
   "outputs": [
    {
     "data": {
      "text/plain": [
       "{'model__criterion': 'gini',\n",
       " 'model__max_depth': None,\n",
       " 'model__max_features': 10,\n",
       " 'model__min_samples_leaf': 1,\n",
       " 'model__min_samples_split': 5}"
      ]
     },
     "execution_count": 62,
     "metadata": {},
     "output_type": "execute_result"
    }
   ],
   "source": [
    "# Look at best hyperparameters\n",
    "forest_gs.best_params_"
   ]
  },
  {
   "cell_type": "code",
   "execution_count": 65,
   "metadata": {},
   "outputs": [
    {
     "name": "stdout",
     "output_type": "stream",
     "text": [
      "Mean Train Score: 0.8008793178700587'\n",
      "Mean Test Score: 0.7836664484349669\n"
     ]
    }
   ],
   "source": [
    "gs_mean_scores(forest_gs)"
   ]
  },
  {
   "cell_type": "markdown",
   "metadata": {},
   "source": [
    "Our random forest classifier model got ~78% accurate results. Looking at the train and test scores, the variance is low. Our bias is higher than than the knn model and logistic model."
   ]
  },
  {
   "cell_type": "code",
   "execution_count": 94,
   "metadata": {},
   "outputs": [
    {
     "name": "stdout",
     "output_type": "stream",
     "text": [
      "Recall Score: 0.7574483000350508\n",
      "Precision Score: 0.8454616588419406\n",
      "Accuracy Score:0.8536026936026936\n",
      "F1 Score: 0.7990386393048622\n",
      "Confusion Matrix: \n",
      "[[25062  2370]\n",
      " [ 4152 12966]]\n"
     ]
    }
   ],
   "source": [
    "forest_y_pred = cross_val_predict(forest_gs.best_estimator_, X_train, y_train)\n",
    "\n",
    "metrics(y_train, forest_y_pred)"
   ]
  },
  {
   "cell_type": "markdown",
   "metadata": {},
   "source": [
    "The random forest classifier model predicts 38,028 water pumps correctly. The model also predicts 4,152 water pumps as non-functional when they are functional and it preditcs 2,370 water pumps as functional when they are non-functional."
   ]
  },
  {
   "cell_type": "markdown",
   "metadata": {},
   "source": [
    "### XGBoost"
   ]
  },
  {
   "cell_type": "markdown",
   "metadata": {},
   "source": [
    "Let's see if XGBoost gives us a better result."
   ]
  },
  {
   "cell_type": "code",
   "execution_count": 69,
   "metadata": {},
   "outputs": [],
   "source": [
    "# Create pipeline with transformer and XGBoost model\n",
    "xgb_pipeline = Pipeline(steps=[('ohe_trans', ohe_trans),\n",
    "                               ('model', XGBClassifier(random_state=42))])"
   ]
  },
  {
   "cell_type": "code",
   "execution_count": 70,
   "metadata": {
    "scrolled": true
   },
   "outputs": [
    {
     "data": {
      "text/plain": [
       "GridSearchCV(cv=3,\n",
       "             estimator=Pipeline(steps=[('ohe_trans',\n",
       "                                        ColumnTransformer(remainder='passthrough',\n",
       "                                                          transformers=[('categorical',\n",
       "                                                                         Pipeline(steps=[('ohe',\n",
       "                                                                                          OneHotEncoder(handle_unknown='ignore'))]),\n",
       "                                                                         Index(['basin', 'scheme_management', 'permit', 'extraction_type', 'management',\n",
       "       'payment', 'water_quality', 'quality_group', 'quantity', 'source',\n",
       "       'source_class', 'wate...\n",
       "                                                      min_child_weight=None,\n",
       "                                                      missing=nan,\n",
       "                                                      monotone_constraints=None,\n",
       "                                                      n_estimators=100,\n",
       "                                                      n_jobs=None,\n",
       "                                                      num_parallel_tree=None,\n",
       "                                                      random_state=42,\n",
       "                                                      reg_alpha=None,\n",
       "                                                      reg_lambda=None,\n",
       "                                                      scale_pos_weight=None,\n",
       "                                                      subsample=None,\n",
       "                                                      tree_method=None,\n",
       "                                                      validate_parameters=None,\n",
       "                                                      verbosity=None))]),\n",
       "             param_grid={'model__max_depth': [1, 3, 4, 5],\n",
       "                         'model__n_estimators': [50, 75, 100]},\n",
       "             return_train_score=True)"
      ]
     },
     "execution_count": 70,
     "metadata": {},
     "output_type": "execute_result"
    }
   ],
   "source": [
    "# Create grid search to find the best  \n",
    "xgb_grid = {'model__n_estimators':[50,75,100],\n",
    "            'model__max_depth':[1,3,4,5]}\n",
    "\n",
    "xgb_gs = GridSearchCV(estimator=xgb_pipeline, param_grid=xgb_grid, cv=3, return_train_score=True)\n",
    "\n",
    "# Fit the training data to the grid search\n",
    "xgb_gs.fit(X_train, y_train)"
   ]
  },
  {
   "cell_type": "code",
   "execution_count": 80,
   "metadata": {},
   "outputs": [
    {
     "data": {
      "text/plain": [
       "{'model__max_depth': 5, 'model__n_estimators': 100}"
      ]
     },
     "execution_count": 80,
     "metadata": {},
     "output_type": "execute_result"
    }
   ],
   "source": [
    "# Get the best parameter from grid search\n",
    "xgb_gs.best_params_"
   ]
  },
  {
   "cell_type": "code",
   "execution_count": 84,
   "metadata": {},
   "outputs": [
    {
     "name": "stdout",
     "output_type": "stream",
     "text": [
      "Mean Train Score: 0.8267433595211373'\n",
      "Mean Test Score: 0.813791619902731\n"
     ]
    }
   ],
   "source": [
    "gs_mean_scores(xgb_gs)"
   ]
  },
  {
   "cell_type": "markdown",
   "metadata": {},
   "source": [
    "Our XGBoost model got ~81% accurate results. Looking at the train and test scores, the variance is low. Our bias is lower than the dummy, logistic, and forest model. XGBoost model has low bias and low variance, so we want to work with this model."
   ]
  },
  {
   "cell_type": "markdown",
   "metadata": {},
   "source": [
    "With this model, we want to try to get a better score."
   ]
  },
  {
   "cell_type": "markdown",
   "metadata": {},
   "source": [
    "#### Tweaking the hyperparameters"
   ]
  },
  {
   "cell_type": "markdown",
   "metadata": {},
   "source": [
    "To get better score, we are going to make changes to the hyperparameters."
   ]
  },
  {
   "cell_type": "code",
   "execution_count": 82,
   "metadata": {
    "scrolled": true
   },
   "outputs": [
    {
     "data": {
      "text/plain": [
       "GridSearchCV(cv=3,\n",
       "             estimator=Pipeline(steps=[('ohe_trans',\n",
       "                                        ColumnTransformer(remainder='passthrough',\n",
       "                                                          transformers=[('categorical',\n",
       "                                                                         Pipeline(steps=[('ohe',\n",
       "                                                                                          OneHotEncoder(handle_unknown='ignore'))]),\n",
       "                                                                         Index(['basin', 'scheme_management', 'permit', 'extraction_type', 'management',\n",
       "       'payment', 'water_quality', 'quality_group', 'quantity', 'source',\n",
       "       'source_class', 'wate...\n",
       "                                                      min_child_weight=None,\n",
       "                                                      missing=nan,\n",
       "                                                      monotone_constraints=None,\n",
       "                                                      n_estimators=100,\n",
       "                                                      n_jobs=None,\n",
       "                                                      num_parallel_tree=None,\n",
       "                                                      random_state=42,\n",
       "                                                      reg_alpha=None,\n",
       "                                                      reg_lambda=None,\n",
       "                                                      scale_pos_weight=None,\n",
       "                                                      subsample=None,\n",
       "                                                      tree_method=None,\n",
       "                                                      validate_parameters=None,\n",
       "                                                      verbosity=None))]),\n",
       "             param_grid={'model__max_depth': [4, 5, 6, 7],\n",
       "                         'model__n_estimators': [150, 200, 225, 240]},\n",
       "             return_train_score=True)"
      ]
     },
     "execution_count": 82,
     "metadata": {},
     "output_type": "execute_result"
    }
   ],
   "source": [
    "xgb_grid2 = {'model__n_estimators':[150,200,225,240],\n",
    "            'model__max_depth':[4,5,6,7]}\n",
    "\n",
    "xgb_gs2 = GridSearchCV(estimator=xgb_pipeline, param_grid=xgb_grid2, cv=3, return_train_score=True)\n",
    "\n",
    "xgb_gs2.fit(X_train, y_train)"
   ]
  },
  {
   "cell_type": "code",
   "execution_count": 83,
   "metadata": {},
   "outputs": [
    {
     "data": {
      "text/plain": [
       "{'model__max_depth': 7, 'model__n_estimators': 200}"
      ]
     },
     "execution_count": 83,
     "metadata": {},
     "output_type": "execute_result"
    }
   ],
   "source": [
    "xgb_gs2.best_params_"
   ]
  },
  {
   "cell_type": "code",
   "execution_count": 87,
   "metadata": {},
   "outputs": [
    {
     "name": "stdout",
     "output_type": "stream",
     "text": [
      "Mean Train Score: 0.9066813973063973'\n",
      "Mean Test Score: 0.8427272727272728\n"
     ]
    }
   ],
   "source": [
    "gs_mean_scores(xgb_gs2)"
   ]
  },
  {
   "cell_type": "markdown",
   "metadata": {},
   "source": [
    "The second XGBoost model with changed hyperparameters got ~84% accurate results. Looking at the train and test scores, the variance is higher than other models but the bias is lower than all the other models."
   ]
  },
  {
   "cell_type": "code",
   "execution_count": 97,
   "metadata": {},
   "outputs": [
    {
     "name": "stdout",
     "output_type": "stream",
     "text": [
      "Recall Score: 0.7386376913190793\n",
      "Precision Score: 0.8458656676478459\n",
      "Accuracy Score:0.8478563411896746\n",
      "F1 Score: 0.7886234641052828\n",
      "Confusion Matrix: \n",
      "[[25128  2304]\n",
      " [ 4474 12644]]\n"
     ]
    }
   ],
   "source": [
    "xgb_y_pred = cross_val_predict(xgb_gs2.best_estimator_, X_train, y_train)\n",
    "\n",
    "metrics(y_train, xgb_y_pred)"
   ]
  },
  {
   "cell_type": "markdown",
   "metadata": {},
   "source": [
    "The XGBoost model predicts 37,772 water pumps correctly. The model also predicts 4,474 water pumps as non-functional when they are functional and it preditcs 2,304 water pumps as functional when they are non-functional."
   ]
  },
  {
   "cell_type": "markdown",
   "metadata": {},
   "source": [
    "## Best Model - XGBoost"
   ]
  },
  {
   "cell_type": "markdown",
   "metadata": {},
   "source": [
    "Our last XGBoost gave the best test score with hyperparameters of 'model__max_depth': 7, 'model__n_estimators': 200. So we will check to see how the XGBoost model predicts on our testing data."
   ]
  },
  {
   "cell_type": "code",
   "execution_count": 100,
   "metadata": {},
   "outputs": [],
   "source": [
    "# Make our target binary, create age column, and drop year_recorded and construction_year\n",
    "y_test = y_test.map({'functional' : 0, 'non functional' : 1, 'functional needs repair' : 0})\n",
    "median_year_with_no_zero = X_test[X_test['construction_year'] > 0]['construction_year'].median()\n",
    "X_test.loc[(X_test['construction_year'] == 0),'construction_year'] = median_year_with_no_zero\n",
    "X_test.loc[(X_test['construction_year'] > X_test['recorded_year']),'construction_year'] = median_year_with_no_zero\n",
    "X_test['age'] = X_test['recorded_year'] - X_test['construction_year']\n",
    "X_test.drop(['recorded_year', 'construction_year'], axis=1, inplace=True)"
   ]
  },
  {
   "cell_type": "code",
   "execution_count": 101,
   "metadata": {},
   "outputs": [
    {
     "data": {
      "text/plain": [
       "0.857979797979798"
      ]
     },
     "execution_count": 101,
     "metadata": {},
     "output_type": "execute_result"
    }
   ],
   "source": [
    "# Get accuracy score for the best model\n",
    "xgb_gs2.score(X_test, y_test)"
   ]
  },
  {
   "cell_type": "markdown",
   "metadata": {},
   "source": [
    "The best model's accuracy score is ~85.8%."
   ]
  },
  {
   "cell_type": "code",
   "execution_count": 102,
   "metadata": {},
   "outputs": [
    {
     "data": {
      "text/plain": [
       "<sklearn.metrics._plot.confusion_matrix.ConfusionMatrixDisplay at 0x251e6bc2070>"
      ]
     },
     "execution_count": 102,
     "metadata": {},
     "output_type": "execute_result"
    },
    {
     "data": {
      "image/png": "[encoded data removed]",
      "text/plain": [
       "<Figure size 432x288 with 2 Axes>"
      ]
     },
     "metadata": {
      "needs_background": "light"
     },
     "output_type": "display_data"
    }
   ],
   "source": [
    "plot_confusion_matrix(xgb_gs2, X_test, y_test)"
   ]
  },
  {
   "cell_type": "markdown",
   "metadata": {},
   "source": [
    "The XGBoost model predicts 12,741 water pumps in the testing data correctly. The model also predicts 1,448water pumps as non-functional when they are functional and it preditcs 661 water pumps as functional when they are non-functional."
   ]
  },
  {
   "cell_type": "markdown",
   "metadata": {},
   "source": [
    "#### Feature Importance"
   ]
  },
  {
   "cell_type": "markdown",
   "metadata": {},
   "source": [
    "With the best model, we want to check which features were most impactful."
   ]
  },
  {
   "cell_type": "code",
   "execution_count": 103,
   "metadata": {},
   "outputs": [],
   "source": [
    "best_model = xgb_gs2.best_estimator_.fit(X_train, y_train)"
   ]
  },
  {
   "cell_type": "code",
   "execution_count": 104,
   "metadata": {},
   "outputs": [],
   "source": [
    "# Get column names including onehotencoded columns\n",
    "ohe_col_names = list(best_model.named_steps['ohe_trans'].transformers_[0][1][0].get_feature_names(categorical_cols.columns))\n",
    "\n",
    "# Combine onehotencoded columsn with numeric columns\n",
    "col_names = ohe_col_names + list(numerical_cols.columns)"
   ]
  },
  {
   "cell_type": "code",
   "execution_count": 105,
   "metadata": {},
   "outputs": [
    {
     "data": {
      "text/plain": [
       "['basin_Internal',\n",
       " 'basin_Lake Nyasa',\n",
       " 'basin_Lake Rukwa',\n",
       " 'basin_Lake Tanganyika',\n",
       " 'basin_Lake Victoria',\n",
       " 'basin_Pangani',\n",
       " 'basin_Rufiji',\n",
       " 'basin_Ruvuma / Southern Coast',\n",
       " 'basin_Wami / Ruvu',\n",
       " 'scheme_management_Company',\n",
       " 'scheme_management_None',\n",
       " 'scheme_management_Other',\n",
       " 'scheme_management_Parastatal',\n",
       " 'scheme_management_Private operator',\n",
       " 'scheme_management_SWC',\n",
       " 'scheme_management_Trust',\n",
       " 'scheme_management_Unknown',\n",
       " 'scheme_management_VWC',\n",
       " 'scheme_management_WUA',\n",
       " 'scheme_management_WUG',\n",
       " 'scheme_management_Water Board',\n",
       " 'scheme_management_Water authority',\n",
       " 'permit_False',\n",
       " 'permit_True',\n",
       " 'permit_Unknown',\n",
       " 'extraction_type_afridev',\n",
       " 'extraction_type_cemo',\n",
       " 'extraction_type_climax',\n",
       " 'extraction_type_gravity',\n",
       " 'extraction_type_india mark ii',\n",
       " 'extraction_type_india mark iii',\n",
       " 'extraction_type_ksb',\n",
       " 'extraction_type_mono',\n",
       " 'extraction_type_nira/tanira',\n",
       " 'extraction_type_other',\n",
       " 'extraction_type_other - mkulima/shinyanga',\n",
       " 'extraction_type_other - play pump',\n",
       " 'extraction_type_other - rope pump',\n",
       " 'extraction_type_other - swn 81',\n",
       " 'extraction_type_submersible',\n",
       " 'extraction_type_swn 80',\n",
       " 'extraction_type_walimi',\n",
       " 'extraction_type_windmill',\n",
       " 'management_company',\n",
       " 'management_other',\n",
       " 'management_other - school',\n",
       " 'management_parastatal',\n",
       " 'management_private operator',\n",
       " 'management_trust',\n",
       " 'management_unknown',\n",
       " 'management_vwc',\n",
       " 'management_water authority',\n",
       " 'management_water board',\n",
       " 'management_wua',\n",
       " 'management_wug',\n",
       " 'payment_never pay',\n",
       " 'payment_other',\n",
       " 'payment_pay annually',\n",
       " 'payment_pay monthly',\n",
       " 'payment_pay per bucket',\n",
       " 'payment_pay when scheme fails',\n",
       " 'payment_unknown',\n",
       " 'water_quality_coloured',\n",
       " 'water_quality_fluoride',\n",
       " 'water_quality_fluoride abandoned',\n",
       " 'water_quality_milky',\n",
       " 'water_quality_salty',\n",
       " 'water_quality_salty abandoned',\n",
       " 'water_quality_soft',\n",
       " 'water_quality_unknown',\n",
       " 'quality_group_colored',\n",
       " 'quality_group_fluoride',\n",
       " 'quality_group_good',\n",
       " 'quality_group_milky',\n",
       " 'quality_group_salty',\n",
       " 'quality_group_unknown',\n",
       " 'quantity_dry',\n",
       " 'quantity_enough',\n",
       " 'quantity_insufficient',\n",
       " 'quantity_seasonal',\n",
       " 'quantity_unknown',\n",
       " 'source_dam',\n",
       " 'source_hand dtw',\n",
       " 'source_lake',\n",
       " 'source_machine dbh',\n",
       " 'source_other',\n",
       " 'source_rainwater harvesting',\n",
       " 'source_river',\n",
       " 'source_shallow well',\n",
       " 'source_spring',\n",
       " 'source_unknown',\n",
       " 'source_class_groundwater',\n",
       " 'source_class_surface',\n",
       " 'source_class_unknown',\n",
       " 'waterpoint_type_cattle trough',\n",
       " 'waterpoint_type_communal standpipe',\n",
       " 'waterpoint_type_communal standpipe multiple',\n",
       " 'waterpoint_type_dam',\n",
       " 'waterpoint_type_hand pump',\n",
       " 'waterpoint_type_improved spring',\n",
       " 'waterpoint_type_other',\n",
       " 'amount_tsh',\n",
       " 'gps_height',\n",
       " 'longitude',\n",
       " 'latitude',\n",
       " 'region_code',\n",
       " 'district_code',\n",
       " 'population',\n",
       " 'age']"
      ]
     },
     "execution_count": 105,
     "metadata": {},
     "output_type": "execute_result"
    }
   ],
   "source": [
    "col_names"
   ]
  },
  {
   "cell_type": "code",
   "execution_count": 106,
   "metadata": {},
   "outputs": [
    {
     "data": {
      "text/html": [
       "<div>\n",
       "<style scoped>\n",
       "    .dataframe tbody tr th:only-of-type {\n",
       "        vertical-align: middle;\n",
       "    }\n",
       "\n",
       "    .dataframe tbody tr th {\n",
       "        vertical-align: top;\n",
       "    }\n",
       "\n",
       "    .dataframe thead th {\n",
       "        text-align: right;\n",
       "    }\n",
       "</style>\n",
       "<table border=\"1\" class=\"dataframe\">\n",
       "  <thead>\n",
       "    <tr style=\"text-align: right;\">\n",
       "      <th></th>\n",
       "      <th>Features</th>\n",
       "      <th>Importances</th>\n",
       "    </tr>\n",
       "  </thead>\n",
       "  <tbody>\n",
       "    <tr>\n",
       "      <th>0</th>\n",
       "      <td>basin_Internal</td>\n",
       "      <td>0.004314</td>\n",
       "    </tr>\n",
       "    <tr>\n",
       "      <th>1</th>\n",
       "      <td>basin_Lake Nyasa</td>\n",
       "      <td>0.024857</td>\n",
       "    </tr>\n",
       "    <tr>\n",
       "      <th>2</th>\n",
       "      <td>basin_Lake Rukwa</td>\n",
       "      <td>0.020311</td>\n",
       "    </tr>\n",
       "    <tr>\n",
       "      <th>3</th>\n",
       "      <td>basin_Lake Tanganyika</td>\n",
       "      <td>0.002254</td>\n",
       "    </tr>\n",
       "    <tr>\n",
       "      <th>4</th>\n",
       "      <td>basin_Lake Victoria</td>\n",
       "      <td>0.003165</td>\n",
       "    </tr>\n",
       "    <tr>\n",
       "      <th>...</th>\n",
       "      <td>...</td>\n",
       "      <td>...</td>\n",
       "    </tr>\n",
       "    <tr>\n",
       "      <th>104</th>\n",
       "      <td>latitude</td>\n",
       "      <td>0.003433</td>\n",
       "    </tr>\n",
       "    <tr>\n",
       "      <th>105</th>\n",
       "      <td>region_code</td>\n",
       "      <td>0.009339</td>\n",
       "    </tr>\n",
       "    <tr>\n",
       "      <th>106</th>\n",
       "      <td>district_code</td>\n",
       "      <td>0.004833</td>\n",
       "    </tr>\n",
       "    <tr>\n",
       "      <th>107</th>\n",
       "      <td>population</td>\n",
       "      <td>0.003331</td>\n",
       "    </tr>\n",
       "    <tr>\n",
       "      <th>108</th>\n",
       "      <td>age</td>\n",
       "      <td>0.005854</td>\n",
       "    </tr>\n",
       "  </tbody>\n",
       "</table>\n",
       "<p>109 rows × 2 columns</p>\n",
       "</div>"
      ],
      "text/plain": [
       "                  Features  Importances\n",
       "0           basin_Internal     0.004314\n",
       "1         basin_Lake Nyasa     0.024857\n",
       "2         basin_Lake Rukwa     0.020311\n",
       "3    basin_Lake Tanganyika     0.002254\n",
       "4      basin_Lake Victoria     0.003165\n",
       "..                     ...          ...\n",
       "104               latitude     0.003433\n",
       "105            region_code     0.009339\n",
       "106          district_code     0.004833\n",
       "107             population     0.003331\n",
       "108                    age     0.005854\n",
       "\n",
       "[109 rows x 2 columns]"
      ]
     },
     "execution_count": 106,
     "metadata": {},
     "output_type": "execute_result"
    }
   ],
   "source": [
    "# Create a dataframe with the feature names and the importance of each feature for a better look\n",
    "feature_importance_df = pd.DataFrame({'Features' : col_names, 'Importances' : best_model[1].feature_importances_})\n",
    "feature_importance_df"
   ]
  },
  {
   "cell_type": "code",
   "execution_count": 107,
   "metadata": {},
   "outputs": [
    {
     "data": {
      "text/html": [
       "<div>\n",
       "<style scoped>\n",
       "    .dataframe tbody tr th:only-of-type {\n",
       "        vertical-align: middle;\n",
       "    }\n",
       "\n",
       "    .dataframe tbody tr th {\n",
       "        vertical-align: top;\n",
       "    }\n",
       "\n",
       "    .dataframe thead th {\n",
       "        text-align: right;\n",
       "    }\n",
       "</style>\n",
       "<table border=\"1\" class=\"dataframe\">\n",
       "  <thead>\n",
       "    <tr style=\"text-align: right;\">\n",
       "      <th></th>\n",
       "      <th>Features</th>\n",
       "      <th>Importances</th>\n",
       "    </tr>\n",
       "  </thead>\n",
       "  <tbody>\n",
       "    <tr>\n",
       "      <th>76</th>\n",
       "      <td>quantity_dry</td>\n",
       "      <td>0.281667</td>\n",
       "    </tr>\n",
       "    <tr>\n",
       "      <th>100</th>\n",
       "      <td>waterpoint_type_other</td>\n",
       "      <td>0.129326</td>\n",
       "    </tr>\n",
       "    <tr>\n",
       "      <th>43</th>\n",
       "      <td>management_company</td>\n",
       "      <td>0.026243</td>\n",
       "    </tr>\n",
       "  </tbody>\n",
       "</table>\n",
       "</div>"
      ],
      "text/plain": [
       "                  Features  Importances\n",
       "76            quantity_dry     0.281667\n",
       "100  waterpoint_type_other     0.129326\n",
       "43      management_company     0.026243"
      ]
     },
     "execution_count": 107,
     "metadata": {},
     "output_type": "execute_result"
    }
   ],
   "source": [
    "# Features with importances that are greater than 0.025\n",
    "feature_importance_df[feature_importance_df['Importances'] > 0.025].sort_values(by=['Importances'], ascending=False)"
   ]
  },
  {
   "cell_type": "markdown",
   "metadata": {},
   "source": [
    "We can see from the dataframe that the feature quantity_dry had the biggest impact, ~28.2%, and waterpoint_type_other had the second biggest impact on the model, ~12.9%."
   ]
  },
  {
   "cell_type": "code",
   "execution_count": 115,
   "metadata": {},
   "outputs": [
    {
     "data": {
      "image/png": "[encoded data removed]",
      "text/plain": [
       "<Figure size 720x432 with 1 Axes>"
      ]
     },
     "metadata": {
      "needs_background": "light"
     },
     "output_type": "display_data"
    }
   ],
   "source": [
    "df_top_important = feature_importance_df.sort_values(by=['Importances'], ascending=False)[:5]\n",
    "fig, ax = plt.subplots(figsize=(10,6))\n",
    "\n",
    "x = ['Quantity - Dry', 'Waterpoint Type - Other', 'Management - Company', 'Extraction Type - Other', ' Basin - Lake Nyasa']\n",
    "\n",
    "ax = sns.barplot(x, df_top_important['Importances'], color='orange')\n",
    "ax.set_title('Most Important Features By Percent', fontsize=16)\n",
    "ax.set_ylabel('Importance(%)', fontsize=14)\n",
    "ax.set_xlabel('Features', fontsize=14)\n",
    "plt.xticks(rotation=20);"
   ]
  },
  {
   "cell_type": "markdown",
   "metadata": {},
   "source": [
    "# Conclusion"
   ]
  },
  {
   "cell_type": "markdown",
   "metadata": {},
   "source": [
    "Our final model, XGBoost, gave us ~85% accuracy of predicting the functionality of the water pump.\n",
    "\n",
    "Our recommendations are:\n",
    "\n",
    "* Perform regular checks of water quantity for all pumps \n",
    "\n",
    "* Replace ‘other’ waterpoint types with gravity waterpoint types\n",
    "\n",
    "* Check who manages the water\n"
   ]
  }
 ],
 "metadata": {
  "kernelspec": {
   "display_name": "Python 3",
   "language": "python",
   "name": "python3"
  },
  "language_info": {
   "codemirror_mode": {
    "name": "ipython",
    "version": 3
   },
   "file_extension": ".py",
   "mimetype": "text/x-python",
   "name": "python",
   "nbconvert_exporter": "python",
   "pygments_lexer": "ipython3",
   "version": "3.8.5"
  }
 },
 "nbformat": 4,
 "nbformat_minor": 5
}
