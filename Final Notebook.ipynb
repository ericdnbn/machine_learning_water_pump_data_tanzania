{
 "cells": [
  {
   "cell_type": "markdown",
   "id": "0e4b50b9",
   "metadata": {},
   "source": [
    "# Water Pumps Functionality Analysis In Tanzania"
   ]
  },
  {
   "cell_type": "markdown",
   "id": "23058918",
   "metadata": {},
   "source": [
    "Using data from Tanzanian Ministry of Water, our goal is to predict if water pumps are functional or non-functional."
   ]
  },
  {
   "cell_type": "code",
   "execution_count": 1,
   "id": "a3ed6504",
   "metadata": {},
   "outputs": [],
   "source": [
    "import pandas as pd\n",
    "import matplotlib.pyplot as plt\n",
    "import seaborn as sns\n",
    "import warnings\n",
    "import numpy as np\n",
    "from sklearn.model_selection import train_test_split,cross_validate , GridSearchCV, cross_val_predict\n",
    "from sklearn.neighbors import KNeighborsClassifier\n",
    "from sklearn.linear_model import LogisticRegression\n",
    "from sklearn.pipeline import Pipeline\n",
    "from sklearn.preprocessing import OneHotEncoder , StandardScaler \n",
    "from sklearn.compose import ColumnTransformer\n",
    "from sklearn.metrics import confusion_matrix, plot_confusion_matrix , accuracy_score,recall_score,f1_score,precision_score\n",
    "from sklearn.dummy import DummyClassifier\n",
    "from sklearn.ensemble import RandomForestClassifier\n",
    "from xgboost import XGBClassifier\n",
    "%matplotlib inline\n",
    "warnings.filterwarnings(\"ignore\")"
   ]
  },
  {
   "cell_type": "markdown",
   "id": "97d4c25d",
   "metadata": {},
   "source": [
    "## EDA"
   ]
  },
  {
   "cell_type": "code",
   "execution_count": 2,
   "id": "742cfba8",
   "metadata": {},
   "outputs": [],
   "source": [
    "df1 = pd.read_csv('data/Training Set Values.csv')\n",
    "df2 = pd.read_csv('data/Training Set Labels.csv')\n",
    "pd.set_option('display.max_columns',None)"
   ]
  },
  {
   "cell_type": "code",
   "execution_count": 3,
   "id": "d3b2c7a1",
   "metadata": {},
   "outputs": [
    {
     "name": "stdout",
     "output_type": "stream",
     "text": [
      "<class 'pandas.core.frame.DataFrame'>\n",
      "RangeIndex: 59400 entries, 0 to 59399\n",
      "Data columns (total 40 columns):\n",
      " #   Column                 Non-Null Count  Dtype  \n",
      "---  ------                 --------------  -----  \n",
      " 0   id                     59400 non-null  int64  \n",
      " 1   amount_tsh             59400 non-null  float64\n",
      " 2   date_recorded          59400 non-null  object \n",
      " 3   funder                 55765 non-null  object \n",
      " 4   gps_height             59400 non-null  int64  \n",
      " 5   installer              55745 non-null  object \n",
      " 6   longitude              59400 non-null  float64\n",
      " 7   latitude               59400 non-null  float64\n",
      " 8   wpt_name               59400 non-null  object \n",
      " 9   num_private            59400 non-null  int64  \n",
      " 10  basin                  59400 non-null  object \n",
      " 11  subvillage             59029 non-null  object \n",
      " 12  region                 59400 non-null  object \n",
      " 13  region_code            59400 non-null  int64  \n",
      " 14  district_code          59400 non-null  int64  \n",
      " 15  lga                    59400 non-null  object \n",
      " 16  ward                   59400 non-null  object \n",
      " 17  population             59400 non-null  int64  \n",
      " 18  public_meeting         56066 non-null  object \n",
      " 19  recorded_by            59400 non-null  object \n",
      " 20  scheme_management      55523 non-null  object \n",
      " 21  scheme_name            31234 non-null  object \n",
      " 22  permit                 56344 non-null  object \n",
      " 23  construction_year      59400 non-null  int64  \n",
      " 24  extraction_type        59400 non-null  object \n",
      " 25  extraction_type_group  59400 non-null  object \n",
      " 26  extraction_type_class  59400 non-null  object \n",
      " 27  management             59400 non-null  object \n",
      " 28  management_group       59400 non-null  object \n",
      " 29  payment                59400 non-null  object \n",
      " 30  payment_type           59400 non-null  object \n",
      " 31  water_quality          59400 non-null  object \n",
      " 32  quality_group          59400 non-null  object \n",
      " 33  quantity               59400 non-null  object \n",
      " 34  quantity_group         59400 non-null  object \n",
      " 35  source                 59400 non-null  object \n",
      " 36  source_type            59400 non-null  object \n",
      " 37  source_class           59400 non-null  object \n",
      " 38  waterpoint_type        59400 non-null  object \n",
      " 39  waterpoint_type_group  59400 non-null  object \n",
      "dtypes: float64(3), int64(7), object(30)\n",
      "memory usage: 18.1+ MB\n"
     ]
    }
   ],
   "source": [
    "df1.info()"
   ]
  },
  {
   "cell_type": "markdown",
   "id": "bf0bed3f",
   "metadata": {},
   "source": [
    "We are going to merge our data together so that we have one dataframe with predictors and target values."
   ]
  },
  {
   "cell_type": "code",
   "execution_count": 4,
   "id": "378709a3",
   "metadata": {},
   "outputs": [],
   "source": [
    "all_data = df1.merge(df2, on='id')"
   ]
  },
  {
   "cell_type": "code",
   "execution_count": 71,
   "id": "e43a3f86",
   "metadata": {},
   "outputs": [
    {
     "data": {
      "text/html": [
       "<div>\n",
       "<style scoped>\n",
       "    .dataframe tbody tr th:only-of-type {\n",
       "        vertical-align: middle;\n",
       "    }\n",
       "\n",
       "    .dataframe tbody tr th {\n",
       "        vertical-align: top;\n",
       "    }\n",
       "\n",
       "    .dataframe thead th {\n",
       "        text-align: right;\n",
       "    }\n",
       "</style>\n",
       "<table border=\"1\" class=\"dataframe\">\n",
       "  <thead>\n",
       "    <tr style=\"text-align: right;\">\n",
       "      <th></th>\n",
       "      <th>amount_tsh</th>\n",
       "      <th>gps_height</th>\n",
       "      <th>longitude</th>\n",
       "      <th>latitude</th>\n",
       "      <th>basin</th>\n",
       "      <th>region_code</th>\n",
       "      <th>district_code</th>\n",
       "      <th>population</th>\n",
       "      <th>scheme_management</th>\n",
       "      <th>permit</th>\n",
       "      <th>construction_year</th>\n",
       "      <th>extraction_type</th>\n",
       "      <th>management</th>\n",
       "      <th>payment</th>\n",
       "      <th>water_quality</th>\n",
       "      <th>quality_group</th>\n",
       "      <th>quantity</th>\n",
       "      <th>source</th>\n",
       "      <th>source_class</th>\n",
       "      <th>waterpoint_type</th>\n",
       "      <th>status_group</th>\n",
       "      <th>recorded_year</th>\n",
       "    </tr>\n",
       "  </thead>\n",
       "  <tbody>\n",
       "    <tr>\n",
       "      <th>0</th>\n",
       "      <td>6000.0</td>\n",
       "      <td>1390</td>\n",
       "      <td>34.938093</td>\n",
       "      <td>-9.856322</td>\n",
       "      <td>Lake Nyasa</td>\n",
       "      <td>11</td>\n",
       "      <td>5</td>\n",
       "      <td>109</td>\n",
       "      <td>VWC</td>\n",
       "      <td>False</td>\n",
       "      <td>1999</td>\n",
       "      <td>gravity</td>\n",
       "      <td>vwc</td>\n",
       "      <td>pay annually</td>\n",
       "      <td>soft</td>\n",
       "      <td>good</td>\n",
       "      <td>enough</td>\n",
       "      <td>spring</td>\n",
       "      <td>groundwater</td>\n",
       "      <td>communal standpipe</td>\n",
       "      <td>functional</td>\n",
       "      <td>2011</td>\n",
       "    </tr>\n",
       "    <tr>\n",
       "      <th>1</th>\n",
       "      <td>0.0</td>\n",
       "      <td>1399</td>\n",
       "      <td>34.698766</td>\n",
       "      <td>-2.147466</td>\n",
       "      <td>Lake Victoria</td>\n",
       "      <td>20</td>\n",
       "      <td>2</td>\n",
       "      <td>280</td>\n",
       "      <td>Other</td>\n",
       "      <td>True</td>\n",
       "      <td>2010</td>\n",
       "      <td>gravity</td>\n",
       "      <td>wug</td>\n",
       "      <td>never pay</td>\n",
       "      <td>soft</td>\n",
       "      <td>good</td>\n",
       "      <td>insufficient</td>\n",
       "      <td>rainwater harvesting</td>\n",
       "      <td>surface</td>\n",
       "      <td>communal standpipe</td>\n",
       "      <td>functional</td>\n",
       "      <td>2013</td>\n",
       "    </tr>\n",
       "    <tr>\n",
       "      <th>2</th>\n",
       "      <td>25.0</td>\n",
       "      <td>686</td>\n",
       "      <td>37.460664</td>\n",
       "      <td>-3.821329</td>\n",
       "      <td>Pangani</td>\n",
       "      <td>21</td>\n",
       "      <td>4</td>\n",
       "      <td>250</td>\n",
       "      <td>VWC</td>\n",
       "      <td>True</td>\n",
       "      <td>2009</td>\n",
       "      <td>gravity</td>\n",
       "      <td>vwc</td>\n",
       "      <td>pay per bucket</td>\n",
       "      <td>soft</td>\n",
       "      <td>good</td>\n",
       "      <td>enough</td>\n",
       "      <td>dam</td>\n",
       "      <td>surface</td>\n",
       "      <td>communal standpipe multiple</td>\n",
       "      <td>functional</td>\n",
       "      <td>2013</td>\n",
       "    </tr>\n",
       "    <tr>\n",
       "      <th>3</th>\n",
       "      <td>0.0</td>\n",
       "      <td>263</td>\n",
       "      <td>38.486161</td>\n",
       "      <td>-11.155298</td>\n",
       "      <td>Ruvuma / Southern Coast</td>\n",
       "      <td>90</td>\n",
       "      <td>63</td>\n",
       "      <td>58</td>\n",
       "      <td>VWC</td>\n",
       "      <td>True</td>\n",
       "      <td>1986</td>\n",
       "      <td>submersible</td>\n",
       "      <td>vwc</td>\n",
       "      <td>never pay</td>\n",
       "      <td>soft</td>\n",
       "      <td>good</td>\n",
       "      <td>dry</td>\n",
       "      <td>machine dbh</td>\n",
       "      <td>groundwater</td>\n",
       "      <td>communal standpipe multiple</td>\n",
       "      <td>non functional</td>\n",
       "      <td>2013</td>\n",
       "    </tr>\n",
       "    <tr>\n",
       "      <th>4</th>\n",
       "      <td>0.0</td>\n",
       "      <td>0</td>\n",
       "      <td>31.130847</td>\n",
       "      <td>-1.825359</td>\n",
       "      <td>Lake Victoria</td>\n",
       "      <td>18</td>\n",
       "      <td>1</td>\n",
       "      <td>0</td>\n",
       "      <td>Unknown</td>\n",
       "      <td>True</td>\n",
       "      <td>0</td>\n",
       "      <td>gravity</td>\n",
       "      <td>other</td>\n",
       "      <td>never pay</td>\n",
       "      <td>soft</td>\n",
       "      <td>good</td>\n",
       "      <td>seasonal</td>\n",
       "      <td>rainwater harvesting</td>\n",
       "      <td>surface</td>\n",
       "      <td>communal standpipe</td>\n",
       "      <td>functional</td>\n",
       "      <td>2011</td>\n",
       "    </tr>\n",
       "  </tbody>\n",
       "</table>\n",
       "</div>"
      ],
      "text/plain": [
       "   amount_tsh  gps_height  longitude   latitude                    basin  \\\n",
       "0      6000.0        1390  34.938093  -9.856322               Lake Nyasa   \n",
       "1         0.0        1399  34.698766  -2.147466            Lake Victoria   \n",
       "2        25.0         686  37.460664  -3.821329                  Pangani   \n",
       "3         0.0         263  38.486161 -11.155298  Ruvuma / Southern Coast   \n",
       "4         0.0           0  31.130847  -1.825359            Lake Victoria   \n",
       "\n",
       "   region_code  district_code  population scheme_management permit  \\\n",
       "0           11              5         109               VWC  False   \n",
       "1           20              2         280             Other   True   \n",
       "2           21              4         250               VWC   True   \n",
       "3           90             63          58               VWC   True   \n",
       "4           18              1           0           Unknown   True   \n",
       "\n",
       "   construction_year extraction_type management         payment water_quality  \\\n",
       "0               1999         gravity        vwc    pay annually          soft   \n",
       "1               2010         gravity        wug       never pay          soft   \n",
       "2               2009         gravity        vwc  pay per bucket          soft   \n",
       "3               1986     submersible        vwc       never pay          soft   \n",
       "4                  0         gravity      other       never pay          soft   \n",
       "\n",
       "  quality_group      quantity                source source_class  \\\n",
       "0          good        enough                spring  groundwater   \n",
       "1          good  insufficient  rainwater harvesting      surface   \n",
       "2          good        enough                   dam      surface   \n",
       "3          good           dry           machine dbh  groundwater   \n",
       "4          good      seasonal  rainwater harvesting      surface   \n",
       "\n",
       "               waterpoint_type    status_group  recorded_year  \n",
       "0           communal standpipe      functional           2011  \n",
       "1           communal standpipe      functional           2013  \n",
       "2  communal standpipe multiple      functional           2013  \n",
       "3  communal standpipe multiple  non functional           2013  \n",
       "4           communal standpipe      functional           2011  "
      ]
     },
     "execution_count": 71,
     "metadata": {},
     "output_type": "execute_result"
    }
   ],
   "source": [
    "all_data.head()"
   ]
  },
  {
   "cell_type": "markdown",
   "id": "0ff48195",
   "metadata": {},
   "source": [
    "### Data Cleaning"
   ]
  },
  {
   "cell_type": "markdown",
   "id": "cf03812a",
   "metadata": {},
   "source": [
    "We are going to drop unneccessary features."
   ]
  },
  {
   "cell_type": "code",
   "execution_count": 5,
   "id": "38dc73bb",
   "metadata": {},
   "outputs": [],
   "source": [
    "all_data.drop(['id', 'wpt_name', 'recorded_by', 'num_private', 'funder', 'installer', 'public_meeting'], axis=1, inplace=True)"
   ]
  },
  {
   "cell_type": "markdown",
   "id": "41e11aa4",
   "metadata": {},
   "source": [
    "Now we are going to see if there are duplicates of the columns."
   ]
  },
  {
   "cell_type": "markdown",
   "id": "7e74ab9e",
   "metadata": {},
   "source": [
    "We are going to drop scheme_name since scheme_management has more specific values.\n",
    "\n",
    "We are going to drop waterpoint_type_group since waterpoint_type has more specific values.\n",
    "\n",
    "We are going to drop extraction_type_class and extraction_type_group since extraction_type has more specific values.\n",
    "\n",
    "We are going to drop source_type since source has more specific values.\n",
    "\n",
    "We are going to drop payment_type since payment has more specific values.\n",
    "\n",
    "We are going to drop quantity_group since quantity has more specific values.\n",
    "\n",
    "We are going to drop management_group since management has more specific values."
   ]
  },
  {
   "cell_type": "code",
   "execution_count": 6,
   "id": "d01cea6c",
   "metadata": {},
   "outputs": [],
   "source": [
    "all_data.drop(['waterpoint_type_group', 'scheme_name', 'extraction_type_class', 'extraction_type_group',\n",
    "                'source_type',  'payment_type', 'quantity_group', 'management_group'\n",
    "                ], axis=1, inplace=True)"
   ]
  },
  {
   "cell_type": "markdown",
   "id": "8bcd3d14",
   "metadata": {},
   "source": [
    "We want to just get the year from the date_recorded and drop date_recorded."
   ]
  },
  {
   "cell_type": "code",
   "execution_count": 7,
   "id": "d8ddb0d6",
   "metadata": {},
   "outputs": [],
   "source": [
    "all_data['recorded_year'] = all_data['date_recorded'].str[:4].astype(int)"
   ]
  },
  {
   "cell_type": "markdown",
   "id": "c58d13b5",
   "metadata": {},
   "source": [
    "We kept lat, long, region_code, district_code for location based information and droped region, subvillage, lga, and ward."
   ]
  },
  {
   "cell_type": "code",
   "execution_count": 8,
   "id": "1fe93980",
   "metadata": {},
   "outputs": [],
   "source": [
    "all_data.drop(['date_recorded', 'region', 'subvillage', 'lga', 'ward'], axis=1, inplace=True)"
   ]
  },
  {
   "cell_type": "markdown",
   "id": "fc288857",
   "metadata": {},
   "source": [
    "Let's look for null values."
   ]
  },
  {
   "cell_type": "code",
   "execution_count": 9,
   "id": "11ab769f",
   "metadata": {},
   "outputs": [
    {
     "data": {
      "text/plain": [
       "amount_tsh              0\n",
       "gps_height              0\n",
       "longitude               0\n",
       "latitude                0\n",
       "basin                   0\n",
       "region_code             0\n",
       "district_code           0\n",
       "population              0\n",
       "scheme_management    3877\n",
       "permit               3056\n",
       "construction_year       0\n",
       "extraction_type         0\n",
       "management              0\n",
       "payment                 0\n",
       "water_quality           0\n",
       "quality_group           0\n",
       "quantity                0\n",
       "source                  0\n",
       "source_class            0\n",
       "waterpoint_type         0\n",
       "status_group            0\n",
       "recorded_year           0\n",
       "dtype: int64"
      ]
     },
     "execution_count": 9,
     "metadata": {},
     "output_type": "execute_result"
    }
   ],
   "source": [
    "all_data.isna().sum()"
   ]
  },
  {
   "cell_type": "code",
   "execution_count": 10,
   "id": "cee41faa",
   "metadata": {},
   "outputs": [],
   "source": [
    "# Fill null values to 'unknown' since scheme_management and permit are object\n",
    "all_data.fillna('Unknown', inplace=True)"
   ]
  },
  {
   "cell_type": "code",
   "execution_count": 11,
   "id": "4fbe1b8a",
   "metadata": {},
   "outputs": [],
   "source": [
    "# Change permit type boolean to string\n",
    "all_data['permit'] = all_data['permit'].astype(str)"
   ]
  },
  {
   "cell_type": "code",
   "execution_count": 12,
   "id": "18a8d5da",
   "metadata": {},
   "outputs": [
    {
     "data": {
      "text/plain": [
       "amount_tsh           0\n",
       "gps_height           0\n",
       "longitude            0\n",
       "latitude             0\n",
       "basin                0\n",
       "region_code          0\n",
       "district_code        0\n",
       "population           0\n",
       "scheme_management    0\n",
       "permit               0\n",
       "construction_year    0\n",
       "extraction_type      0\n",
       "management           0\n",
       "payment              0\n",
       "water_quality        0\n",
       "quality_group        0\n",
       "quantity             0\n",
       "source               0\n",
       "source_class         0\n",
       "waterpoint_type      0\n",
       "status_group         0\n",
       "recorded_year        0\n",
       "dtype: int64"
      ]
     },
     "execution_count": 12,
     "metadata": {},
     "output_type": "execute_result"
    }
   ],
   "source": [
    "all_data.isna().sum()"
   ]
  },
  {
   "cell_type": "markdown",
   "id": "f0946ece",
   "metadata": {},
   "source": [
    "Now all our data is cleaned for modeling."
   ]
  },
  {
   "cell_type": "markdown",
   "id": "779a175b",
   "metadata": {},
   "source": [
    "### Functions"
   ]
  },
  {
   "cell_type": "markdown",
   "id": "4cef8d15",
   "metadata": {},
   "source": [
    "We created functions to help us visualize our data."
   ]
  },
  {
   "cell_type": "code",
   "execution_count": 72,
   "id": "d7805c46",
   "metadata": {},
   "outputs": [],
   "source": [
    "# Some functions that may provide to be useful\n",
    "def total_val_count(column):\n",
    "    '''Creates a dictionary with all value counts in column'''\n",
    "    counts = {}\n",
    "    for i in all_data[column]:\n",
    "        counts[i] = counts.get(i, 0) + 1\n",
    "    counts_sorted = dict(sorted(counts.items(), key=lambda item: item[1],reverse=True))\n",
    "    return counts_sorted\n",
    "\n",
    "def val_count_nf(column):\n",
    "    df_val = pd.DataFrame(all_data.loc[(all_data['status_group'] == 1)])\n",
    "    counts = {}\n",
    "    for i in df_val[column]:\n",
    "        counts[i] = counts.get(i, 0) + 1\n",
    "    counts_sorted = dict(sorted(counts.items(), key=lambda item: item[1],reverse=True))\n",
    "    return counts_sorted\n",
    "\n",
    "def addlabels(x,y,left,up):\n",
    "    for i in range(len(x)):\n",
    "        plt.text(i-left,y[i]+up,y[i])\n",
    "\n",
    "def addlabelsbig(x,y,left,up):\n",
    "    for i in range(len(x)):\n",
    "        plt.text(i-left,y[i]+up,f'{y[i]}%',fontsize=20,color='black')\n",
    "\n",
    "def percent_dict(column):\n",
    "    '''Creates a dictionary that has highest percent of non functioning pumps'''\n",
    "    percent= []\n",
    "    lst = list(all_data[column].unique())\n",
    "    for val in lst:\n",
    "        num_pumps = len(df1.loc[all_data[column] == val])\n",
    "        fail_pumps = len(df1.loc[(all_data['status_group'] == 1) & (all_data[column] == val)])\n",
    "        percent.append(round((fail_pumps/num_pumps*100),2))\n",
    "    d = dict(zip(lst,percent))\n",
    "    d_sorted = dict(sorted(d.items(), key=lambda item: item[1],reverse=True))\n",
    "    return d_sorted\n",
    "\n",
    "def visualize(dictionary,title=None):\n",
    "    '''Creates Seaborn Barplot from Dictionary'''\n",
    "    nums = list(dictionary.values())\n",
    "    fig , ax = plt.subplots(figsize=(12,10))\n",
    "    sns.barplot(x=list(dictionary.keys()),y=nums)\n",
    "    ax.set_title(title,fontsize=15)\n",
    "    ax.set_ylabel('Percent Non Functioning',fontsize=15);\n",
    "\n",
    "def stack_it(column,title=None,addlabels=False):\n",
    "    fig , ax = plt.subplots(nrows=1,ncols=1,figsize=(12,8))\n",
    "    column_count = total_val_count(column)\n",
    "    nums = list(column_count.values())[:5]\n",
    "    top_5 = list(column_count.keys())[:5]\n",
    "    transform = val_count_nf(column)\n",
    "    num_failed = []\n",
    "    for x in top_5:\n",
    "        for y in transform.keys():\n",
    "            if x == y:\n",
    "                num_failed.append(transform[y])\n",
    "    percent_failed = [round((i / j)*100,1) for i, j in zip(num_failed, nums)]\n",
    "    ax.set_title(title,fontsize=15)\n",
    "    sns.barplot(x=top_5,y=nums,alpha=.4,label='Total Count',color='orange')\n",
    "    ax.set_ylabel('Total Count',fontsize=15)\n",
    "    sns.barplot(x=top_5, y=num_failed,label='Amount Failed',color='orange')\n",
    "    plt.xticks(rotation=45,fontsize=15)\n",
    "    plt.yticks(fontsize=15)\n",
    "    if addlabels:\n",
    "        addlabelsbig(top_5,percent_failed,.2,100);"
   ]
  },
  {
   "cell_type": "code",
   "execution_count": 73,
   "id": "983860a1",
   "metadata": {},
   "outputs": [
    {
     "ename": "KeyError",
     "evalue": "'enough'",
     "output_type": "error",
     "traceback": [
      "\u001b[1;31m---------------------------------------------------------------------------\u001b[0m",
      "\u001b[1;31mKeyError\u001b[0m                                  Traceback (most recent call last)",
      "\u001b[1;32m<ipython-input-73-8f1b756a40fe>\u001b[0m in \u001b[0;36m<module>\u001b[1;34m\u001b[0m\n\u001b[1;32m----> 1\u001b[1;33m \u001b[0mstack_it\u001b[0m\u001b[1;33m(\u001b[0m\u001b[1;34m'quantity'\u001b[0m\u001b[1;33m)\u001b[0m\u001b[1;33m\u001b[0m\u001b[1;33m\u001b[0m\u001b[0m\n\u001b[0m",
      "\u001b[1;32m<ipython-input-72-251d12ff0169>\u001b[0m in \u001b[0;36mstack_it\u001b[1;34m(column, title, addlabels)\u001b[0m\n\u001b[0;32m     59\u001b[0m     \u001b[0msns\u001b[0m\u001b[1;33m.\u001b[0m\u001b[0mbarplot\u001b[0m\u001b[1;33m(\u001b[0m\u001b[0mx\u001b[0m\u001b[1;33m=\u001b[0m\u001b[0mtop_5\u001b[0m\u001b[1;33m,\u001b[0m\u001b[0my\u001b[0m\u001b[1;33m=\u001b[0m\u001b[0mnums\u001b[0m\u001b[1;33m,\u001b[0m\u001b[0malpha\u001b[0m\u001b[1;33m=\u001b[0m\u001b[1;36m.4\u001b[0m\u001b[1;33m,\u001b[0m\u001b[0mlabel\u001b[0m\u001b[1;33m=\u001b[0m\u001b[1;34m'Total Count'\u001b[0m\u001b[1;33m,\u001b[0m\u001b[0mcolor\u001b[0m\u001b[1;33m=\u001b[0m\u001b[1;34m'orange'\u001b[0m\u001b[1;33m)\u001b[0m\u001b[1;33m\u001b[0m\u001b[1;33m\u001b[0m\u001b[0m\n\u001b[0;32m     60\u001b[0m     \u001b[0max\u001b[0m\u001b[1;33m.\u001b[0m\u001b[0mset_ylabel\u001b[0m\u001b[1;33m(\u001b[0m\u001b[1;34m'Total Count'\u001b[0m\u001b[1;33m,\u001b[0m\u001b[0mfontsize\u001b[0m\u001b[1;33m=\u001b[0m\u001b[1;36m15\u001b[0m\u001b[1;33m)\u001b[0m\u001b[1;33m\u001b[0m\u001b[1;33m\u001b[0m\u001b[0m\n\u001b[1;32m---> 61\u001b[1;33m     \u001b[0msns\u001b[0m\u001b[1;33m.\u001b[0m\u001b[0mbarplot\u001b[0m\u001b[1;33m(\u001b[0m\u001b[0mx\u001b[0m\u001b[1;33m=\u001b[0m\u001b[0mtop_5\u001b[0m\u001b[1;33m,\u001b[0m \u001b[0my\u001b[0m\u001b[1;33m=\u001b[0m\u001b[0mnum_failed\u001b[0m\u001b[1;33m,\u001b[0m\u001b[0mlabel\u001b[0m\u001b[1;33m=\u001b[0m\u001b[1;34m'Amount Failed'\u001b[0m\u001b[1;33m,\u001b[0m\u001b[0mcolor\u001b[0m\u001b[1;33m=\u001b[0m\u001b[1;34m'orange'\u001b[0m\u001b[1;33m)\u001b[0m\u001b[1;33m\u001b[0m\u001b[1;33m\u001b[0m\u001b[0m\n\u001b[0m\u001b[0;32m     62\u001b[0m     \u001b[0mplt\u001b[0m\u001b[1;33m.\u001b[0m\u001b[0mxticks\u001b[0m\u001b[1;33m(\u001b[0m\u001b[0mrotation\u001b[0m\u001b[1;33m=\u001b[0m\u001b[1;36m45\u001b[0m\u001b[1;33m,\u001b[0m\u001b[0mfontsize\u001b[0m\u001b[1;33m=\u001b[0m\u001b[1;36m15\u001b[0m\u001b[1;33m)\u001b[0m\u001b[1;33m\u001b[0m\u001b[1;33m\u001b[0m\u001b[0m\n\u001b[0;32m     63\u001b[0m     \u001b[0mplt\u001b[0m\u001b[1;33m.\u001b[0m\u001b[0myticks\u001b[0m\u001b[1;33m(\u001b[0m\u001b[0mfontsize\u001b[0m\u001b[1;33m=\u001b[0m\u001b[1;36m15\u001b[0m\u001b[1;33m)\u001b[0m\u001b[1;33m\u001b[0m\u001b[1;33m\u001b[0m\u001b[0m\n",
      "\u001b[1;32m~\\anaconda3\\lib\\site-packages\\seaborn\\_decorators.py\u001b[0m in \u001b[0;36minner_f\u001b[1;34m(*args, **kwargs)\u001b[0m\n\u001b[0;32m     44\u001b[0m             )\n\u001b[0;32m     45\u001b[0m         \u001b[0mkwargs\u001b[0m\u001b[1;33m.\u001b[0m\u001b[0mupdate\u001b[0m\u001b[1;33m(\u001b[0m\u001b[1;33m{\u001b[0m\u001b[0mk\u001b[0m\u001b[1;33m:\u001b[0m \u001b[0marg\u001b[0m \u001b[1;32mfor\u001b[0m \u001b[0mk\u001b[0m\u001b[1;33m,\u001b[0m \u001b[0marg\u001b[0m \u001b[1;32min\u001b[0m \u001b[0mzip\u001b[0m\u001b[1;33m(\u001b[0m\u001b[0msig\u001b[0m\u001b[1;33m.\u001b[0m\u001b[0mparameters\u001b[0m\u001b[1;33m,\u001b[0m \u001b[0margs\u001b[0m\u001b[1;33m)\u001b[0m\u001b[1;33m}\u001b[0m\u001b[1;33m)\u001b[0m\u001b[1;33m\u001b[0m\u001b[1;33m\u001b[0m\u001b[0m\n\u001b[1;32m---> 46\u001b[1;33m         \u001b[1;32mreturn\u001b[0m \u001b[0mf\u001b[0m\u001b[1;33m(\u001b[0m\u001b[1;33m**\u001b[0m\u001b[0mkwargs\u001b[0m\u001b[1;33m)\u001b[0m\u001b[1;33m\u001b[0m\u001b[1;33m\u001b[0m\u001b[0m\n\u001b[0m\u001b[0;32m     47\u001b[0m     \u001b[1;32mreturn\u001b[0m \u001b[0minner_f\u001b[0m\u001b[1;33m\u001b[0m\u001b[1;33m\u001b[0m\u001b[0m\n\u001b[0;32m     48\u001b[0m \u001b[1;33m\u001b[0m\u001b[0m\n",
      "\u001b[1;32m~\\anaconda3\\lib\\site-packages\\seaborn\\categorical.py\u001b[0m in \u001b[0;36mbarplot\u001b[1;34m(x, y, hue, data, order, hue_order, estimator, ci, n_boot, units, seed, orient, color, palette, saturation, errcolor, errwidth, capsize, dodge, ax, **kwargs)\u001b[0m\n\u001b[0;32m   3177\u001b[0m ):\n\u001b[0;32m   3178\u001b[0m \u001b[1;33m\u001b[0m\u001b[0m\n\u001b[1;32m-> 3179\u001b[1;33m     plotter = _BarPlotter(x, y, hue, data, order, hue_order,\n\u001b[0m\u001b[0;32m   3180\u001b[0m                           \u001b[0mestimator\u001b[0m\u001b[1;33m,\u001b[0m \u001b[0mci\u001b[0m\u001b[1;33m,\u001b[0m \u001b[0mn_boot\u001b[0m\u001b[1;33m,\u001b[0m \u001b[0munits\u001b[0m\u001b[1;33m,\u001b[0m \u001b[0mseed\u001b[0m\u001b[1;33m,\u001b[0m\u001b[1;33m\u001b[0m\u001b[1;33m\u001b[0m\u001b[0m\n\u001b[0;32m   3181\u001b[0m                           \u001b[0morient\u001b[0m\u001b[1;33m,\u001b[0m \u001b[0mcolor\u001b[0m\u001b[1;33m,\u001b[0m \u001b[0mpalette\u001b[0m\u001b[1;33m,\u001b[0m \u001b[0msaturation\u001b[0m\u001b[1;33m,\u001b[0m\u001b[1;33m\u001b[0m\u001b[1;33m\u001b[0m\u001b[0m\n",
      "\u001b[1;32m~\\anaconda3\\lib\\site-packages\\seaborn\\categorical.py\u001b[0m in \u001b[0;36m__init__\u001b[1;34m(self, x, y, hue, data, order, hue_order, estimator, ci, n_boot, units, seed, orient, color, palette, saturation, errcolor, errwidth, capsize, dodge)\u001b[0m\n\u001b[0;32m   1582\u001b[0m                  errwidth, capsize, dodge):\n\u001b[0;32m   1583\u001b[0m         \u001b[1;34m\"\"\"Initialize the plotter.\"\"\"\u001b[0m\u001b[1;33m\u001b[0m\u001b[1;33m\u001b[0m\u001b[0m\n\u001b[1;32m-> 1584\u001b[1;33m         self.establish_variables(x, y, hue, data, orient,\n\u001b[0m\u001b[0;32m   1585\u001b[0m                                  order, hue_order, units)\n\u001b[0;32m   1586\u001b[0m         \u001b[0mself\u001b[0m\u001b[1;33m.\u001b[0m\u001b[0mestablish_colors\u001b[0m\u001b[1;33m(\u001b[0m\u001b[0mcolor\u001b[0m\u001b[1;33m,\u001b[0m \u001b[0mpalette\u001b[0m\u001b[1;33m,\u001b[0m \u001b[0msaturation\u001b[0m\u001b[1;33m)\u001b[0m\u001b[1;33m\u001b[0m\u001b[1;33m\u001b[0m\u001b[0m\n",
      "\u001b[1;32m~\\anaconda3\\lib\\site-packages\\seaborn\\categorical.py\u001b[0m in \u001b[0;36mestablish_variables\u001b[1;34m(self, x, y, hue, data, orient, order, hue_order, units)\u001b[0m\n\u001b[0;32m    204\u001b[0m \u001b[1;33m\u001b[0m\u001b[0m\n\u001b[0;32m    205\u001b[0m                 \u001b[1;31m# Group the numeric data\u001b[0m\u001b[1;33m\u001b[0m\u001b[1;33m\u001b[0m\u001b[1;33m\u001b[0m\u001b[0m\n\u001b[1;32m--> 206\u001b[1;33m                 plot_data, value_label = self._group_longform(vals, groups,\n\u001b[0m\u001b[0;32m    207\u001b[0m                                                               group_names)\n\u001b[0;32m    208\u001b[0m \u001b[1;33m\u001b[0m\u001b[0m\n",
      "\u001b[1;32m~\\anaconda3\\lib\\site-packages\\seaborn\\categorical.py\u001b[0m in \u001b[0;36m_group_longform\u001b[1;34m(self, vals, grouper, order)\u001b[0m\n\u001b[0;32m    251\u001b[0m \u001b[1;33m\u001b[0m\u001b[0m\n\u001b[0;32m    252\u001b[0m         \u001b[1;31m# Group the val data\u001b[0m\u001b[1;33m\u001b[0m\u001b[1;33m\u001b[0m\u001b[1;33m\u001b[0m\u001b[0m\n\u001b[1;32m--> 253\u001b[1;33m         \u001b[0mgrouped_vals\u001b[0m \u001b[1;33m=\u001b[0m \u001b[0mvals\u001b[0m\u001b[1;33m.\u001b[0m\u001b[0mgroupby\u001b[0m\u001b[1;33m(\u001b[0m\u001b[0mgrouper\u001b[0m\u001b[1;33m)\u001b[0m\u001b[1;33m\u001b[0m\u001b[1;33m\u001b[0m\u001b[0m\n\u001b[0m\u001b[0;32m    254\u001b[0m         \u001b[0mout_data\u001b[0m \u001b[1;33m=\u001b[0m \u001b[1;33m[\u001b[0m\u001b[1;33m]\u001b[0m\u001b[1;33m\u001b[0m\u001b[1;33m\u001b[0m\u001b[0m\n\u001b[0;32m    255\u001b[0m         \u001b[1;32mfor\u001b[0m \u001b[0mg\u001b[0m \u001b[1;32min\u001b[0m \u001b[0morder\u001b[0m\u001b[1;33m:\u001b[0m\u001b[1;33m\u001b[0m\u001b[1;33m\u001b[0m\u001b[0m\n",
      "\u001b[1;32m~\\anaconda3\\lib\\site-packages\\pandas\\core\\series.py\u001b[0m in \u001b[0;36mgroupby\u001b[1;34m(self, by, axis, level, as_index, sort, group_keys, squeeze, observed, dropna)\u001b[0m\n\u001b[0;32m   1718\u001b[0m         \u001b[0maxis\u001b[0m \u001b[1;33m=\u001b[0m \u001b[0mself\u001b[0m\u001b[1;33m.\u001b[0m\u001b[0m_get_axis_number\u001b[0m\u001b[1;33m(\u001b[0m\u001b[0maxis\u001b[0m\u001b[1;33m)\u001b[0m\u001b[1;33m\u001b[0m\u001b[1;33m\u001b[0m\u001b[0m\n\u001b[0;32m   1719\u001b[0m \u001b[1;33m\u001b[0m\u001b[0m\n\u001b[1;32m-> 1720\u001b[1;33m         return SeriesGroupBy(\n\u001b[0m\u001b[0;32m   1721\u001b[0m             \u001b[0mobj\u001b[0m\u001b[1;33m=\u001b[0m\u001b[0mself\u001b[0m\u001b[1;33m,\u001b[0m\u001b[1;33m\u001b[0m\u001b[1;33m\u001b[0m\u001b[0m\n\u001b[0;32m   1722\u001b[0m             \u001b[0mkeys\u001b[0m\u001b[1;33m=\u001b[0m\u001b[0mby\u001b[0m\u001b[1;33m,\u001b[0m\u001b[1;33m\u001b[0m\u001b[1;33m\u001b[0m\u001b[0m\n",
      "\u001b[1;32m~\\anaconda3\\lib\\site-packages\\pandas\\core\\groupby\\groupby.py\u001b[0m in \u001b[0;36m__init__\u001b[1;34m(self, obj, keys, axis, level, grouper, exclusions, selection, as_index, sort, group_keys, squeeze, observed, mutated, dropna)\u001b[0m\n\u001b[0;32m    558\u001b[0m             \u001b[1;32mfrom\u001b[0m \u001b[0mpandas\u001b[0m\u001b[1;33m.\u001b[0m\u001b[0mcore\u001b[0m\u001b[1;33m.\u001b[0m\u001b[0mgroupby\u001b[0m\u001b[1;33m.\u001b[0m\u001b[0mgrouper\u001b[0m \u001b[1;32mimport\u001b[0m \u001b[0mget_grouper\u001b[0m\u001b[1;33m\u001b[0m\u001b[1;33m\u001b[0m\u001b[0m\n\u001b[0;32m    559\u001b[0m \u001b[1;33m\u001b[0m\u001b[0m\n\u001b[1;32m--> 560\u001b[1;33m             grouper, exclusions, obj = get_grouper(\n\u001b[0m\u001b[0;32m    561\u001b[0m                 \u001b[0mobj\u001b[0m\u001b[1;33m,\u001b[0m\u001b[1;33m\u001b[0m\u001b[1;33m\u001b[0m\u001b[0m\n\u001b[0;32m    562\u001b[0m                 \u001b[0mkeys\u001b[0m\u001b[1;33m,\u001b[0m\u001b[1;33m\u001b[0m\u001b[1;33m\u001b[0m\u001b[0m\n",
      "\u001b[1;32m~\\anaconda3\\lib\\site-packages\\pandas\\core\\groupby\\grouper.py\u001b[0m in \u001b[0;36mget_grouper\u001b[1;34m(obj, key, axis, level, sort, observed, mutated, validate, dropna)\u001b[0m\n\u001b[0;32m    809\u001b[0m                 \u001b[0min_axis\u001b[0m\u001b[1;33m,\u001b[0m \u001b[0mname\u001b[0m\u001b[1;33m,\u001b[0m \u001b[0mlevel\u001b[0m\u001b[1;33m,\u001b[0m \u001b[0mgpr\u001b[0m \u001b[1;33m=\u001b[0m \u001b[1;32mFalse\u001b[0m\u001b[1;33m,\u001b[0m \u001b[1;32mNone\u001b[0m\u001b[1;33m,\u001b[0m \u001b[0mgpr\u001b[0m\u001b[1;33m,\u001b[0m \u001b[1;32mNone\u001b[0m\u001b[1;33m\u001b[0m\u001b[1;33m\u001b[0m\u001b[0m\n\u001b[0;32m    810\u001b[0m             \u001b[1;32melse\u001b[0m\u001b[1;33m:\u001b[0m\u001b[1;33m\u001b[0m\u001b[1;33m\u001b[0m\u001b[0m\n\u001b[1;32m--> 811\u001b[1;33m                 \u001b[1;32mraise\u001b[0m \u001b[0mKeyError\u001b[0m\u001b[1;33m(\u001b[0m\u001b[0mgpr\u001b[0m\u001b[1;33m)\u001b[0m\u001b[1;33m\u001b[0m\u001b[1;33m\u001b[0m\u001b[0m\n\u001b[0m\u001b[0;32m    812\u001b[0m         \u001b[1;32melif\u001b[0m \u001b[0misinstance\u001b[0m\u001b[1;33m(\u001b[0m\u001b[0mgpr\u001b[0m\u001b[1;33m,\u001b[0m \u001b[0mGrouper\u001b[0m\u001b[1;33m)\u001b[0m \u001b[1;32mand\u001b[0m \u001b[0mgpr\u001b[0m\u001b[1;33m.\u001b[0m\u001b[0mkey\u001b[0m \u001b[1;32mis\u001b[0m \u001b[1;32mnot\u001b[0m \u001b[1;32mNone\u001b[0m\u001b[1;33m:\u001b[0m\u001b[1;33m\u001b[0m\u001b[1;33m\u001b[0m\u001b[0m\n\u001b[0;32m    813\u001b[0m             \u001b[1;31m# Add key to exclusions\u001b[0m\u001b[1;33m\u001b[0m\u001b[1;33m\u001b[0m\u001b[1;33m\u001b[0m\u001b[0m\n",
      "\u001b[1;31mKeyError\u001b[0m: 'enough'"
     ]
    },
    {
     "data": {
      "image/png": "[encoded data removed]",
      "text/plain": [
       "<Figure size 864x576 with 1 Axes>"
      ]
     },
     "metadata": {
      "needs_background": "light"
     },
     "output_type": "display_data"
    }
   ],
   "source": [
    "stack_it('quantity')"
   ]
  },
  {
   "cell_type": "markdown",
   "id": "b24da4f9",
   "metadata": {},
   "source": [
    "### Data Visualization"
   ]
  },
  {
   "cell_type": "code",
   "execution_count": null,
   "id": "86f2896a",
   "metadata": {},
   "outputs": [],
   "source": []
  },
  {
   "cell_type": "code",
   "execution_count": null,
   "id": "19afd562",
   "metadata": {},
   "outputs": [],
   "source": []
  },
  {
   "cell_type": "markdown",
   "id": "6f8a2f23",
   "metadata": {},
   "source": [
    "## Model Selection"
   ]
  },
  {
   "cell_type": "markdown",
   "id": "b5528c87",
   "metadata": {},
   "source": [
    "### Train-Test Split"
   ]
  },
  {
   "cell_type": "code",
   "execution_count": 14,
   "id": "09a5e04a",
   "metadata": {},
   "outputs": [],
   "source": [
    "X = all_data.drop('status_group', axis=1)\n",
    "y = all_data['status_group']\n",
    "\n",
    "X_train, X_test, y_train, y_test = train_test_split(X, y, test_size=0.25, random_state=42, stratify=y)"
   ]
  },
  {
   "cell_type": "markdown",
   "id": "8a9230b6",
   "metadata": {},
   "source": [
    "We want to bin our target values to binary."
   ]
  },
  {
   "cell_type": "code",
   "execution_count": 15,
   "id": "fde75276",
   "metadata": {},
   "outputs": [],
   "source": [
    "y_train = y_train.map({'functional' : 0, 'non functional' : 1, 'functional needs repair' : 0})"
   ]
  },
  {
   "cell_type": "markdown",
   "id": "393072ae",
   "metadata": {},
   "source": [
    "Then, we want to make an age column to get the age of the water pumps."
   ]
  },
  {
   "cell_type": "code",
   "execution_count": 16,
   "id": "aab73b94",
   "metadata": {},
   "outputs": [],
   "source": [
    "# Replace water pumps with 0 construction year with the median construction year\n",
    "median_year_with_no_zero = X_train[X_train['construction_year'] > 0]['construction_year'].median()\n",
    "X_train.loc[(X_train['construction_year'] == 0),'construction_year'] = median_year_with_no_zero\n",
    "\n",
    "# If construction year is greater than recorded age, than replace construction year with median year.\n",
    "X_train.loc[(X_train['construction_year'] > X_train['recorded_year']),'construction_year'] = median_year_with_no_zero\n",
    "\n",
    "# Create age column\n",
    "X_train['age'] = X_train['recorded_year'] - X_train['construction_year']\n",
    "\n",
    "# Drop recorded_year and construction_year since we now have the age\n",
    "X_train.drop(['recorded_year', 'construction_year'], axis=1, inplace=True)"
   ]
  },
  {
   "cell_type": "markdown",
   "id": "9a962503",
   "metadata": {},
   "source": [
    "### Dummy Classifier"
   ]
  },
  {
   "cell_type": "markdown",
   "id": "4edc98a1",
   "metadata": {},
   "source": [
    "Using Dummy Classifier, we are going to come up with our First Simple Model."
   ]
  },
  {
   "cell_type": "code",
   "execution_count": 17,
   "id": "3450b5dc",
   "metadata": {},
   "outputs": [
    {
     "data": {
      "text/plain": [
       "0    0.615758\n",
       "1    0.384242\n",
       "Name: status_group, dtype: float64"
      ]
     },
     "execution_count": 17,
     "metadata": {},
     "output_type": "execute_result"
    }
   ],
   "source": [
    "y_train.value_counts(normalize=True)"
   ]
  },
  {
   "cell_type": "markdown",
   "id": "12d95b55",
   "metadata": {},
   "source": [
    "We see that our classes aren't imbalanced. We have approximately 60% functional and approximately 40% non-functional."
   ]
  },
  {
   "cell_type": "code",
   "execution_count": 18,
   "id": "dd03d8ae",
   "metadata": {},
   "outputs": [],
   "source": [
    "# Create our dummy model\n",
    "dummy_model = DummyClassifier(strategy=\"most_frequent\")\n",
    "\n",
    "cv_results = cross_validate(dummy_model, X_train, y_train, return_train_score=True)"
   ]
  },
  {
   "cell_type": "code",
   "execution_count": 19,
   "id": "520edecb",
   "metadata": {},
   "outputs": [
    {
     "name": "stdout",
     "output_type": "stream",
     "text": [
      "Mean Train Score: 0.6157575757575758\n",
      "Mean Test Score: 0.6157575757575758\n"
     ]
    }
   ],
   "source": [
    "print('Mean Train Score: {}'.format(cv_results['train_score'].mean()))\n",
    "print('Mean Test Score: {}'.format(cv_results['test_score'].mean()))"
   ]
  },
  {
   "cell_type": "markdown",
   "id": "84f67a68",
   "metadata": {},
   "source": [
    "The dummy model gives a result of ~61.6% accurate results."
   ]
  },
  {
   "cell_type": "markdown",
   "id": "62113cf7",
   "metadata": {},
   "source": [
    "### Logistic Regression"
   ]
  },
  {
   "cell_type": "markdown",
   "id": "3a0fedb7",
   "metadata": {},
   "source": [
    "Now, we are going to try logistic regression model on our data to see if there is an improvement."
   ]
  },
  {
   "cell_type": "code",
   "execution_count": 20,
   "id": "424512b9",
   "metadata": {},
   "outputs": [],
   "source": [
    "# Get categorical and numeric columns\n",
    "categorical_cols = X_train.select_dtypes('object')\n",
    "numerical_cols = X_train.select_dtypes(exclude=['object'])\n",
    "\n",
    "# Make Pipeline for categorical (OneHotEncoder) and numeric columns (StandardScaler)\n",
    "categorical_pipeline = Pipeline(steps=[('ohe', OneHotEncoder(handle_unknown='ignore'))])\n",
    "numerical_pipeline = Pipeline(steps=[('ss', StandardScaler())])\n",
    "\n",
    "# Create transformer with both categorical and numeric pipelines\n",
    "trans = ColumnTransformer(transformers=[\n",
    "    ('numerical', numerical_pipeline, numerical_cols.columns),\n",
    "    ('categorical', categorical_pipeline, categorical_cols.columns)\n",
    "])\n",
    "\n",
    "# Create a pipeline with the transformer and the model\n",
    "lr_pipline = Pipeline(steps=[('trans', trans),\n",
    "                              ('model', LogisticRegression(random_state=42))])"
   ]
  },
  {
   "cell_type": "code",
   "execution_count": 21,
   "id": "1807f322",
   "metadata": {},
   "outputs": [],
   "source": [
    "# Create a grid search to get the best hypterparameter for logistic regression\n",
    "lr_grid = {'model__C' : [0.5, 1, 50],\n",
    "       'model__max_iter' : [1750, 2000],\n",
    "       'model__class_weight': [None, 'balanced', 0.25],\n",
    "       'model__tol' : [0.0001, 0.01, 0.1]}\n",
    "\n",
    "lr_gs = GridSearchCV(lr_pipline, lr_grid, cv=3, return_train_score=True)"
   ]
  },
  {
   "cell_type": "code",
   "execution_count": 22,
   "id": "ab654376",
   "metadata": {},
   "outputs": [
    {
     "data": {
      "text/plain": [
       "GridSearchCV(cv=3,\n",
       "             estimator=Pipeline(steps=[('trans',\n",
       "                                        ColumnTransformer(transformers=[('numerical',\n",
       "                                                                         Pipeline(steps=[('ss',\n",
       "                                                                                          StandardScaler())]),\n",
       "                                                                         Index(['amount_tsh', 'gps_height', 'longitude', 'latitude', 'region_code',\n",
       "       'district_code', 'population', 'age'],\n",
       "      dtype='object')),\n",
       "                                                                        ('categorical',\n",
       "                                                                         Pipeline(steps=[('ohe',\n",
       "                                                                                          OneHotEncoder(handle_unknown='ignore'))]),\n",
       "                                                                         Index([...n_type', 'management',\n",
       "       'payment', 'water_quality', 'quality_group', 'quantity', 'source',\n",
       "       'source_class', 'waterpoint_type'],\n",
       "      dtype='object'))])),\n",
       "                                       ('model',\n",
       "                                        LogisticRegression(random_state=42))]),\n",
       "             param_grid={'model__C': [0.5, 1, 50],\n",
       "                         'model__class_weight': [None, 'balanced', 0.25],\n",
       "                         'model__max_iter': [1750, 2000],\n",
       "                         'model__tol': [0.0001, 0.01, 0.1]},\n",
       "             return_train_score=True)"
      ]
     },
     "execution_count": 22,
     "metadata": {},
     "output_type": "execute_result"
    }
   ],
   "source": [
    "# Fit our data into the grid search\n",
    "lr_gs.fit(X_train, y_train)"
   ]
  },
  {
   "cell_type": "code",
   "execution_count": 23,
   "id": "690bc62c",
   "metadata": {},
   "outputs": [
    {
     "data": {
      "text/plain": [
       "{'model__C': 1,\n",
       " 'model__class_weight': None,\n",
       " 'model__max_iter': 1750,\n",
       " 'model__tol': 0.0001}"
      ]
     },
     "execution_count": 23,
     "metadata": {},
     "output_type": "execute_result"
    }
   ],
   "source": [
    "# See the best parameters for logistic regression\n",
    "lr_gs.best_params_"
   ]
  },
  {
   "cell_type": "code",
   "execution_count": 24,
   "id": "c2a8e9bc",
   "metadata": {},
   "outputs": [
    {
     "name": "stdout",
     "output_type": "stream",
     "text": [
      "Mean Train Score: 0.7929633786423909\n",
      "Mean Test Score: 0.7913763145861908\n"
     ]
    }
   ],
   "source": [
    "print('Mean Train Score: {}'.format(lr_gs.cv_results_['mean_train_score'].mean()))\n",
    "print('Mean Test Score: {}'.format(lr_gs.cv_results_['mean_test_score'].mean()))"
   ]
  },
  {
   "cell_type": "markdown",
   "id": "ab9b99bd",
   "metadata": {},
   "source": [
    "Our logistic regression model got ~79% accurate results. Looking at the train and test scores, the variance is low. Our bias is lower than our dummy model but not too low."
   ]
  },
  {
   "cell_type": "code",
   "execution_count": 25,
   "id": "b5f3acfb",
   "metadata": {},
   "outputs": [
    {
     "data": {
      "text/plain": [
       "array([[25194,  2238],\n",
       "       [ 6881, 10237]], dtype=int64)"
      ]
     },
     "execution_count": 25,
     "metadata": {},
     "output_type": "execute_result"
    }
   ],
   "source": [
    "lr_y_pred = cross_val_predict(lr_gs.best_estimator_, X_train, y_train)\n",
    "\n",
    "confusion_matrix(y_train, lr_y_pred)"
   ]
  },
  {
   "cell_type": "markdown",
   "id": "4678db6f",
   "metadata": {},
   "source": [
    "The logistic model predicts 35,431 water pumps correctly. The model also predicts 6,881 water pumps as non-functional when they are functional and it preditcs 2,238 water pumps as functional when they are non-functional."
   ]
  },
  {
   "cell_type": "markdown",
   "id": "ff10128d",
   "metadata": {},
   "source": [
    "### KNN"
   ]
  },
  {
   "cell_type": "markdown",
   "id": "73e5969c",
   "metadata": {},
   "source": [
    "Let's see if KNN gives us a better result."
   ]
  },
  {
   "cell_type": "code",
   "execution_count": 26,
   "id": "07489051",
   "metadata": {},
   "outputs": [],
   "source": [
    "# Create pipeline with the transformer and KNN model\n",
    "knn_pipline = Pipeline(steps=[('trans', trans),\n",
    "                              ('model', KNeighborsClassifier())])"
   ]
  },
  {
   "cell_type": "code",
   "execution_count": 27,
   "id": "467ed474",
   "metadata": {},
   "outputs": [
    {
     "data": {
      "text/plain": [
       "GridSearchCV(cv=3,\n",
       "             estimator=Pipeline(steps=[('trans',\n",
       "                                        ColumnTransformer(transformers=[('numerical',\n",
       "                                                                         Pipeline(steps=[('ss',\n",
       "                                                                                          StandardScaler())]),\n",
       "                                                                         Index(['amount_tsh', 'gps_height', 'longitude', 'latitude', 'region_code',\n",
       "       'district_code', 'population', 'age'],\n",
       "      dtype='object')),\n",
       "                                                                        ('categorical',\n",
       "                                                                         Pipeline(steps=[('ohe',\n",
       "                                                                                          OneHotEncoder(handle_unknown='ignore'))]),\n",
       "                                                                         Index(['basin', 'scheme_management', 'permit', 'extraction_type', 'management',\n",
       "       'payment', 'water_quality', 'quality_group', 'quantity', 'source',\n",
       "       'source_class', 'waterpoint_type'],\n",
       "      dtype='object'))])),\n",
       "                                       ('model', KNeighborsClassifier())]),\n",
       "             param_grid={'model__n_neighbors': [7, 11, 15, 21],\n",
       "                         'model__weights': ['distance', 'uniform']},\n",
       "             return_train_score=True)"
      ]
     },
     "execution_count": 27,
     "metadata": {},
     "output_type": "execute_result"
    }
   ],
   "source": [
    "# Create grid search to get the best parameters for KNN\n",
    "knn_grid= {'model__n_neighbors': [7,11,15,21],\n",
    "      'model__weights': ['distance', 'uniform'],\n",
    "      }\n",
    "\n",
    "knn_gs = GridSearchCV(knn_pipline, knn_grid, cv=3, return_train_score=True)\n",
    "\n",
    "# Fit our training data in the grid search\n",
    "knn_gs.fit(X_train,y_train)"
   ]
  },
  {
   "cell_type": "code",
   "execution_count": 28,
   "id": "9520217e",
   "metadata": {},
   "outputs": [
    {
     "data": {
      "text/plain": [
       "{'model__n_neighbors': 15, 'model__weights': 'distance'}"
      ]
     },
     "execution_count": 28,
     "metadata": {},
     "output_type": "execute_result"
    }
   ],
   "source": [
    "# Get our best parameter for KNN\n",
    "knn_gs.best_params_"
   ]
  },
  {
   "cell_type": "code",
   "execution_count": 29,
   "id": "737f32a0",
   "metadata": {},
   "outputs": [
    {
     "name": "stdout",
     "output_type": "stream",
     "text": [
      "Mean Train Score: 0.9180331088664422\n",
      "Mean Test Score: 0.8168237934904602\n"
     ]
    }
   ],
   "source": [
    "print('Mean Train Score: {}'.format(knn_gs.cv_results_['mean_train_score'].mean()))\n",
    "print('Mean Test Score: {}'.format(knn_gs.cv_results_['mean_test_score'].mean()))"
   ]
  },
  {
   "cell_type": "markdown",
   "id": "0efad656",
   "metadata": {},
   "source": [
    "Our KNN model got ~81.6% accurate results. Looking at the train and test scores, the variance is high. Our bias is slightly lower than our logistic but it seems like our KNN model is overfit."
   ]
  },
  {
   "cell_type": "code",
   "execution_count": 30,
   "id": "bc54f170",
   "metadata": {},
   "outputs": [
    {
     "data": {
      "text/plain": [
       "array([[24554,  2878],\n",
       "       [ 4596, 12522]], dtype=int64)"
      ]
     },
     "execution_count": 30,
     "metadata": {},
     "output_type": "execute_result"
    }
   ],
   "source": [
    "knn_y_pred = cross_val_predict(knn_gs.best_estimator_, X_train, y_train)\n",
    "\n",
    "confusion_matrix(y_train, knn_y_pred)"
   ]
  },
  {
   "cell_type": "markdown",
   "id": "d036eb28",
   "metadata": {},
   "source": [
    "The knn model predicts 37,076 water pumps correctly. The model also predicts 4,596 water pumps as non-functional when they are functional and it preditcs 2,878 water pumps as functional when they are non-functional."
   ]
  },
  {
   "cell_type": "markdown",
   "id": "4f1e46f2",
   "metadata": {},
   "source": [
    "### Random Forest Classifier"
   ]
  },
  {
   "cell_type": "markdown",
   "id": "63927057",
   "metadata": {},
   "source": [
    "Let's see if RandomForestClassifier gives us a better result."
   ]
  },
  {
   "cell_type": "code",
   "execution_count": 32,
   "id": "d1e388b8",
   "metadata": {},
   "outputs": [],
   "source": [
    "# Create transformers for only OneHotEncoder since forest doesn't need scaler\n",
    "ohe_trans = ColumnTransformer(transformers=[('categorical', categorical_pipeline, categorical_cols.columns)],\n",
    "                              remainder='passthrough')\n",
    "# Create pipeline with transformer and randomforest model\n",
    "forest_pipline = Pipeline(steps=[('ohe_trans', ohe_trans),\n",
    "                              ('model', RandomForestClassifier(random_state=42))])"
   ]
  },
  {
   "cell_type": "code",
   "execution_count": 33,
   "id": "d966562e",
   "metadata": {},
   "outputs": [
    {
     "data": {
      "text/plain": [
       "GridSearchCV(cv=3,\n",
       "             estimator=Pipeline(steps=[('ohe_trans',\n",
       "                                        ColumnTransformer(remainder='passthrough',\n",
       "                                                          transformers=[('categorical',\n",
       "                                                                         Pipeline(steps=[('ohe',\n",
       "                                                                                          OneHotEncoder(handle_unknown='ignore'))]),\n",
       "                                                                         Index(['basin', 'scheme_management', 'permit', 'extraction_type', 'management',\n",
       "       'payment', 'water_quality', 'quality_group', 'quantity', 'source',\n",
       "       'source_class', 'waterpoint_type'],\n",
       "      dtype='object'))])),\n",
       "                                       ('model',\n",
       "                                        RandomForestClassifier(random_state=42))]),\n",
       "             param_grid={'model__criterion': ['gini', 'entropy'],\n",
       "                         'model__max_depth': [None, 3, 5],\n",
       "                         'model__max_features': [5, 10],\n",
       "                         'model__min_samples_leaf': [1, 3, 5, 7],\n",
       "                         'model__min_samples_split': [2, 5, 10]},\n",
       "             return_train_score=True)"
      ]
     },
     "execution_count": 33,
     "metadata": {},
     "output_type": "execute_result"
    }
   ],
   "source": [
    "# Create grid search to get the best hyperparameters for randomforest\n",
    "forest_grid= {'model__criterion':['gini', 'entropy'],\n",
    "         'model__max_depth':[None,3,5],\n",
    "         'model__min_samples_split':[2,5,10],\n",
    "         'model__min_samples_leaf':[1,3,5,7],\n",
    "         'model__max_features' : [5,10]}\n",
    "\n",
    "forest_gs = GridSearchCV(forest_pipline, forest_grid, cv=3, return_train_score=True)\n",
    "\n",
    "# Fit the training data in the grid search\n",
    "forest_gs.fit(X_train,y_train)"
   ]
  },
  {
   "cell_type": "code",
   "execution_count": 34,
   "id": "59b9254d",
   "metadata": {},
   "outputs": [
    {
     "data": {
      "text/plain": [
       "{'model__criterion': 'gini',\n",
       " 'model__max_depth': None,\n",
       " 'model__max_features': 10,\n",
       " 'model__min_samples_leaf': 1,\n",
       " 'model__min_samples_split': 5}"
      ]
     },
     "execution_count": 34,
     "metadata": {},
     "output_type": "execute_result"
    }
   ],
   "source": [
    "# Look at best hyperparameters\n",
    "forest_gs.best_params_"
   ]
  },
  {
   "cell_type": "code",
   "execution_count": 35,
   "id": "130711f0",
   "metadata": {},
   "outputs": [
    {
     "name": "stdout",
     "output_type": "stream",
     "text": [
      "Mean Train Score: 0.8008793178700587\n",
      "Mean Test Score: 0.7836664484349669\n"
     ]
    }
   ],
   "source": [
    "print('Mean Train Score: {}'.format(forest_gs.cv_results_['mean_train_score'].mean()))\n",
    "print('Mean Test Score: {}'.format(forest_gs.cv_results_['mean_test_score'].mean()))"
   ]
  },
  {
   "cell_type": "markdown",
   "id": "4fe7731f",
   "metadata": {},
   "source": [
    "Our random forest classifier model got ~78% accurate results. Looking at the train and test scores, the variance is low. Our bias is higher than than the knn model and logistic model."
   ]
  },
  {
   "cell_type": "code",
   "execution_count": 36,
   "id": "a2ad3604",
   "metadata": {},
   "outputs": [
    {
     "data": {
      "text/plain": [
       "array([[25062,  2370],\n",
       "       [ 4152, 12966]], dtype=int64)"
      ]
     },
     "execution_count": 36,
     "metadata": {},
     "output_type": "execute_result"
    }
   ],
   "source": [
    "forest_y_pred = cross_val_predict(forest_gs.best_estimator_, X_train, y_train)\n",
    "\n",
    "confusion_matrix(y_train, forest_y_pred)"
   ]
  },
  {
   "cell_type": "markdown",
   "id": "c56745a3",
   "metadata": {},
   "source": [
    "The random forest classifier model predicts 38,028 water pumps correctly. The model also predicts 4,152 water pumps as non-functional when they are functional and it preditcs 2,370 water pumps as functional when they are non-functional."
   ]
  },
  {
   "cell_type": "markdown",
   "id": "53e76f5b",
   "metadata": {},
   "source": [
    "### XGBoost"
   ]
  },
  {
   "cell_type": "markdown",
   "id": "29ac9515",
   "metadata": {},
   "source": [
    "Let's see if XGBoost gives us a better result."
   ]
  },
  {
   "cell_type": "code",
   "execution_count": 37,
   "id": "ef6eef4a",
   "metadata": {},
   "outputs": [],
   "source": [
    "# Create pipeline with transformer and XGBoost model\n",
    "xgb_pipeline = Pipeline(steps=[('ohe_trans', ohe_trans),\n",
    "                               ('model', XGBClassifier(random_state=42))])"
   ]
  },
  {
   "cell_type": "code",
   "execution_count": 38,
   "id": "5ae4abdf",
   "metadata": {
    "scrolled": true
   },
   "outputs": [
    {
     "name": "stdout",
     "output_type": "stream",
     "text": [
      "[15:38:42] WARNING: ..\\src\\learner.cc:1061: Starting in XGBoost 1.3.0, the default evaluation metric used with the objective 'binary:logistic' was changed from 'error' to 'logloss'. Explicitly set eval_metric if you'd like to restore the old behavior.\n",
      "[15:38:43] WARNING: ..\\src\\learner.cc:1061: Starting in XGBoost 1.3.0, the default evaluation metric used with the objective 'binary:logistic' was changed from 'error' to 'logloss'. Explicitly set eval_metric if you'd like to restore the old behavior.\n",
      "[15:38:44] WARNING: ..\\src\\learner.cc:1061: Starting in XGBoost 1.3.0, the default evaluation metric used with the objective 'binary:logistic' was changed from 'error' to 'logloss'. Explicitly set eval_metric if you'd like to restore the old behavior.\n",
      "[15:38:44] WARNING: ..\\src\\learner.cc:1061: Starting in XGBoost 1.3.0, the default evaluation metric used with the objective 'binary:logistic' was changed from 'error' to 'logloss'. Explicitly set eval_metric if you'd like to restore the old behavior.\n",
      "[15:38:45] WARNING: ..\\src\\learner.cc:1061: Starting in XGBoost 1.3.0, the default evaluation metric used with the objective 'binary:logistic' was changed from 'error' to 'logloss'. Explicitly set eval_metric if you'd like to restore the old behavior.\n",
      "[15:38:46] WARNING: ..\\src\\learner.cc:1061: Starting in XGBoost 1.3.0, the default evaluation metric used with the objective 'binary:logistic' was changed from 'error' to 'logloss'. Explicitly set eval_metric if you'd like to restore the old behavior.\n",
      "[15:38:47] WARNING: ..\\src\\learner.cc:1061: Starting in XGBoost 1.3.0, the default evaluation metric used with the objective 'binary:logistic' was changed from 'error' to 'logloss'. Explicitly set eval_metric if you'd like to restore the old behavior.\n",
      "[15:38:48] WARNING: ..\\src\\learner.cc:1061: Starting in XGBoost 1.3.0, the default evaluation metric used with the objective 'binary:logistic' was changed from 'error' to 'logloss'. Explicitly set eval_metric if you'd like to restore the old behavior.\n",
      "[15:38:49] WARNING: ..\\src\\learner.cc:1061: Starting in XGBoost 1.3.0, the default evaluation metric used with the objective 'binary:logistic' was changed from 'error' to 'logloss'. Explicitly set eval_metric if you'd like to restore the old behavior.\n",
      "[15:38:50] WARNING: ..\\src\\learner.cc:1061: Starting in XGBoost 1.3.0, the default evaluation metric used with the objective 'binary:logistic' was changed from 'error' to 'logloss'. Explicitly set eval_metric if you'd like to restore the old behavior.\n",
      "[15:38:51] WARNING: ..\\src\\learner.cc:1061: Starting in XGBoost 1.3.0, the default evaluation metric used with the objective 'binary:logistic' was changed from 'error' to 'logloss'. Explicitly set eval_metric if you'd like to restore the old behavior.\n",
      "[15:38:52] WARNING: ..\\src\\learner.cc:1061: Starting in XGBoost 1.3.0, the default evaluation metric used with the objective 'binary:logistic' was changed from 'error' to 'logloss'. Explicitly set eval_metric if you'd like to restore the old behavior.\n",
      "[15:38:53] WARNING: ..\\src\\learner.cc:1061: Starting in XGBoost 1.3.0, the default evaluation metric used with the objective 'binary:logistic' was changed from 'error' to 'logloss'. Explicitly set eval_metric if you'd like to restore the old behavior.\n",
      "[15:38:54] WARNING: ..\\src\\learner.cc:1061: Starting in XGBoost 1.3.0, the default evaluation metric used with the objective 'binary:logistic' was changed from 'error' to 'logloss'. Explicitly set eval_metric if you'd like to restore the old behavior.\n",
      "[15:38:56] WARNING: ..\\src\\learner.cc:1061: Starting in XGBoost 1.3.0, the default evaluation metric used with the objective 'binary:logistic' was changed from 'error' to 'logloss'. Explicitly set eval_metric if you'd like to restore the old behavior.\n",
      "[15:38:57] WARNING: ..\\src\\learner.cc:1061: Starting in XGBoost 1.3.0, the default evaluation metric used with the objective 'binary:logistic' was changed from 'error' to 'logloss'. Explicitly set eval_metric if you'd like to restore the old behavior.\n",
      "[15:38:58] WARNING: ..\\src\\learner.cc:1061: Starting in XGBoost 1.3.0, the default evaluation metric used with the objective 'binary:logistic' was changed from 'error' to 'logloss'. Explicitly set eval_metric if you'd like to restore the old behavior.\n",
      "[15:39:00] WARNING: ..\\src\\learner.cc:1061: Starting in XGBoost 1.3.0, the default evaluation metric used with the objective 'binary:logistic' was changed from 'error' to 'logloss'. Explicitly set eval_metric if you'd like to restore the old behavior.\n",
      "[15:39:01] WARNING: ..\\src\\learner.cc:1061: Starting in XGBoost 1.3.0, the default evaluation metric used with the objective 'binary:logistic' was changed from 'error' to 'logloss'. Explicitly set eval_metric if you'd like to restore the old behavior.\n",
      "[15:39:03] WARNING: ..\\src\\learner.cc:1061: Starting in XGBoost 1.3.0, the default evaluation metric used with the objective 'binary:logistic' was changed from 'error' to 'logloss'. Explicitly set eval_metric if you'd like to restore the old behavior.\n",
      "[15:39:04] WARNING: ..\\src\\learner.cc:1061: Starting in XGBoost 1.3.0, the default evaluation metric used with the objective 'binary:logistic' was changed from 'error' to 'logloss'. Explicitly set eval_metric if you'd like to restore the old behavior.\n",
      "[15:39:05] WARNING: ..\\src\\learner.cc:1061: Starting in XGBoost 1.3.0, the default evaluation metric used with the objective 'binary:logistic' was changed from 'error' to 'logloss'. Explicitly set eval_metric if you'd like to restore the old behavior.\n",
      "[15:39:06] WARNING: ..\\src\\learner.cc:1061: Starting in XGBoost 1.3.0, the default evaluation metric used with the objective 'binary:logistic' was changed from 'error' to 'logloss'. Explicitly set eval_metric if you'd like to restore the old behavior.\n",
      "[15:39:08] WARNING: ..\\src\\learner.cc:1061: Starting in XGBoost 1.3.0, the default evaluation metric used with the objective 'binary:logistic' was changed from 'error' to 'logloss'. Explicitly set eval_metric if you'd like to restore the old behavior.\n",
      "[15:39:09] WARNING: ..\\src\\learner.cc:1061: Starting in XGBoost 1.3.0, the default evaluation metric used with the objective 'binary:logistic' was changed from 'error' to 'logloss'. Explicitly set eval_metric if you'd like to restore the old behavior.\n",
      "[15:39:11] WARNING: ..\\src\\learner.cc:1061: Starting in XGBoost 1.3.0, the default evaluation metric used with the objective 'binary:logistic' was changed from 'error' to 'logloss'. Explicitly set eval_metric if you'd like to restore the old behavior.\n",
      "[15:39:13] WARNING: ..\\src\\learner.cc:1061: Starting in XGBoost 1.3.0, the default evaluation metric used with the objective 'binary:logistic' was changed from 'error' to 'logloss'. Explicitly set eval_metric if you'd like to restore the old behavior.\n",
      "[15:39:14] WARNING: ..\\src\\learner.cc:1061: Starting in XGBoost 1.3.0, the default evaluation metric used with the objective 'binary:logistic' was changed from 'error' to 'logloss'. Explicitly set eval_metric if you'd like to restore the old behavior.\n",
      "[15:39:16] WARNING: ..\\src\\learner.cc:1061: Starting in XGBoost 1.3.0, the default evaluation metric used with the objective 'binary:logistic' was changed from 'error' to 'logloss'. Explicitly set eval_metric if you'd like to restore the old behavior.\n",
      "[15:39:17] WARNING: ..\\src\\learner.cc:1061: Starting in XGBoost 1.3.0, the default evaluation metric used with the objective 'binary:logistic' was changed from 'error' to 'logloss'. Explicitly set eval_metric if you'd like to restore the old behavior.\n",
      "[15:39:18] WARNING: ..\\src\\learner.cc:1061: Starting in XGBoost 1.3.0, the default evaluation metric used with the objective 'binary:logistic' was changed from 'error' to 'logloss'. Explicitly set eval_metric if you'd like to restore the old behavior.\n",
      "[15:39:20] WARNING: ..\\src\\learner.cc:1061: Starting in XGBoost 1.3.0, the default evaluation metric used with the objective 'binary:logistic' was changed from 'error' to 'logloss'. Explicitly set eval_metric if you'd like to restore the old behavior.\n",
      "[15:39:22] WARNING: ..\\src\\learner.cc:1061: Starting in XGBoost 1.3.0, the default evaluation metric used with the objective 'binary:logistic' was changed from 'error' to 'logloss'. Explicitly set eval_metric if you'd like to restore the old behavior.\n"
     ]
    },
    {
     "name": "stdout",
     "output_type": "stream",
     "text": [
      "[15:39:23] WARNING: ..\\src\\learner.cc:1061: Starting in XGBoost 1.3.0, the default evaluation metric used with the objective 'binary:logistic' was changed from 'error' to 'logloss'. Explicitly set eval_metric if you'd like to restore the old behavior.\n",
      "[15:39:25] WARNING: ..\\src\\learner.cc:1061: Starting in XGBoost 1.3.0, the default evaluation metric used with the objective 'binary:logistic' was changed from 'error' to 'logloss'. Explicitly set eval_metric if you'd like to restore the old behavior.\n",
      "[15:39:27] WARNING: ..\\src\\learner.cc:1061: Starting in XGBoost 1.3.0, the default evaluation metric used with the objective 'binary:logistic' was changed from 'error' to 'logloss'. Explicitly set eval_metric if you'd like to restore the old behavior.\n",
      "[15:39:29] WARNING: ..\\src\\learner.cc:1061: Starting in XGBoost 1.3.0, the default evaluation metric used with the objective 'binary:logistic' was changed from 'error' to 'logloss'. Explicitly set eval_metric if you'd like to restore the old behavior.\n"
     ]
    },
    {
     "data": {
      "text/plain": [
       "GridSearchCV(cv=3,\n",
       "             estimator=Pipeline(steps=[('ohe_trans',\n",
       "                                        ColumnTransformer(remainder='passthrough',\n",
       "                                                          transformers=[('categorical',\n",
       "                                                                         Pipeline(steps=[('ohe',\n",
       "                                                                                          OneHotEncoder(handle_unknown='ignore'))]),\n",
       "                                                                         Index(['basin', 'scheme_management', 'permit', 'extraction_type', 'management',\n",
       "       'payment', 'water_quality', 'quality_group', 'quantity', 'source',\n",
       "       'source_class', 'wate...\n",
       "                                                      min_child_weight=None,\n",
       "                                                      missing=nan,\n",
       "                                                      monotone_constraints=None,\n",
       "                                                      n_estimators=100,\n",
       "                                                      n_jobs=None,\n",
       "                                                      num_parallel_tree=None,\n",
       "                                                      random_state=42,\n",
       "                                                      reg_alpha=None,\n",
       "                                                      reg_lambda=None,\n",
       "                                                      scale_pos_weight=None,\n",
       "                                                      subsample=None,\n",
       "                                                      tree_method=None,\n",
       "                                                      validate_parameters=None,\n",
       "                                                      verbosity=None))]),\n",
       "             param_grid={'model__max_depth': [1, 3, 4, 5],\n",
       "                         'model__n_estimators': [50, 75, 100]},\n",
       "             return_train_score=True)"
      ]
     },
     "execution_count": 38,
     "metadata": {},
     "output_type": "execute_result"
    }
   ],
   "source": [
    "# Create grid search to find the best  \n",
    "xgb_grid = {'model__n_estimators':[50,75,100],\n",
    "            'model__max_depth':[1,3,4,5]}\n",
    "\n",
    "xgb_gs = GridSearchCV(estimator=xgb_pipeline, param_grid=xgb_grid, cv=3, return_train_score=True)\n",
    "\n",
    "# Fit the training data to the grid search\n",
    "xgb_gs.fit(X_train, y_train)"
   ]
  },
  {
   "cell_type": "code",
   "execution_count": 39,
   "id": "f05ba8b9",
   "metadata": {},
   "outputs": [
    {
     "data": {
      "text/plain": [
       "{'model__max_depth': 5, 'model__n_estimators': 100}"
      ]
     },
     "execution_count": 39,
     "metadata": {},
     "output_type": "execute_result"
    }
   ],
   "source": [
    "# Get the best parameter from grid search\n",
    "xgb_gs.best_params_"
   ]
  },
  {
   "cell_type": "code",
   "execution_count": 40,
   "id": "3bbc1242",
   "metadata": {},
   "outputs": [
    {
     "name": "stdout",
     "output_type": "stream",
     "text": [
      "Mean Train Score: 0.8267433595211373\n",
      "Mean Test Score: 0.813791619902731\n"
     ]
    }
   ],
   "source": [
    "print('Mean Train Score: {}'.format(xgb_gs.cv_results_['mean_train_score'].mean()))\n",
    "print('Mean Test Score: {}'.format(xgb_gs.cv_results_['mean_test_score'].mean()))"
   ]
  },
  {
   "cell_type": "markdown",
   "id": "855165fb",
   "metadata": {},
   "source": [
    "Our XGBoost model got ~81% accurate results. Looking at the train and test scores, the variance is low. Our bias is lower than the dummy, logistic, knn, and forest model."
   ]
  },
  {
   "cell_type": "markdown",
   "id": "7e53d7e2",
   "metadata": {},
   "source": [
    "With this model, we want to try to get a better score."
   ]
  },
  {
   "cell_type": "markdown",
   "id": "7cb6defd",
   "metadata": {},
   "source": [
    "#### Tweaking the hyperparameters"
   ]
  },
  {
   "cell_type": "markdown",
   "id": "6c8ed65d",
   "metadata": {},
   "source": [
    "To get better score, we are going to make changes to the hyperparameters."
   ]
  },
  {
   "cell_type": "code",
   "execution_count": 41,
   "id": "7a2041aa",
   "metadata": {},
   "outputs": [
    {
     "name": "stdout",
     "output_type": "stream",
     "text": [
      "[15:39:32] WARNING: ..\\src\\learner.cc:1061: Starting in XGBoost 1.3.0, the default evaluation metric used with the objective 'binary:logistic' was changed from 'error' to 'logloss'. Explicitly set eval_metric if you'd like to restore the old behavior.\n",
      "[15:39:34] WARNING: ..\\src\\learner.cc:1061: Starting in XGBoost 1.3.0, the default evaluation metric used with the objective 'binary:logistic' was changed from 'error' to 'logloss'. Explicitly set eval_metric if you'd like to restore the old behavior.\n",
      "[15:39:36] WARNING: ..\\src\\learner.cc:1061: Starting in XGBoost 1.3.0, the default evaluation metric used with the objective 'binary:logistic' was changed from 'error' to 'logloss'. Explicitly set eval_metric if you'd like to restore the old behavior.\n",
      "[15:39:38] WARNING: ..\\src\\learner.cc:1061: Starting in XGBoost 1.3.0, the default evaluation metric used with the objective 'binary:logistic' was changed from 'error' to 'logloss'. Explicitly set eval_metric if you'd like to restore the old behavior.\n",
      "[15:39:41] WARNING: ..\\src\\learner.cc:1061: Starting in XGBoost 1.3.0, the default evaluation metric used with the objective 'binary:logistic' was changed from 'error' to 'logloss'. Explicitly set eval_metric if you'd like to restore the old behavior.\n",
      "[15:39:44] WARNING: ..\\src\\learner.cc:1061: Starting in XGBoost 1.3.0, the default evaluation metric used with the objective 'binary:logistic' was changed from 'error' to 'logloss'. Explicitly set eval_metric if you'd like to restore the old behavior.\n",
      "[15:39:47] WARNING: ..\\src\\learner.cc:1061: Starting in XGBoost 1.3.0, the default evaluation metric used with the objective 'binary:logistic' was changed from 'error' to 'logloss'. Explicitly set eval_metric if you'd like to restore the old behavior.\n",
      "[15:39:50] WARNING: ..\\src\\learner.cc:1061: Starting in XGBoost 1.3.0, the default evaluation metric used with the objective 'binary:logistic' was changed from 'error' to 'logloss'. Explicitly set eval_metric if you'd like to restore the old behavior.\n",
      "[15:39:53] WARNING: ..\\src\\learner.cc:1061: Starting in XGBoost 1.3.0, the default evaluation metric used with the objective 'binary:logistic' was changed from 'error' to 'logloss'. Explicitly set eval_metric if you'd like to restore the old behavior.\n",
      "[15:39:56] WARNING: ..\\src\\learner.cc:1061: Starting in XGBoost 1.3.0, the default evaluation metric used with the objective 'binary:logistic' was changed from 'error' to 'logloss'. Explicitly set eval_metric if you'd like to restore the old behavior.\n",
      "[15:39:59] WARNING: ..\\src\\learner.cc:1061: Starting in XGBoost 1.3.0, the default evaluation metric used with the objective 'binary:logistic' was changed from 'error' to 'logloss'. Explicitly set eval_metric if you'd like to restore the old behavior.\n",
      "[15:40:02] WARNING: ..\\src\\learner.cc:1061: Starting in XGBoost 1.3.0, the default evaluation metric used with the objective 'binary:logistic' was changed from 'error' to 'logloss'. Explicitly set eval_metric if you'd like to restore the old behavior.\n",
      "[15:40:05] WARNING: ..\\src\\learner.cc:1061: Starting in XGBoost 1.3.0, the default evaluation metric used with the objective 'binary:logistic' was changed from 'error' to 'logloss'. Explicitly set eval_metric if you'd like to restore the old behavior.\n",
      "[15:40:08] WARNING: ..\\src\\learner.cc:1061: Starting in XGBoost 1.3.0, the default evaluation metric used with the objective 'binary:logistic' was changed from 'error' to 'logloss'. Explicitly set eval_metric if you'd like to restore the old behavior.\n",
      "[15:40:11] WARNING: ..\\src\\learner.cc:1061: Starting in XGBoost 1.3.0, the default evaluation metric used with the objective 'binary:logistic' was changed from 'error' to 'logloss'. Explicitly set eval_metric if you'd like to restore the old behavior.\n",
      "[15:40:13] WARNING: ..\\src\\learner.cc:1061: Starting in XGBoost 1.3.0, the default evaluation metric used with the objective 'binary:logistic' was changed from 'error' to 'logloss'. Explicitly set eval_metric if you'd like to restore the old behavior.\n",
      "[15:40:17] WARNING: ..\\src\\learner.cc:1061: Starting in XGBoost 1.3.0, the default evaluation metric used with the objective 'binary:logistic' was changed from 'error' to 'logloss'. Explicitly set eval_metric if you'd like to restore the old behavior.\n",
      "[15:40:20] WARNING: ..\\src\\learner.cc:1061: Starting in XGBoost 1.3.0, the default evaluation metric used with the objective 'binary:logistic' was changed from 'error' to 'logloss'. Explicitly set eval_metric if you'd like to restore the old behavior.\n",
      "[15:40:23] WARNING: ..\\src\\learner.cc:1061: Starting in XGBoost 1.3.0, the default evaluation metric used with the objective 'binary:logistic' was changed from 'error' to 'logloss'. Explicitly set eval_metric if you'd like to restore the old behavior.\n",
      "[15:40:27] WARNING: ..\\src\\learner.cc:1061: Starting in XGBoost 1.3.0, the default evaluation metric used with the objective 'binary:logistic' was changed from 'error' to 'logloss'. Explicitly set eval_metric if you'd like to restore the old behavior.\n",
      "[15:40:31] WARNING: ..\\src\\learner.cc:1061: Starting in XGBoost 1.3.0, the default evaluation metric used with the objective 'binary:logistic' was changed from 'error' to 'logloss'. Explicitly set eval_metric if you'd like to restore the old behavior.\n",
      "[15:40:34] WARNING: ..\\src\\learner.cc:1061: Starting in XGBoost 1.3.0, the default evaluation metric used with the objective 'binary:logistic' was changed from 'error' to 'logloss'. Explicitly set eval_metric if you'd like to restore the old behavior.\n",
      "[15:40:38] WARNING: ..\\src\\learner.cc:1061: Starting in XGBoost 1.3.0, the default evaluation metric used with the objective 'binary:logistic' was changed from 'error' to 'logloss'. Explicitly set eval_metric if you'd like to restore the old behavior.\n",
      "[15:40:42] WARNING: ..\\src\\learner.cc:1061: Starting in XGBoost 1.3.0, the default evaluation metric used with the objective 'binary:logistic' was changed from 'error' to 'logloss'. Explicitly set eval_metric if you'd like to restore the old behavior.\n",
      "[15:40:46] WARNING: ..\\src\\learner.cc:1061: Starting in XGBoost 1.3.0, the default evaluation metric used with the objective 'binary:logistic' was changed from 'error' to 'logloss'. Explicitly set eval_metric if you'd like to restore the old behavior.\n",
      "[15:40:49] WARNING: ..\\src\\learner.cc:1061: Starting in XGBoost 1.3.0, the default evaluation metric used with the objective 'binary:logistic' was changed from 'error' to 'logloss'. Explicitly set eval_metric if you'd like to restore the old behavior.\n",
      "[15:40:52] WARNING: ..\\src\\learner.cc:1061: Starting in XGBoost 1.3.0, the default evaluation metric used with the objective 'binary:logistic' was changed from 'error' to 'logloss'. Explicitly set eval_metric if you'd like to restore the old behavior.\n",
      "[15:40:55] WARNING: ..\\src\\learner.cc:1061: Starting in XGBoost 1.3.0, the default evaluation metric used with the objective 'binary:logistic' was changed from 'error' to 'logloss'. Explicitly set eval_metric if you'd like to restore the old behavior.\n",
      "[15:40:59] WARNING: ..\\src\\learner.cc:1061: Starting in XGBoost 1.3.0, the default evaluation metric used with the objective 'binary:logistic' was changed from 'error' to 'logloss'. Explicitly set eval_metric if you'd like to restore the old behavior.\n",
      "[15:41:02] WARNING: ..\\src\\learner.cc:1061: Starting in XGBoost 1.3.0, the default evaluation metric used with the objective 'binary:logistic' was changed from 'error' to 'logloss'. Explicitly set eval_metric if you'd like to restore the old behavior.\n",
      "[15:41:06] WARNING: ..\\src\\learner.cc:1061: Starting in XGBoost 1.3.0, the default evaluation metric used with the objective 'binary:logistic' was changed from 'error' to 'logloss'. Explicitly set eval_metric if you'd like to restore the old behavior.\n",
      "[15:41:11] WARNING: ..\\src\\learner.cc:1061: Starting in XGBoost 1.3.0, the default evaluation metric used with the objective 'binary:logistic' was changed from 'error' to 'logloss'. Explicitly set eval_metric if you'd like to restore the old behavior.\n",
      "[15:41:15] WARNING: ..\\src\\learner.cc:1061: Starting in XGBoost 1.3.0, the default evaluation metric used with the objective 'binary:logistic' was changed from 'error' to 'logloss'. Explicitly set eval_metric if you'd like to restore the old behavior.\n"
     ]
    },
    {
     "name": "stdout",
     "output_type": "stream",
     "text": [
      "[15:41:19] WARNING: ..\\src\\learner.cc:1061: Starting in XGBoost 1.3.0, the default evaluation metric used with the objective 'binary:logistic' was changed from 'error' to 'logloss'. Explicitly set eval_metric if you'd like to restore the old behavior.\n",
      "[15:41:23] WARNING: ..\\src\\learner.cc:1061: Starting in XGBoost 1.3.0, the default evaluation metric used with the objective 'binary:logistic' was changed from 'error' to 'logloss'. Explicitly set eval_metric if you'd like to restore the old behavior.\n",
      "[15:41:28] WARNING: ..\\src\\learner.cc:1061: Starting in XGBoost 1.3.0, the default evaluation metric used with the objective 'binary:logistic' was changed from 'error' to 'logloss'. Explicitly set eval_metric if you'd like to restore the old behavior.\n",
      "[15:41:32] WARNING: ..\\src\\learner.cc:1061: Starting in XGBoost 1.3.0, the default evaluation metric used with the objective 'binary:logistic' was changed from 'error' to 'logloss'. Explicitly set eval_metric if you'd like to restore the old behavior.\n",
      "[15:41:36] WARNING: ..\\src\\learner.cc:1061: Starting in XGBoost 1.3.0, the default evaluation metric used with the objective 'binary:logistic' was changed from 'error' to 'logloss'. Explicitly set eval_metric if you'd like to restore the old behavior.\n",
      "[15:41:39] WARNING: ..\\src\\learner.cc:1061: Starting in XGBoost 1.3.0, the default evaluation metric used with the objective 'binary:logistic' was changed from 'error' to 'logloss'. Explicitly set eval_metric if you'd like to restore the old behavior.\n",
      "[15:41:43] WARNING: ..\\src\\learner.cc:1061: Starting in XGBoost 1.3.0, the default evaluation metric used with the objective 'binary:logistic' was changed from 'error' to 'logloss'. Explicitly set eval_metric if you'd like to restore the old behavior.\n",
      "[15:41:47] WARNING: ..\\src\\learner.cc:1061: Starting in XGBoost 1.3.0, the default evaluation metric used with the objective 'binary:logistic' was changed from 'error' to 'logloss'. Explicitly set eval_metric if you'd like to restore the old behavior.\n",
      "[15:41:51] WARNING: ..\\src\\learner.cc:1061: Starting in XGBoost 1.3.0, the default evaluation metric used with the objective 'binary:logistic' was changed from 'error' to 'logloss'. Explicitly set eval_metric if you'd like to restore the old behavior.\n",
      "[15:41:56] WARNING: ..\\src\\learner.cc:1061: Starting in XGBoost 1.3.0, the default evaluation metric used with the objective 'binary:logistic' was changed from 'error' to 'logloss'. Explicitly set eval_metric if you'd like to restore the old behavior.\n",
      "[15:42:00] WARNING: ..\\src\\learner.cc:1061: Starting in XGBoost 1.3.0, the default evaluation metric used with the objective 'binary:logistic' was changed from 'error' to 'logloss'. Explicitly set eval_metric if you'd like to restore the old behavior.\n",
      "[15:42:05] WARNING: ..\\src\\learner.cc:1061: Starting in XGBoost 1.3.0, the default evaluation metric used with the objective 'binary:logistic' was changed from 'error' to 'logloss'. Explicitly set eval_metric if you'd like to restore the old behavior.\n",
      "[15:42:10] WARNING: ..\\src\\learner.cc:1061: Starting in XGBoost 1.3.0, the default evaluation metric used with the objective 'binary:logistic' was changed from 'error' to 'logloss'. Explicitly set eval_metric if you'd like to restore the old behavior.\n",
      "[15:42:15] WARNING: ..\\src\\learner.cc:1061: Starting in XGBoost 1.3.0, the default evaluation metric used with the objective 'binary:logistic' was changed from 'error' to 'logloss'. Explicitly set eval_metric if you'd like to restore the old behavior.\n",
      "[15:42:20] WARNING: ..\\src\\learner.cc:1061: Starting in XGBoost 1.3.0, the default evaluation metric used with the objective 'binary:logistic' was changed from 'error' to 'logloss'. Explicitly set eval_metric if you'd like to restore the old behavior.\n",
      "[15:42:25] WARNING: ..\\src\\learner.cc:1061: Starting in XGBoost 1.3.0, the default evaluation metric used with the objective 'binary:logistic' was changed from 'error' to 'logloss'. Explicitly set eval_metric if you'd like to restore the old behavior.\n"
     ]
    },
    {
     "data": {
      "text/plain": [
       "GridSearchCV(cv=3,\n",
       "             estimator=Pipeline(steps=[('ohe_trans',\n",
       "                                        ColumnTransformer(remainder='passthrough',\n",
       "                                                          transformers=[('categorical',\n",
       "                                                                         Pipeline(steps=[('ohe',\n",
       "                                                                                          OneHotEncoder(handle_unknown='ignore'))]),\n",
       "                                                                         Index(['basin', 'scheme_management', 'permit', 'extraction_type', 'management',\n",
       "       'payment', 'water_quality', 'quality_group', 'quantity', 'source',\n",
       "       'source_class', 'wate...\n",
       "                                                      min_child_weight=None,\n",
       "                                                      missing=nan,\n",
       "                                                      monotone_constraints=None,\n",
       "                                                      n_estimators=100,\n",
       "                                                      n_jobs=None,\n",
       "                                                      num_parallel_tree=None,\n",
       "                                                      random_state=42,\n",
       "                                                      reg_alpha=None,\n",
       "                                                      reg_lambda=None,\n",
       "                                                      scale_pos_weight=None,\n",
       "                                                      subsample=None,\n",
       "                                                      tree_method=None,\n",
       "                                                      validate_parameters=None,\n",
       "                                                      verbosity=None))]),\n",
       "             param_grid={'model__max_depth': [4, 5, 6, 7],\n",
       "                         'model__n_estimators': [150, 200, 225, 240]},\n",
       "             return_train_score=True)"
      ]
     },
     "execution_count": 41,
     "metadata": {},
     "output_type": "execute_result"
    }
   ],
   "source": [
    "xgb_grid2 = {'model__n_estimators':[150,200,225,240],\n",
    "            'model__max_depth':[4,5,6,7]}\n",
    "\n",
    "xgb_gs2 = GridSearchCV(estimator=xgb_pipeline, param_grid=xgb_grid2, cv=3, return_train_score=True)\n",
    "\n",
    "xgb_gs2.fit(X_train, y_train)"
   ]
  },
  {
   "cell_type": "code",
   "execution_count": 42,
   "id": "d7a3440e",
   "metadata": {},
   "outputs": [
    {
     "data": {
      "text/plain": [
       "{'model__max_depth': 7, 'model__n_estimators': 200}"
      ]
     },
     "execution_count": 42,
     "metadata": {},
     "output_type": "execute_result"
    }
   ],
   "source": [
    "xgb_gs2.best_params_"
   ]
  },
  {
   "cell_type": "code",
   "execution_count": 43,
   "id": "8cfb959e",
   "metadata": {},
   "outputs": [
    {
     "name": "stdout",
     "output_type": "stream",
     "text": [
      "Mean Train Score: 0.9067957351290685\n",
      "Mean Test Score: 0.842864758698092\n"
     ]
    }
   ],
   "source": [
    "print('Mean Train Score: {}'.format(xgb_gs2.cv_results_['mean_train_score'].mean()))\n",
    "print('Mean Test Score: {}'.format(xgb_gs2.cv_results_['mean_test_score'].mean()))"
   ]
  },
  {
   "cell_type": "markdown",
   "id": "9b1831d9",
   "metadata": {},
   "source": [
    "The second XGBoost model with changed hyperparameters got ~84% accurate results. Looking at the train and test scores, the variance is higher than other models but the bias is lower than all the other models."
   ]
  },
  {
   "cell_type": "code",
   "execution_count": 44,
   "id": "b1fbd047",
   "metadata": {},
   "outputs": [
    {
     "name": "stdout",
     "output_type": "stream",
     "text": [
      "[15:42:31] WARNING: ..\\src\\learner.cc:1061: Starting in XGBoost 1.3.0, the default evaluation metric used with the objective 'binary:logistic' was changed from 'error' to 'logloss'. Explicitly set eval_metric if you'd like to restore the old behavior.\n",
      "[15:42:33] WARNING: ..\\src\\learner.cc:1061: Starting in XGBoost 1.3.0, the default evaluation metric used with the objective 'binary:logistic' was changed from 'error' to 'logloss'. Explicitly set eval_metric if you'd like to restore the old behavior.\n",
      "[15:42:35] WARNING: ..\\src\\learner.cc:1061: Starting in XGBoost 1.3.0, the default evaluation metric used with the objective 'binary:logistic' was changed from 'error' to 'logloss'. Explicitly set eval_metric if you'd like to restore the old behavior.\n",
      "[15:42:37] WARNING: ..\\src\\learner.cc:1061: Starting in XGBoost 1.3.0, the default evaluation metric used with the objective 'binary:logistic' was changed from 'error' to 'logloss'. Explicitly set eval_metric if you'd like to restore the old behavior.\n",
      "[15:42:39] WARNING: ..\\src\\learner.cc:1061: Starting in XGBoost 1.3.0, the default evaluation metric used with the objective 'binary:logistic' was changed from 'error' to 'logloss'. Explicitly set eval_metric if you'd like to restore the old behavior.\n"
     ]
    },
    {
     "data": {
      "text/plain": [
       "array([[25481,  1951],\n",
       "       [ 5216, 11902]], dtype=int64)"
      ]
     },
     "execution_count": 44,
     "metadata": {},
     "output_type": "execute_result"
    }
   ],
   "source": [
    "xgb_y_pred = cross_val_predict(xgb_gs.best_estimator_, X_train, y_train)\n",
    "\n",
    "confusion_matrix(y_train, xgb_y_pred)"
   ]
  },
  {
   "cell_type": "markdown",
   "id": "afe5b5cf",
   "metadata": {},
   "source": [
    "The XGBoost model predicts 37,383 water pumps correctly. The model also predicts 5,216 water pumps as non-functional when they are functional and it preditcs 1,951 water pumps as functional when they are non-functional."
   ]
  },
  {
   "cell_type": "markdown",
   "id": "b1e4af6c",
   "metadata": {},
   "source": [
    "## Best Model - XGBoost"
   ]
  },
  {
   "cell_type": "markdown",
   "id": "2f5a9272",
   "metadata": {},
   "source": [
    "Our last XGBoost gave the best test score with hyperparameters of 'model__max_depth': 7, 'model__n_estimators': 200. So we will check to see how the XGBoost model predicts on our testing data."
   ]
  },
  {
   "cell_type": "code",
   "execution_count": 45,
   "id": "e5f94292",
   "metadata": {},
   "outputs": [
    {
     "name": "stdout",
     "output_type": "stream",
     "text": [
      "[15:42:41] WARNING: ..\\src\\learner.cc:1061: Starting in XGBoost 1.3.0, the default evaluation metric used with the objective 'binary:logistic' was changed from 'error' to 'logloss'. Explicitly set eval_metric if you'd like to restore the old behavior.\n"
     ]
    }
   ],
   "source": [
    "best_model = xgb_gs.best_estimator_.fit(X_train, y_train)"
   ]
  },
  {
   "cell_type": "code",
   "execution_count": 46,
   "id": "ba507ead",
   "metadata": {},
   "outputs": [],
   "source": [
    "# Make our target binary, create age column, and drop year_recorded and construction_year\n",
    "y_test = y_test.map({'functional' : 0, 'non functional' : 1, 'functional needs repair' : 0})\n",
    "median_year_with_no_zero = X_test[X_test['construction_year'] > 0]['construction_year'].median()\n",
    "X_test.loc[(X_test['construction_year'] == 0),'construction_year'] = median_year_with_no_zero\n",
    "X_test.loc[(X_test['construction_year'] > X_test['recorded_year']),'construction_year'] = median_year_with_no_zero\n",
    "X_test['age'] = X_test['recorded_year'] - X_test['construction_year']\n",
    "X_test.drop(['recorded_year', 'construction_year'], axis=1, inplace=True)"
   ]
  },
  {
   "cell_type": "code",
   "execution_count": 47,
   "id": "a67aceb2",
   "metadata": {},
   "outputs": [
    {
     "data": {
      "text/plain": [
       "0.8581144781144782"
      ]
     },
     "execution_count": 47,
     "metadata": {},
     "output_type": "execute_result"
    }
   ],
   "source": [
    "# Get accuracy score for the best model\n",
    "xgb_gs2.score(X_test, y_test)"
   ]
  },
  {
   "cell_type": "markdown",
   "id": "e2b38d94",
   "metadata": {},
   "source": [
    "The best model's accuracy score is ~85.8%."
   ]
  },
  {
   "cell_type": "code",
   "execution_count": 48,
   "id": "a15b54b7",
   "metadata": {},
   "outputs": [
    {
     "data": {
      "text/plain": [
       "<sklearn.metrics._plot.confusion_matrix.ConfusionMatrixDisplay at 0x232f8538040>"
      ]
     },
     "execution_count": 48,
     "metadata": {},
     "output_type": "execute_result"
    },
    {
     "data": {
      "image/png": "[encoded data removed]",
      "text/plain": [
       "<Figure size 432x288 with 2 Axes>"
      ]
     },
     "metadata": {
      "needs_background": "light"
     },
     "output_type": "display_data"
    }
   ],
   "source": [
    "plot_confusion_matrix(xgb_gs2, X_test, y_test)"
   ]
  },
  {
   "cell_type": "markdown",
   "id": "b74b46f5",
   "metadata": {},
   "source": [
    "The XGBoost model predicts 12,743 water pumps in the testing data correctly. The model also predicts 1,458 water pumps as non-functional when they are functional and it preditcs 649 water pumps as functional when they are non-functional."
   ]
  },
  {
   "cell_type": "markdown",
   "id": "3e08f68a",
   "metadata": {},
   "source": [
    "#### Feature Importance"
   ]
  },
  {
   "cell_type": "markdown",
   "id": "49bf3db0",
   "metadata": {},
   "source": [
    "With the best model, we want to check which features were most impactful."
   ]
  },
  {
   "cell_type": "code",
   "execution_count": 78,
   "id": "f3497fbf",
   "metadata": {},
   "outputs": [],
   "source": [
    "# Get column names including onehotencoded columns\n",
    "ohe_col_names = list(best_model.named_steps['ohe_trans'].transformers_[0][1][0].get_feature_names(categorical_cols.columns))\n",
    "\n",
    "# Combine onehotencoded columsn with numeric columns\n",
    "col_names = ohe_col_names + list(numerical_cols.columns)"
   ]
  },
  {
   "cell_type": "code",
   "execution_count": 79,
   "id": "22912b38",
   "metadata": {},
   "outputs": [
    {
     "data": {
      "text/plain": [
       "['basin_Internal',\n",
       " 'basin_Lake Nyasa',\n",
       " 'basin_Lake Rukwa',\n",
       " 'basin_Lake Tanganyika',\n",
       " 'basin_Lake Victoria',\n",
       " 'basin_Pangani',\n",
       " 'basin_Rufiji',\n",
       " 'basin_Ruvuma / Southern Coast',\n",
       " 'basin_Wami / Ruvu',\n",
       " 'scheme_management_Company',\n",
       " 'scheme_management_None',\n",
       " 'scheme_management_Other',\n",
       " 'scheme_management_Parastatal',\n",
       " 'scheme_management_Private operator',\n",
       " 'scheme_management_SWC',\n",
       " 'scheme_management_Trust',\n",
       " 'scheme_management_Unknown',\n",
       " 'scheme_management_VWC',\n",
       " 'scheme_management_WUA',\n",
       " 'scheme_management_WUG',\n",
       " 'scheme_management_Water Board',\n",
       " 'scheme_management_Water authority',\n",
       " 'permit_False',\n",
       " 'permit_True',\n",
       " 'permit_Unknown',\n",
       " 'extraction_type_afridev',\n",
       " 'extraction_type_cemo',\n",
       " 'extraction_type_climax',\n",
       " 'extraction_type_gravity',\n",
       " 'extraction_type_india mark ii',\n",
       " 'extraction_type_india mark iii',\n",
       " 'extraction_type_ksb',\n",
       " 'extraction_type_mono',\n",
       " 'extraction_type_nira/tanira',\n",
       " 'extraction_type_other',\n",
       " 'extraction_type_other - mkulima/shinyanga',\n",
       " 'extraction_type_other - play pump',\n",
       " 'extraction_type_other - rope pump',\n",
       " 'extraction_type_other - swn 81',\n",
       " 'extraction_type_submersible',\n",
       " 'extraction_type_swn 80',\n",
       " 'extraction_type_walimi',\n",
       " 'extraction_type_windmill',\n",
       " 'management_company',\n",
       " 'management_other',\n",
       " 'management_other - school',\n",
       " 'management_parastatal',\n",
       " 'management_private operator',\n",
       " 'management_trust',\n",
       " 'management_unknown',\n",
       " 'management_vwc',\n",
       " 'management_water authority',\n",
       " 'management_water board',\n",
       " 'management_wua',\n",
       " 'management_wug',\n",
       " 'payment_never pay',\n",
       " 'payment_other',\n",
       " 'payment_pay annually',\n",
       " 'payment_pay monthly',\n",
       " 'payment_pay per bucket',\n",
       " 'payment_pay when scheme fails',\n",
       " 'payment_unknown',\n",
       " 'water_quality_coloured',\n",
       " 'water_quality_fluoride',\n",
       " 'water_quality_fluoride abandoned',\n",
       " 'water_quality_milky',\n",
       " 'water_quality_salty',\n",
       " 'water_quality_salty abandoned',\n",
       " 'water_quality_soft',\n",
       " 'water_quality_unknown',\n",
       " 'quality_group_colored',\n",
       " 'quality_group_fluoride',\n",
       " 'quality_group_good',\n",
       " 'quality_group_milky',\n",
       " 'quality_group_salty',\n",
       " 'quality_group_unknown',\n",
       " 'quantity_dry',\n",
       " 'quantity_enough',\n",
       " 'quantity_insufficient',\n",
       " 'quantity_seasonal',\n",
       " 'quantity_unknown',\n",
       " 'source_dam',\n",
       " 'source_hand dtw',\n",
       " 'source_lake',\n",
       " 'source_machine dbh',\n",
       " 'source_other',\n",
       " 'source_rainwater harvesting',\n",
       " 'source_river',\n",
       " 'source_shallow well',\n",
       " 'source_spring',\n",
       " 'source_unknown',\n",
       " 'source_class_groundwater',\n",
       " 'source_class_surface',\n",
       " 'source_class_unknown',\n",
       " 'waterpoint_type_cattle trough',\n",
       " 'waterpoint_type_communal standpipe',\n",
       " 'waterpoint_type_communal standpipe multiple',\n",
       " 'waterpoint_type_dam',\n",
       " 'waterpoint_type_hand pump',\n",
       " 'waterpoint_type_improved spring',\n",
       " 'waterpoint_type_other',\n",
       " 'amount_tsh',\n",
       " 'gps_height',\n",
       " 'longitude',\n",
       " 'latitude',\n",
       " 'region_code',\n",
       " 'district_code',\n",
       " 'population',\n",
       " 'age']"
      ]
     },
     "execution_count": 79,
     "metadata": {},
     "output_type": "execute_result"
    }
   ],
   "source": [
    "col_names"
   ]
  },
  {
   "cell_type": "code",
   "execution_count": 80,
   "id": "42ae1607",
   "metadata": {},
   "outputs": [
    {
     "data": {
      "text/html": [
       "<div>\n",
       "<style scoped>\n",
       "    .dataframe tbody tr th:only-of-type {\n",
       "        vertical-align: middle;\n",
       "    }\n",
       "\n",
       "    .dataframe tbody tr th {\n",
       "        vertical-align: top;\n",
       "    }\n",
       "\n",
       "    .dataframe thead th {\n",
       "        text-align: right;\n",
       "    }\n",
       "</style>\n",
       "<table border=\"1\" class=\"dataframe\">\n",
       "  <thead>\n",
       "    <tr style=\"text-align: right;\">\n",
       "      <th></th>\n",
       "      <th>Features</th>\n",
       "      <th>Importances</th>\n",
       "    </tr>\n",
       "  </thead>\n",
       "  <tbody>\n",
       "    <tr>\n",
       "      <th>0</th>\n",
       "      <td>basin_Internal</td>\n",
       "      <td>0.005857</td>\n",
       "    </tr>\n",
       "    <tr>\n",
       "      <th>1</th>\n",
       "      <td>basin_Lake Nyasa</td>\n",
       "      <td>0.027230</td>\n",
       "    </tr>\n",
       "    <tr>\n",
       "      <th>2</th>\n",
       "      <td>basin_Lake Rukwa</td>\n",
       "      <td>0.015046</td>\n",
       "    </tr>\n",
       "    <tr>\n",
       "      <th>3</th>\n",
       "      <td>basin_Lake Tanganyika</td>\n",
       "      <td>0.001596</td>\n",
       "    </tr>\n",
       "    <tr>\n",
       "      <th>4</th>\n",
       "      <td>basin_Lake Victoria</td>\n",
       "      <td>0.006839</td>\n",
       "    </tr>\n",
       "    <tr>\n",
       "      <th>...</th>\n",
       "      <td>...</td>\n",
       "      <td>...</td>\n",
       "    </tr>\n",
       "    <tr>\n",
       "      <th>104</th>\n",
       "      <td>latitude</td>\n",
       "      <td>0.003882</td>\n",
       "    </tr>\n",
       "    <tr>\n",
       "      <th>105</th>\n",
       "      <td>region_code</td>\n",
       "      <td>0.008161</td>\n",
       "    </tr>\n",
       "    <tr>\n",
       "      <th>106</th>\n",
       "      <td>district_code</td>\n",
       "      <td>0.004475</td>\n",
       "    </tr>\n",
       "    <tr>\n",
       "      <th>107</th>\n",
       "      <td>population</td>\n",
       "      <td>0.003642</td>\n",
       "    </tr>\n",
       "    <tr>\n",
       "      <th>108</th>\n",
       "      <td>age</td>\n",
       "      <td>0.008122</td>\n",
       "    </tr>\n",
       "  </tbody>\n",
       "</table>\n",
       "<p>109 rows × 2 columns</p>\n",
       "</div>"
      ],
      "text/plain": [
       "                  Features  Importances\n",
       "0           basin_Internal     0.005857\n",
       "1         basin_Lake Nyasa     0.027230\n",
       "2         basin_Lake Rukwa     0.015046\n",
       "3    basin_Lake Tanganyika     0.001596\n",
       "4      basin_Lake Victoria     0.006839\n",
       "..                     ...          ...\n",
       "104               latitude     0.003882\n",
       "105            region_code     0.008161\n",
       "106          district_code     0.004475\n",
       "107             population     0.003642\n",
       "108                    age     0.008122\n",
       "\n",
       "[109 rows x 2 columns]"
      ]
     },
     "execution_count": 80,
     "metadata": {},
     "output_type": "execute_result"
    }
   ],
   "source": [
    "# Create a dataframe with the feature names and the importance of each feature for a better look\n",
    "feature_importance_df = pd.DataFrame({'Features' : col_names, 'Importances' : best_model[1].feature_importances_})\n",
    "feature_importance_df"
   ]
  },
  {
   "cell_type": "code",
   "execution_count": 81,
   "id": "9a139f04",
   "metadata": {},
   "outputs": [
    {
     "data": {
      "text/html": [
       "<div>\n",
       "<style scoped>\n",
       "    .dataframe tbody tr th:only-of-type {\n",
       "        vertical-align: middle;\n",
       "    }\n",
       "\n",
       "    .dataframe tbody tr th {\n",
       "        vertical-align: top;\n",
       "    }\n",
       "\n",
       "    .dataframe thead th {\n",
       "        text-align: right;\n",
       "    }\n",
       "</style>\n",
       "<table border=\"1\" class=\"dataframe\">\n",
       "  <thead>\n",
       "    <tr style=\"text-align: right;\">\n",
       "      <th></th>\n",
       "      <th>Features</th>\n",
       "      <th>Importances</th>\n",
       "    </tr>\n",
       "  </thead>\n",
       "  <tbody>\n",
       "    <tr>\n",
       "      <th>76</th>\n",
       "      <td>quantity_dry</td>\n",
       "      <td>0.194003</td>\n",
       "    </tr>\n",
       "    <tr>\n",
       "      <th>100</th>\n",
       "      <td>waterpoint_type_other</td>\n",
       "      <td>0.146969</td>\n",
       "    </tr>\n",
       "    <tr>\n",
       "      <th>34</th>\n",
       "      <td>extraction_type_other</td>\n",
       "      <td>0.040608</td>\n",
       "    </tr>\n",
       "    <tr>\n",
       "      <th>96</th>\n",
       "      <td>waterpoint_type_communal standpipe multiple</td>\n",
       "      <td>0.031571</td>\n",
       "    </tr>\n",
       "    <tr>\n",
       "      <th>43</th>\n",
       "      <td>management_company</td>\n",
       "      <td>0.028345</td>\n",
       "    </tr>\n",
       "    <tr>\n",
       "      <th>1</th>\n",
       "      <td>basin_Lake Nyasa</td>\n",
       "      <td>0.027230</td>\n",
       "    </tr>\n",
       "  </tbody>\n",
       "</table>\n",
       "</div>"
      ],
      "text/plain": [
       "                                        Features  Importances\n",
       "76                                  quantity_dry     0.194003\n",
       "100                        waterpoint_type_other     0.146969\n",
       "34                         extraction_type_other     0.040608\n",
       "96   waterpoint_type_communal standpipe multiple     0.031571\n",
       "43                            management_company     0.028345\n",
       "1                               basin_Lake Nyasa     0.027230"
      ]
     },
     "execution_count": 81,
     "metadata": {},
     "output_type": "execute_result"
    }
   ],
   "source": [
    "# Features with importances that are greater than 0.025\n",
    "feature_importance_df[feature_importance_df['Importances'] > 0.025].sort_values(by=['Importances'], ascending=False)"
   ]
  },
  {
   "cell_type": "markdown",
   "id": "0d08c5de",
   "metadata": {},
   "source": [
    "We can see from the dataframe that the feature quantity_dry had the biggest impact, ~19.4%, and waterpoint_type_other had the second biggest impact on the model, ~14.7%."
   ]
  },
  {
   "cell_type": "code",
   "execution_count": 82,
   "id": "52acc3cd",
   "metadata": {},
   "outputs": [
    {
     "data": {
      "image/png": "[encoded data removed]",
      "text/plain": [
       "<Figure size 720x432 with 1 Axes>"
      ]
     },
     "metadata": {
      "needs_background": "light"
     },
     "output_type": "display_data"
    }
   ],
   "source": [
    "df_top_important = feature_importance_df.sort_values(by=['Importances'], ascending=False)[:5]\n",
    "fig, ax = plt.subplots(figsize=(10,6))\n",
    "\n",
    "ax = sns.barplot(df_top_important['Features'], df_top_important['Importances'])\n",
    "ax.set_title('Most Important Features By Percent', fontsize=16)\n",
    "ax.set_ylabel('Importance(%)', fontsize=14)\n",
    "ax.set_xlabel('Features', fontsize=14)\n",
    "plt.xticks(rotation=20);"
   ]
  },
  {
   "cell_type": "markdown",
   "id": "351397aa",
   "metadata": {},
   "source": [
    "# Conclusion"
   ]
  },
  {
   "cell_type": "markdown",
   "id": "52eeb7b8",
   "metadata": {},
   "source": [
    "Our final model, XGBoost, gave us ~85% accuracy of predicting the functionality of the water pump.\n",
    "\n",
    "Our recommendations are:\n",
    "\n",
    "* Perform regular checks of water quantity for all pumps \n",
    "\n",
    "* Replace ‘other’ waterpoint types with gravity waterpoint types\n",
    "\n",
    "* Replace ‘other’ extraction types with communal standpipes or handpumps\n"
   ]
  }
 ],
 "metadata": {
  "kernelspec": {
   "display_name": "Python 3",
   "language": "python",
   "name": "python3"
  },
  "language_info": {
   "codemirror_mode": {
    "name": "ipython",
    "version": 3
   },
   "file_extension": ".py",
   "mimetype": "text/x-python",
   "name": "python",
   "nbconvert_exporter": "python",
   "pygments_lexer": "ipython3",
   "version": "3.8.8"
  }
 },
 "nbformat": 4,
 "nbformat_minor": 5
}
